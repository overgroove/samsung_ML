{
 "cells": [
  {
   "cell_type": "markdown",
   "id": "ae9e1d4d",
   "metadata": {},
   "source": [
    "# 다항회귀\n",
    "> 선형회귀의 경우 설명변수와 종속변수의 관계를 선형관계로 해석하지만 현실 문제는 선형으로 해결이 불가능한 경우가 많습니다.  \n",
    "선형모델의 구조적 한계를 보완하고자 **변수 간 영향력에 해당하는 새로운 변수를 생성**하여 방정식을 비선형으로 만들고 선형모델을 적용시킬 수 있습니다.  \n",
    "2차원 예시 $x_1, x_2, x_3$를 $x_1^2, x_2^2, x_3^2, x_1x_2, x_1x_3, x_2x_3$으로 변환하여 변수를 확장.  \n",
    "보통 2차원 또는 3차원까지 적용하며, 변수가 많아지므로 Ridge, Lasso 모델을 적용한다.\n",
    "<img src=\"./image/47.png\">"
   ]
  },
  {
   "cell_type": "markdown",
   "id": "f7948bbb",
   "metadata": {},
   "source": [
    "### 다항회귀 실습"
   ]
  },
  {
   "cell_type": "code",
   "execution_count": null,
   "id": "18c9cf64",
   "metadata": {},
   "outputs": [],
   "source": [
    "# boston 데이터 확인\n"
   ]
  },
  {
   "cell_type": "code",
   "execution_count": null,
   "id": "109354f4",
   "metadata": {},
   "outputs": [],
   "source": [
    "# 타겟데이터 분할\n"
   ]
  },
  {
   "cell_type": "code",
   "execution_count": null,
   "id": "1d357e7e",
   "metadata": {},
   "outputs": [],
   "source": [
    "# 훈련셋과 테스트셋 분리\n"
   ]
  },
  {
   "cell_type": "code",
   "execution_count": null,
   "id": "a35d94f2",
   "metadata": {},
   "outputs": [],
   "source": [
    "# 전처리 모델 import\n"
   ]
  },
  {
   "cell_type": "code",
   "execution_count": null,
   "id": "c00ea540",
   "metadata": {},
   "outputs": [],
   "source": [
    "# 다항변수 제작함수 인스턴스화\n",
    "\n",
    "'''\n",
    "파라메터\n",
    "degree=2 : 차수설정\n",
    "include_bias=False : 상수항 제거(필수)\n",
    "'''"
   ]
  },
  {
   "cell_type": "code",
   "execution_count": null,
   "id": "a14393ad",
   "metadata": {},
   "outputs": [],
   "source": [
    "# 변수 변환\n"
   ]
  },
  {
   "cell_type": "code",
   "execution_count": null,
   "id": "b6106f91",
   "metadata": {},
   "outputs": [],
   "source": [
    "# shape 확인\n"
   ]
  },
  {
   "cell_type": "code",
   "execution_count": null,
   "id": "cbd9c8f8",
   "metadata": {},
   "outputs": [],
   "source": [
    "# 변환식 반환\n"
   ]
  },
  {
   "cell_type": "code",
   "execution_count": null,
   "id": "c2757b57",
   "metadata": {},
   "outputs": [],
   "source": [
    "# 데이터프레임으로 제작 후 데이터 확인\n"
   ]
  },
  {
   "cell_type": "code",
   "execution_count": null,
   "id": "89356f8a",
   "metadata": {},
   "outputs": [],
   "source": [
    "# test 데이터 동일한 모델로 적용\n"
   ]
  },
  {
   "cell_type": "code",
   "execution_count": null,
   "id": "b9c50ca8",
   "metadata": {},
   "outputs": [],
   "source": [
    "# 모델 정의\n"
   ]
  },
  {
   "cell_type": "code",
   "execution_count": null,
   "id": "36e1f404",
   "metadata": {},
   "outputs": [],
   "source": [
    "# 모델 학습\n"
   ]
  },
  {
   "cell_type": "code",
   "execution_count": null,
   "id": "827c2d00",
   "metadata": {},
   "outputs": [],
   "source": [
    "# 모델 예측\n"
   ]
  },
  {
   "cell_type": "code",
   "execution_count": null,
   "id": "0cf7a72b",
   "metadata": {},
   "outputs": [],
   "source": [
    "# 모델 평가\n"
   ]
  },
  {
   "cell_type": "code",
   "execution_count": null,
   "id": "01a0b547",
   "metadata": {},
   "outputs": [],
   "source": [
    "# 모델 계수 확인\n"
   ]
  },
  {
   "cell_type": "code",
   "execution_count": null,
   "id": "360ccd1d",
   "metadata": {},
   "outputs": [],
   "source": [
    "# 계수 플로팅\n"
   ]
  }
 ],
 "metadata": {
  "kernelspec": {
   "display_name": "Python 3 (ipykernel)",
   "language": "python",
   "name": "python3"
  },
  "language_info": {
   "codemirror_mode": {
    "name": "ipython",
    "version": 3
   },
   "file_extension": ".py",
   "mimetype": "text/x-python",
   "name": "python",
   "nbconvert_exporter": "python",
   "pygments_lexer": "ipython3",
   "version": "3.8.12"
  },
  "toc": {
   "base_numbering": 1,
   "nav_menu": {},
   "number_sections": true,
   "sideBar": false,
   "skip_h1_title": true,
   "title_cell": "Table of Contents",
   "title_sidebar": "Contents",
   "toc_cell": false,
   "toc_position": {},
   "toc_section_display": true,
   "toc_window_display": false
  },
  "varInspector": {
   "cols": {
    "lenName": 16,
    "lenType": 16,
    "lenVar": 40
   },
   "kernels_config": {
    "python": {
     "delete_cmd_postfix": "",
     "delete_cmd_prefix": "del ",
     "library": "var_list.py",
     "varRefreshCmd": "print(var_dic_list())"
    },
    "r": {
     "delete_cmd_postfix": ") ",
     "delete_cmd_prefix": "rm(",
     "library": "var_list.r",
     "varRefreshCmd": "cat(var_dic_list()) "
    }
   },
   "types_to_exclude": [
    "module",
    "function",
    "builtin_function_or_method",
    "instance",
    "_Feature"
   ],
   "window_display": false
  }
 },
 "nbformat": 4,
 "nbformat_minor": 5
}
