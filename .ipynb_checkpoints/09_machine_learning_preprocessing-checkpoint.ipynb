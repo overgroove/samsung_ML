{
 "cells": [
  {
   "cell_type": "markdown",
   "metadata": {},
   "source": [
    "# 데이터 전처리\n",
    "> 수집한 데이터를 머신러닝 알고리즘을 운용할 수 있는 형태로 가공하는 작업을 지칭합니다.  \n",
    "데이터의 분할, 결측치, 범주형 데이터, 클래스 불균형 등 일반적인 데이터에서 발생 가능한 문제를 해결하는 일반적인 방법론을 지칭 하기도 합니다.  \n",
    "다만 데이터의 특성 및 사용해야 하는 모델 케이스에 따라 수행해야하는 전처리 과정이 달라 기술적인 어려움이 있습니다.  \n",
    "이번 시간에는 기본적인 전처리 방법들을 소개하고 샘플데이터에 적용하며 전처리 방법을 익혀 보겠습니다.  "
   ]
  },
  {
   "cell_type": "markdown",
   "metadata": {},
   "source": [
    "## titanic 데이터 설명\n",
    "> 타이타닉호에 승선했던 탑승자 정보를 담고 있는 데이터입니다. 데이터분석 필드에서는 교육용 및 입문용 데이터로 오랫동안 사랑받아 온 데이터이며  \n",
    "탑승자 정보를 바탕으로 이 탑승자가 생존했는지 혹은 사망했는지 분류하는 모델링을 목적으로 제작 된 데이터입니다.  \n",
    "\n",
    "**columns 정보**\n",
    "- pclass : 객실 등급  \n",
    "- survived : 생존 유무\n",
    "- name : 칭호를 포함한 이름\n",
    "- sex : 성별\n",
    "- age : 나이\n",
    "- sibsp : 형제 혹은 부부의 수\n",
    "- parch : 부모, 혹은 자녀의 수\n",
    "- ticket : 탑승권 종류 (각 숫자가 의미하는 바는 데이터를 통해 알 수 있는 것이 없을 수 있습니다.)\n",
    "- fare : 지불한 운임\n",
    "- cabin : 객실정보\n",
    "- embarked : 선착장정보\n",
    "- boat : 탈출한 보트가 있다면 boat 번호\n",
    "- body : 사망자의 시신 수습 후 부여한 일련번호\n",
    "- home : 출신"
   ]
  },
  {
   "cell_type": "markdown",
   "metadata": {},
   "source": [
    "## 결측 데이터 처리"
   ]
  },
  {
   "cell_type": "code",
   "execution_count": null,
   "metadata": {
    "ExecuteTime": {
     "end_time": "2022-11-18T22:54:16.602553Z",
     "start_time": "2022-11-18T22:54:16.208517Z"
    }
   },
   "outputs": [],
   "source": [
    "# 필요모듈 import\n"
   ]
  },
  {
   "cell_type": "code",
   "execution_count": null,
   "metadata": {
    "ExecuteTime": {
     "end_time": "2022-11-18T22:54:17.787867Z",
     "start_time": "2022-11-18T22:54:17.759485Z"
    }
   },
   "outputs": [],
   "source": [
    "# 타이타닉 데이터 로드\n"
   ]
  },
  {
   "cell_type": "code",
   "execution_count": null,
   "metadata": {
    "ExecuteTime": {
     "end_time": "2022-11-18T22:54:26.614050Z",
     "start_time": "2022-11-18T22:54:26.210472Z"
    }
   },
   "outputs": [],
   "source": [
    "# 결측 데이터 분포 시각화\n"
   ]
  },
  {
   "cell_type": "code",
   "execution_count": null,
   "metadata": {},
   "outputs": [],
   "source": [
    "# 상관관계분석\n"
   ]
  },
  {
   "cell_type": "markdown",
   "metadata": {},
   "source": [
    "이 중 cabin, home.dest 컬럼 데이터의 경우 결측치 비중이 높고 주변 데이터로부터 빈 데이터를 유추할 수 있는 힌트가 없어 삭제 처리 합니다."
   ]
  },
  {
   "cell_type": "code",
   "execution_count": null,
   "metadata": {},
   "outputs": [],
   "source": [
    "# 결측치 비율 계산\n"
   ]
  },
  {
   "cell_type": "code",
   "execution_count": null,
   "metadata": {
    "ExecuteTime": {
     "end_time": "2022-11-18T22:54:30.080537Z",
     "start_time": "2022-11-18T22:54:30.071707Z"
    }
   },
   "outputs": [],
   "source": [
    "# 여러가지 방법으로 컬럼 삭제\n"
   ]
  },
  {
   "cell_type": "code",
   "execution_count": null,
   "metadata": {},
   "outputs": [],
   "source": [
    "# 결측치 처리\n"
   ]
  },
  {
   "cell_type": "markdown",
   "metadata": {},
   "source": [
    "boat, body의 경우 유추하여 값을 채워 넣을 수 있는 데이터는 없지만 데이터의 존재 자체로서 생존 여부를 판단 할 수 있는 데이터이기에 데이터를 명목화 시키겠습니다."
   ]
  },
  {
   "cell_type": "markdown",
   "metadata": {},
   "source": [
    "## 범주형 변수의 처리\n",
    "> 카테고리컬 데이터라고도 하며 데이터가 특정 구간에 속하여 구분이 가능한 데이터 분포를 보이는 변수의 경우 범주형 데이터라 합니다.  \n",
    "범주형 데이터의 경우 보통 문자열 구분이 되어있어 컴퓨터가 인식 가능한 숫자형태로 바꿔주는데 이를 더미화, 혹은 원핫인코딩이라 합니다."
   ]
  },
  {
   "cell_type": "code",
   "execution_count": null,
   "metadata": {
    "ExecuteTime": {
     "end_time": "2022-11-18T22:54:36.953549Z",
     "start_time": "2022-11-18T22:54:36.943729Z"
    }
   },
   "outputs": [],
   "source": [
    "# 보트 컬럼의 결측치 여부를 이진형 데이터로 치환\n"
   ]
  },
  {
   "cell_type": "code",
   "execution_count": null,
   "metadata": {
    "ExecuteTime": {
     "end_time": "2022-11-18T22:54:38.473421Z",
     "start_time": "2022-11-18T22:54:38.464359Z"
    }
   },
   "outputs": [],
   "source": [
    "# True, False 변환\n"
   ]
  },
  {
   "cell_type": "code",
   "execution_count": null,
   "metadata": {
    "ExecuteTime": {
     "end_time": "2022-11-18T22:54:38.631306Z",
     "start_time": "2022-11-18T22:54:38.621778Z"
    }
   },
   "outputs": [],
   "source": [
    "# 컬럼데이터가 True면 1, False면 0 으로 변환하는 커스텀함수 제작\n"
   ]
  },
  {
   "cell_type": "code",
   "execution_count": null,
   "metadata": {
    "ExecuteTime": {
     "end_time": "2022-11-18T22:54:38.812070Z",
     "start_time": "2022-11-18T22:54:38.798087Z"
    }
   },
   "outputs": [],
   "source": [
    "# 컬럼데이터에 위에서 제작한 커스텀함수 적용\n"
   ]
  },
  {
   "cell_type": "markdown",
   "metadata": {},
   "source": [
    "## 카테고리가 여러개인 변수 처리 (문자열 처리)"
   ]
  },
  {
   "cell_type": "markdown",
   "metadata": {},
   "source": [
    "이름의 경우 미들네임에 따라 생존에 영향을 줄 수 있는 경우가 있습니다. 전체 미들네임에 해당하는 카테고리를 선택하지 않고 일부만을 데이터화 시킵니다."
   ]
  },
  {
   "cell_type": "code",
   "execution_count": null,
   "metadata": {
    "ExecuteTime": {
     "end_time": "2022-11-18T22:54:46.603843Z",
     "start_time": "2022-11-18T22:54:46.595053Z"
    }
   },
   "outputs": [],
   "source": [
    "# name 컬럼 첫번째 인덱스 데이터 선택해서 test_text로 저장\n"
   ]
  },
  {
   "cell_type": "code",
   "execution_count": null,
   "metadata": {},
   "outputs": [],
   "source": [
    "# 팬시인덱싱 내가 설정한 조건에 따라 데이터 선별\n"
   ]
  },
  {
   "cell_type": "code",
   "execution_count": null,
   "metadata": {
    "ExecuteTime": {
     "end_time": "2022-11-18T22:54:46.912773Z",
     "start_time": "2022-11-18T22:54:46.904767Z"
    }
   },
   "outputs": [],
   "source": [
    "# 선별텍스트에서 문자열만 선택\n"
   ]
  },
  {
   "cell_type": "code",
   "execution_count": null,
   "metadata": {
    "ExecuteTime": {
     "end_time": "2022-11-18T22:54:49.735540Z",
     "start_time": "2022-11-18T22:54:49.728976Z"
    }
   },
   "outputs": [],
   "source": [
    "# 미들네임 선택 함수\n"
   ]
  },
  {
   "cell_type": "code",
   "execution_count": null,
   "metadata": {
    "ExecuteTime": {
     "end_time": "2022-11-18T22:54:50.015810Z",
     "start_time": "2022-11-18T22:54:49.998278Z"
    }
   },
   "outputs": [],
   "source": [
    "# 미들네임 선택 함수 적용 후 name 컬럼 원본값 변경\n"
   ]
  },
  {
   "cell_type": "code",
   "execution_count": null,
   "metadata": {
    "ExecuteTime": {
     "end_time": "2022-11-18T22:54:50.520316Z",
     "start_time": "2022-11-18T22:54:50.511309Z"
    }
   },
   "outputs": [],
   "source": [
    "# name 컬럼의 문자열 그대로는 학습에 사용이 불가능하기에 이를 다시 숫자형태로 치환 + 기타 미들네임을 0으로 변환\n"
   ]
  },
  {
   "cell_type": "code",
   "execution_count": null,
   "metadata": {
    "ExecuteTime": {
     "end_time": "2022-11-18T22:54:53.527084Z",
     "start_time": "2022-11-18T22:54:53.515147Z"
    }
   },
   "outputs": [],
   "source": [
    "# 커스텀함수 적용\n"
   ]
  },
  {
   "cell_type": "code",
   "execution_count": null,
   "metadata": {
    "ExecuteTime": {
     "end_time": "2022-11-18T22:54:54.257782Z",
     "start_time": "2022-11-18T22:54:54.240660Z"
    }
   },
   "outputs": [],
   "source": [
    "# 데이터프레임 내부에 카테고리컬 컬럼을 원핫인코딩 변환 작업\n"
   ]
  },
  {
   "cell_type": "markdown",
   "metadata": {},
   "source": [
    "## 타겟, 학습데이터 분할"
   ]
  },
  {
   "cell_type": "code",
   "execution_count": null,
   "metadata": {
    "ExecuteTime": {
     "end_time": "2022-11-18T22:58:19.083959Z",
     "start_time": "2022-11-18T22:58:19.070709Z"
    }
   },
   "outputs": [],
   "source": [
    "# 타겟데이터 분할\n",
    "\n",
    "# 학습데이터 분할\n"
   ]
  },
  {
   "cell_type": "markdown",
   "metadata": {},
   "source": [
    "## 모델학습"
   ]
  },
  {
   "cell_type": "code",
   "execution_count": null,
   "metadata": {},
   "outputs": [],
   "source": [
    "# 모델 생성\n"
   ]
  },
  {
   "cell_type": "code",
   "execution_count": null,
   "metadata": {},
   "outputs": [],
   "source": [
    "# 모델 학습\n"
   ]
  },
  {
   "cell_type": "code",
   "execution_count": null,
   "metadata": {},
   "outputs": [],
   "source": [
    "# 모델 예측값 저장\n"
   ]
  },
  {
   "cell_type": "code",
   "execution_count": null,
   "metadata": {},
   "outputs": [],
   "source": [
    "# 모델 평가\n"
   ]
  },
  {
   "cell_type": "markdown",
   "metadata": {
    "ExecuteTime": {
     "end_time": "2022-11-18T22:39:32.711690Z",
     "start_time": "2022-11-18T22:39:32.705357Z"
    }
   },
   "source": [
    "## 스케일 조정\n",
    "> 사용해야 하는 머신러닝 모델의 특징에 따라 학습 및 테스트에 필요한 데이터의 스케일 보정이 필요한 경우가 있습니다.  \n",
    "이는 스케일이 큰 설명변수의 영향력이 비대해지는 문제를 방지하기 위해 사용합니다.\n",
    "\n",
    "가장 일반적으로 사용하는 스케일 보정 방법론 두가지를 사용해보겠습니다.\n",
    "\n",
    "> - normalization\n",
    ">> 설명변수의 범위를 0~1 사이로 조정\n",
    "> - standardization  \n",
    ">> 설명변수의 범위를 평균 0, 분산이 1이 되도록 조정, 정규분포를 표준 정규분포화 시키는 것과 같음."
   ]
  },
  {
   "cell_type": "code",
   "execution_count": null,
   "metadata": {
    "ExecuteTime": {
     "end_time": "2022-11-18T23:03:02.641274Z",
     "start_time": "2022-11-18T23:03:02.633527Z"
    }
   },
   "outputs": [],
   "source": [
    "# 스케일러 모델 로딩\n"
   ]
  },
  {
   "cell_type": "code",
   "execution_count": null,
   "metadata": {
    "ExecuteTime": {
     "end_time": "2022-11-18T23:03:39.704040Z",
     "start_time": "2022-11-18T23:03:39.699232Z"
    }
   },
   "outputs": [],
   "source": [
    "# 모델 생성\n"
   ]
  },
  {
   "cell_type": "code",
   "execution_count": null,
   "metadata": {
    "ExecuteTime": {
     "end_time": "2022-11-18T23:25:47.335122Z",
     "start_time": "2022-11-18T23:25:47.319094Z"
    }
   },
   "outputs": [],
   "source": [
    "# 모델 학습\n"
   ]
  },
  {
   "cell_type": "code",
   "execution_count": null,
   "metadata": {
    "ExecuteTime": {
     "end_time": "2022-11-18T23:26:05.279040Z",
     "start_time": "2022-11-18T23:26:05.266830Z"
    }
   },
   "outputs": [],
   "source": [
    "# 원 데이터 변환\n"
   ]
  },
  {
   "cell_type": "code",
   "execution_count": null,
   "metadata": {
    "ExecuteTime": {
     "end_time": "2022-11-18T23:26:07.810049Z",
     "start_time": "2022-11-18T23:26:07.786404Z"
    }
   },
   "outputs": [],
   "source": [
    "# 변환 데이터 확인\n"
   ]
  },
  {
   "cell_type": "code",
   "execution_count": null,
   "metadata": {
    "ExecuteTime": {
     "end_time": "2022-11-18T23:26:52.980905Z",
     "start_time": "2022-11-18T23:26:52.968658Z"
    }
   },
   "outputs": [],
   "source": [
    "# test 데이터에 적용\n"
   ]
  },
  {
   "cell_type": "markdown",
   "metadata": {},
   "source": [
    "## 클래스 불균형 (imbalance data)\n",
    "> 모델링 프로젝트를 진행하는 도중 실제 문제에 굉장히 빈번하게 발생하지만 해결이 어려운 문제가 클래스 불균형 문제입니다.  \n",
    "이는 학습에 필요한 충분한 클래스의 샘플 수를 확보하지 못해 모델의 결과값이 샘플 수가 큰 클래스로 편향되는 문제를 발생 시킵니다.  \n",
    "ex) 1000개 샘플 중 10개의 오류를 모두 정상이라 판별해도 acc는 99%입니다.  \n",
    "타겟 데이터의 불균형 문제를 해결하기 위한 방법으로 oversampling / undersampling을 활용 할 수 있습니다.\n",
    "\n",
    "> - oversampling\n",
    ">> 타겟데이터 클래스 샘플 수를 크기가 큰 타겟데이터 클래스 샘플 수와 같은 갯수로 생성\n",
    "> - undersampling\n",
    ">> 타겟데이터 클래스 샘플 수를 크기가 작은 타겟데이터 클래스 샘플 수와 같게 샘플 삭제"
   ]
  },
  {
   "cell_type": "code",
   "execution_count": null,
   "metadata": {},
   "outputs": [],
   "source": [
    "# imblearn 설치\n",
    "!pip install -U imbalanced-learn"
   ]
  },
  {
   "cell_type": "code",
   "execution_count": null,
   "metadata": {},
   "outputs": [],
   "source": [
    "# SMOTE import\n",
    "from imblearn.over_sampling import SMOTE"
   ]
  },
  {
   "cell_type": "code",
   "execution_count": null,
   "metadata": {
    "ExecuteTime": {
     "end_time": "2022-11-18T23:30:42.010669Z",
     "start_time": "2022-11-18T23:30:41.990174Z"
    }
   },
   "outputs": [],
   "source": [
    "# oversampling 적용\n",
    "# imblearn oversampling SMOTE (Synthetic Minority Oversampling Technique)\n"
   ]
  }
 ],
 "metadata": {
  "kernelspec": {
   "display_name": "Python 3 (ipykernel)",
   "language": "python",
   "name": "python3"
  },
  "language_info": {
   "codemirror_mode": {
    "name": "ipython",
    "version": 3
   },
   "file_extension": ".py",
   "mimetype": "text/x-python",
   "name": "python",
   "nbconvert_exporter": "python",
   "pygments_lexer": "ipython3",
   "version": "3.8.12"
  },
  "toc": {
   "base_numbering": 1,
   "nav_menu": {},
   "number_sections": true,
   "sideBar": true,
   "skip_h1_title": true,
   "title_cell": "Table of Contents",
   "title_sidebar": "Contents",
   "toc_cell": false,
   "toc_position": {},
   "toc_section_display": true,
   "toc_window_display": false
  },
  "varInspector": {
   "cols": {
    "lenName": 16,
    "lenType": 16,
    "lenVar": 40
   },
   "kernels_config": {
    "python": {
     "delete_cmd_postfix": "",
     "delete_cmd_prefix": "del ",
     "library": "var_list.py",
     "varRefreshCmd": "print(var_dic_list())"
    },
    "r": {
     "delete_cmd_postfix": ") ",
     "delete_cmd_prefix": "rm(",
     "library": "var_list.r",
     "varRefreshCmd": "cat(var_dic_list()) "
    }
   },
   "types_to_exclude": [
    "module",
    "function",
    "builtin_function_or_method",
    "instance",
    "_Feature"
   ],
   "window_display": false
  }
 },
 "nbformat": 4,
 "nbformat_minor": 2
}
