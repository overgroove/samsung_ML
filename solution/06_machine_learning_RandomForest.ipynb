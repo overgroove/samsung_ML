{
 "cells": [
  {
   "cell_type": "markdown",
   "id": "4ae9274f",
   "metadata": {},
   "source": [
    "## Random Forest\n",
    ">**`Random forest`** 는 **`Decision Tree`** 모델의 **모형 결합(ensemble)방법론**  \n",
    "\n",
    "### ensemble(앙상블)\n",
    "> **복수의 예측 모형을 결합**하여 더 나은 성능의 예측을 하려는 시도이다.  \n",
    "단일 모형을 사용할 때 보다 **성능 분산이 감소**하고, 즉 **과적합을 방지**한다.  \n",
    "개별 모형이 성능이 안좋을 경우에는 결합 모형의 성능이 더 향상된다.  \n",
    "앙상블 방법론에는 **배깅**, **부스팅**이 있다.\n",
    "\n",
    "<img src=\"./image/30.gif\">"
   ]
  },
  {
   "cell_type": "markdown",
   "id": "3fde42b6",
   "metadata": {},
   "source": [
    "#### bagging(배깅)\n",
    "> 개별 모델을 병렬로 구성하여 모델을 결합하는 방법론이다.  \n",
    "기존 학습데이터에서 **복원 추출**로 여러개의 sub sample 데이터셋을 만든 후 각 데이터셋을 병렬 구성 모델에 학습시켜 서로 다른 결과를 얻는다.  \n",
    "개별 모델의 결과값을 voting(투표법) 혹은 평균법을 사용하여 개별 모델 결과를 바탕으로 최종 추정치를 얻는다. \n",
    "<img src=\"./image/31.png\">"
   ]
  },
  {
   "cell_type": "markdown",
   "id": "007838e7",
   "metadata": {},
   "source": [
    "#### Random Forest Bootstrap Aggregating\n",
    "> **`Random forest`** 는 대표적인 배깅 방법론으로 weak model로 **`Decision Tree`** 를 사용한다.  \n",
    "배깅 사용 시 추가적으로 부트스트랩 방법론을 추가하여 모델 학습에 사용한다.  \n",
    "부트스트랩은 복원 추출 된 sub sample 데이터셋 생성 시 랜덤 샘플 및 feature를 선택하여 모델 학습에 사용한다.\n",
    "\n",
    "<img src=\"./image/32.jpeg\">"
   ]
  },
  {
   "cell_type": "markdown",
   "id": "f00abb76",
   "metadata": {},
   "source": [
    "### Ramdom Forest 실습"
   ]
  },
  {
   "cell_type": "code",
   "execution_count": null,
   "id": "7301f3a1",
   "metadata": {},
   "outputs": [],
   "source": [
    "# 모델 import\n",
    "from sklearn.ensemble import RandomForestRegressor"
   ]
  },
  {
   "cell_type": "markdown",
   "id": "c1908c54",
   "metadata": {},
   "source": [
    "### 과적합 방지를 위한 모델링 파라메터  \n",
    "> - **n_estimators** : 사용 할 트리 모델 갯수  \n",
    "- **max_depth** : 트리의 최대 깊이"
   ]
  },
  {
   "cell_type": "code",
   "execution_count": null,
   "id": "57c30c23",
   "metadata": {},
   "outputs": [],
   "source": [
    "# 모델 생성\n",
    "rfr = RandomForestRegressor(random_state=42)"
   ]
  },
  {
   "cell_type": "code",
   "execution_count": null,
   "id": "41e75b5f",
   "metadata": {},
   "outputs": [],
   "source": [
    "# 모델 학습\n",
    "rfr.fit(X_train, y_train)"
   ]
  },
  {
   "cell_type": "code",
   "execution_count": null,
   "id": "5957e159",
   "metadata": {},
   "outputs": [],
   "source": [
    "# 모델 예측\n",
    "rfr_pred = rfr.predict(X_test)"
   ]
  },
  {
   "cell_type": "code",
   "execution_count": null,
   "id": "46cf9fc4",
   "metadata": {},
   "outputs": [],
   "source": [
    "# 평가\n",
    "print(r2_score(y_test, rfr_pred))\n",
    "print(mean_squared_error(y_test, rfr_pred, squared=False))"
   ]
  }
 ],
 "metadata": {
  "kernelspec": {
   "display_name": "Python 3 (ipykernel)",
   "language": "python",
   "name": "python3"
  },
  "language_info": {
   "codemirror_mode": {
    "name": "ipython",
    "version": 3
   },
   "file_extension": ".py",
   "mimetype": "text/x-python",
   "name": "python",
   "nbconvert_exporter": "python",
   "pygments_lexer": "ipython3",
   "version": "3.10.9"
  }
 },
 "nbformat": 4,
 "nbformat_minor": 5
}
