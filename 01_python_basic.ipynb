{
 "cells": [
  {
   "cell_type": "markdown",
   "metadata": {},
   "source": [
    "# 주피터 노트북"
   ]
  },
  {
   "cell_type": "markdown",
   "metadata": {},
   "source": [
    "> - 데이터 분석가들이 가장 많이 사용하는 파이썬 편집 프로그램  \n",
    "> - 코드 작성부터 실행, 리포트 작성까지 활용가능  \n",
    "> - 기타 편집 프로그램으로 주피터 랩, 스파이더, 파이참, vscode등이 있음  \n",
    "> - 최근에는 클라우드 환경이 인기 Google Colaboratory"
   ]
  },
  {
   "cell_type": "markdown",
   "metadata": {},
   "source": [
    "## 특징"
   ]
  },
  {
   "cell_type": "code",
   "execution_count": 2,
   "metadata": {
    "ExecuteTime": {
     "end_time": "2023-07-11T02:02:18.072200Z",
     "start_time": "2023-07-11T02:02:18.065317Z"
    }
   },
   "outputs": [
    {
     "data": {
      "text/plain": [
       "90"
      ]
     },
     "execution_count": 2,
     "metadata": {},
     "output_type": "execute_result"
    }
   ],
   "source": [
    "# 셀 단위 실행\n",
    "# 결과값도 셀 단위 실행결과를 바로 확인 가능 (인터프리터 형태)\n",
    "# 기존 언어는 컴퓨터가 알아듣기 쉬운 언어 (어셈블리 형태)\n",
    "# 위에서 아래로\n",
    "# esc 키로 셀을 제어하는 커맨드 모드와 셀 내부 편집을 위한 에디트 모드 변경\n",
    "name = 100\n",
    "# 코드 편집과 마크다운 문법을 사용하여 리포트 형식으로도 활용가능\n",
    "40 + 50"
   ]
  },
  {
   "cell_type": "markdown",
   "metadata": {},
   "source": [
    "## 커맨드 모드 명령어"
   ]
  },
  {
   "cell_type": "code",
   "execution_count": null,
   "metadata": {},
   "outputs": [],
   "source": [
    "# 커맨드 모드 주로 사용하는 기능\n",
    "# 선택 셀 위에 셀 생성 - a\n",
    "# 선택 셀 아래에 셀 생성 - b\n",
    "# 선택 셀 삭제 - dd\n",
    "# 선택 셀 복사 - c\n",
    "# 선택 셀 잘라내기 - x\n",
    "# 선택 셀 붙여넣기 - v\n",
    "# 선택 셀 병합 - shift + m\n",
    "# 에디트 편집 - y\n",
    "# 마크다운 편집 - m"
   ]
  },
  {
   "cell_type": "markdown",
   "metadata": {},
   "source": [
    "## 에디트 모드 명령어"
   ]
  },
  {
   "cell_type": "code",
   "execution_count": 30,
   "metadata": {
    "ExecuteTime": {
     "end_time": "2023-07-11T02:17:23.540345Z",
     "start_time": "2023-07-11T02:17:23.529941Z"
    }
   },
   "outputs": [
    {
     "data": {
      "text/plain": [
       "30"
      ]
     },
     "execution_count": 30,
     "metadata": {},
     "output_type": "execute_result"
    }
   ],
   "source": [
    "# 에디트 모드 진입 - enter 혹은 마우스 클릭\n",
    "# 셀 실행 - shift + enter, ctl + enter\n",
    "# 주석 : 다른코드와 구별하기 위해서, 코드의 설명, 코드의 실행과는 전혀 관계없음\n",
    "'''docstring 기능설명\n",
    "주석처리 할 여러줄의 텍스트를 \n",
    "넣어주시면 됩니다.\n",
    "'''\n",
    "10 + 20\n",
    "# 특수기호 샵 뒤에 전달하는 텍스트는 코드의 실행과는 관계없는 코드의 설명을 넣는 주석 (필기)"
   ]
  },
  {
   "cell_type": "markdown",
   "metadata": {},
   "source": [
    "# 코딩, 프로그래밍"
   ]
  },
  {
   "cell_type": "markdown",
   "metadata": {},
   "source": [
    "> - **코드**란? -> 컴퓨터가 알아들을 수 있는 명령들의 집합  \n",
    ">> - **코딩**을 한다, 코드를 짠다 -> 곧 컴퓨터가 알아들을 수 있는 명령어를 작성하는 행위  \n",
    ">> - **프로그램**이란? ->컴퓨터에게 작업을 지시하는 코드의 집합  "
   ]
  },
  {
   "cell_type": "markdown",
   "metadata": {
    "slideshow": {
     "slide_type": "-"
    }
   },
   "source": [
    "> 고급 프로그래밍 언어 (실제 사람이 사용하는 언어와 비슷한 형태를 지님)\n",
    ">> - 영문법과 굉장히 비슷한 문법진행을 한다.\n",
    ">> - 배우기 쉽다."
   ]
  },
  {
   "cell_type": "markdown",
   "metadata": {},
   "source": [
    "# 변수(variable)와 저장(define)"
   ]
  },
  {
   "cell_type": "markdown",
   "metadata": {},
   "source": [
    "컴퓨터에 데이터를 저장하기 위해서 우리는 변수를 사용합니다. 변수는 말 그대로 변할 수 있는 대상  \n",
    "저장한 데이터를 다시 사용하기 위해서도 변수를 사용  "
   ]
  },
  {
   "cell_type": "code",
   "execution_count": null,
   "metadata": {},
   "outputs": [],
   "source": [
    "# 저장, 할당, define, 바인딩 <---- 변수에 값을 저장하는 작업"
   ]
  },
  {
   "cell_type": "code",
   "execution_count": 34,
   "metadata": {
    "ExecuteTime": {
     "end_time": "2023-07-11T02:28:37.992019Z",
     "start_time": "2023-07-11T02:28:37.985838Z"
    }
   },
   "outputs": [],
   "source": [
    "# 변수 선언하고 값 저장하기\n",
    "a = 14141 # 앞으로 a라는 이름값을 사용해서 값을 저장하고 여기에 숫자 10을 저장\n",
    "# 컴퓨터에 값을 저장 메모리(id)에 저장 id 값은 사람이 이해하고 쓰기 어려운 형태, 사람이 이해하기 좋은 이름값\n",
    "# 변수명"
   ]
  },
  {
   "cell_type": "code",
   "execution_count": 35,
   "metadata": {
    "ExecuteTime": {
     "end_time": "2023-07-11T02:28:43.802370Z",
     "start_time": "2023-07-11T02:28:43.787187Z"
    }
   },
   "outputs": [
    {
     "data": {
      "text/plain": [
       "14141"
      ]
     },
     "execution_count": 35,
     "metadata": {},
     "output_type": "execute_result"
    }
   ],
   "source": [
    "# 변수 호출, 콜한다.\n",
    "a"
   ]
  },
  {
   "cell_type": "markdown",
   "metadata": {},
   "source": [
    "## 변수의 종류(dtype) : 변수에 저장할 수 있는 값의 데이터타입\n",
    "\n",
    "> - 정수 **`int`**  \n",
    "> - 실수 **`float`**  \n",
    "> - 문자열 **`str`**  \n",
    "> - 불리언 **`bool`**"
   ]
  },
  {
   "cell_type": "code",
   "execution_count": 38,
   "metadata": {
    "ExecuteTime": {
     "end_time": "2023-07-11T04:07:20.504315Z",
     "start_time": "2023-07-11T04:07:20.499225Z"
    }
   },
   "outputs": [],
   "source": [
    "# 변수를 만들어보겠습니다.\n",
    "\n",
    "# name라는 이름을 가진 변수(저장공간)을 만들고 본인의 이름을 저장한다.\n",
    "# 문자열의 저장은 ' ', \" \"로 감싼 텍스트로 가능하다.\n",
    "name = 'Eddy'\n",
    "# weight라는 이름을 가진 변수(저장공간)을 만들고 실수(소수점을 포함한)를 저장한다.\n",
    "weight = 81.34\n",
    "# hight라는 이름을 가진 변수(저장공간)을 만들고 정수를 저장한다.\n",
    "hight = 172\n",
    "# job라는 이름을 가진 변수(저장공간)을 만들고 문자를 저장한다\n",
    "job = '데이터과학자'"
   ]
  },
  {
   "cell_type": "code",
   "execution_count": 39,
   "metadata": {
    "ExecuteTime": {
     "end_time": "2023-07-11T04:07:38.191186Z",
     "start_time": "2023-07-11T04:07:38.184255Z"
    }
   },
   "outputs": [
    {
     "data": {
      "text/plain": [
       "('Eddy', 81.34, 172, '데이터과학자')"
      ]
     },
     "execution_count": 39,
     "metadata": {},
     "output_type": "execute_result"
    }
   ],
   "source": [
    "# 변수의 호출, 사용\n",
    "name, weight, hight, job"
   ]
  },
  {
   "cell_type": "markdown",
   "metadata": {},
   "source": [
    "## 변수 이름짓기"
   ]
  },
  {
   "cell_type": "markdown",
   "metadata": {},
   "source": [
    "변수는 데이터를 식별 할 수 있는 단어가 좋음. 네이밍에 꽤 오랜시간을 소요함.\n",
    "\n",
    ">변수 사용 문법규칙\n",
    "> - 대소문자 구분 A, a\n",
    "> - 한글사용 가능 (추천하지 않음)\n",
    "> - 띄어쓰기 금지\n",
    "> - 특수문자 _만 가능\n",
    "> - 숫자 가능, 숫자로 시작 X\n",
    "> - 예약어 금지(문법용어나 특수한 단어를 변수명으로 사용금지)\n",
    "\n",
    "> 관례적규칙\n",
    "> - 동사, 명사 - 형용사금지  \n",
    "\n",
    "> 파이썬 권장 스타일 (PE)\n",
    "https://www.python.org/dev/peps/pep-0008/  \n",
    "\n",
    ">> - 변수 my_name  \n",
    ">> - 함수 my_name  \n",
    ">> - 클래스 MyName  \n",
    ">> - 파일명 my_name"
   ]
  },
  {
   "cell_type": "code",
   "execution_count": null,
   "metadata": {},
   "outputs": [],
   "source": [
    "# python 예약어\n",
    "# 예약어는 변수명 혹은 명령어이름으로 쓸 수 없습니다.\n",
    "# 기억할 필요는 없지만 눈으로만 확인 해 봅시다.\n",
    "# 주피터 노트북으로 코딩 시 초록색 반전이 일어남\n",
    "# 파이썬에서 특정 작동을 위해 미리 선점해둔 키워드\n",
    "\n",
    "int float str bool\n",
    "sum min max sorted\n",
    "list dict tuple set\n",
    "and exec not\n",
    "assert finally or\n",
    "break for pass\n",
    "class from print\n",
    "continue global raise\n",
    "def if return\n",
    "del import try\n",
    "elif in while\n",
    "else is with\n",
    "except lambda yield"
   ]
  },
  {
   "cell_type": "markdown",
   "metadata": {},
   "source": [
    "## 변수(값)의 형변환(Type Casting)\n",
    "> **`int()`**, **`float()`**, **`str()`** 함수를 사용  \n",
    ">>변환해야 할 데이터를 `함수명()` 소괄호 안에 넣어줌  \n",
    ">> ex) `int('5')`, `float('3.14')`, `str(10)`"
   ]
  },
  {
   "cell_type": "code",
   "execution_count": null,
   "metadata": {},
   "outputs": [],
   "source": [
    "y = f(x)\n",
    "# 입력값으로 x 넣어주고 함수 처리를 한 후 결과값으로 y값을 돌려받음"
   ]
  },
  {
   "cell_type": "code",
   "execution_count": 48,
   "metadata": {
    "ExecuteTime": {
     "end_time": "2023-07-11T04:18:25.246571Z",
     "start_time": "2023-07-11T04:18:25.236035Z"
    }
   },
   "outputs": [
    {
     "data": {
      "text/plain": [
       "20"
      ]
     },
     "execution_count": 48,
     "metadata": {},
     "output_type": "execute_result"
    }
   ],
   "source": [
    "int(20) # 함수, 메소드, function, 기능"
   ]
  },
  {
   "cell_type": "code",
   "execution_count": 45,
   "metadata": {
    "ExecuteTime": {
     "end_time": "2023-07-11T04:15:40.833222Z",
     "start_time": "2023-07-11T04:15:40.826617Z"
    }
   },
   "outputs": [
    {
     "data": {
      "text/plain": [
       "5.123124"
      ]
     },
     "execution_count": 45,
     "metadata": {},
     "output_type": "execute_result"
    }
   ],
   "source": [
    "# 형변환 테스트\n",
    "# 문자열로 전달받은 값을 정수형태로 변환합니다.\n",
    "# 기존 문자열로 저장한 input_val 변수를 정수로 형변환 해서 input_val 에 다시 저장\n",
    "float('5.123124')"
   ]
  },
  {
   "cell_type": "code",
   "execution_count": 49,
   "metadata": {
    "ExecuteTime": {
     "end_time": "2023-07-11T04:20:06.799316Z",
     "start_time": "2023-07-11T04:20:06.772210Z"
    }
   },
   "outputs": [
    {
     "ename": "ValueError",
     "evalue": "invalid literal for int() with base 10: '안녕하세요'",
     "output_type": "error",
     "traceback": [
      "\u001b[0;31m---------------------------------------------------------------------------\u001b[0m",
      "\u001b[0;31mValueError\u001b[0m                                Traceback (most recent call last)",
      "Cell \u001b[0;32mIn [49], line 4\u001b[0m\n\u001b[1;32m      1\u001b[0m \u001b[38;5;66;03m# 실수로 변환합니다.\u001b[39;00m\n\u001b[1;32m      2\u001b[0m \u001b[38;5;66;03m# 실제 숫자라면 문자열 -> 정수 및 실수변환은 문제없이 잘 이루어집니다.\u001b[39;00m\n\u001b[1;32m      3\u001b[0m \u001b[38;5;66;03m# 기존 정수 저장한 input_val 변수를 실수로 형변환 해서 float_input_val 에 다시 저장\u001b[39;00m\n\u001b[0;32m----> 4\u001b[0m \u001b[38;5;28;43mint\u001b[39;49m\u001b[43m(\u001b[49m\u001b[38;5;124;43m'\u001b[39;49m\u001b[38;5;124;43m안녕하세요\u001b[39;49m\u001b[38;5;124;43m'\u001b[39;49m\u001b[43m)\u001b[49m\n",
      "\u001b[0;31mValueError\u001b[0m: invalid literal for int() with base 10: '안녕하세요'"
     ]
    }
   ],
   "source": [
    "# 실수로 변환합니다.\n",
    "# 실제 숫자라면 문자열 -> 정수 및 실수변환은 문제없이 잘 이루어집니다.\n",
    "# 기존 정수 저장한 input_val 변수를 실수로 형변환 해서 float_input_val 에 다시 저장\n",
    "int('안녕하세요')"
   ]
  },
  {
   "cell_type": "code",
   "execution_count": 56,
   "metadata": {
    "ExecuteTime": {
     "end_time": "2023-07-11T04:23:05.883768Z",
     "start_time": "2023-07-11T04:23:05.872574Z"
    }
   },
   "outputs": [
    {
     "data": {
      "text/plain": [
       "'123121.141412'"
      ]
     },
     "execution_count": 56,
     "metadata": {},
     "output_type": "execute_result"
    }
   ],
   "source": [
    "# 문자열 -> 정수 및 실수 변환은 가능할까요? 조건에 따라 가능\n",
    "# 문자열 > 실수 > 정수\n",
    "str(123121.141412)"
   ]
  },
  {
   "cell_type": "markdown",
   "metadata": {},
   "source": [
    "# 출력(print)\n",
    "> - **`print()`** 함수는 출력을 위한 파이썬 기본 함수  \n",
    "> - **`print`**(출력할 내용을 소괄호 안에 넣어서 실행시킴)\n",
    "> - 소괄호 안에는 숫자, 따옴표로 감싼 문자, 변수 가능  \n",
    "> - 따옴표는 `''`(작은따옴표), `\"\"`(큰 따옴표) 모두 가능 `' \" \" '`형태로 텍스트 안의 텍스트를 다른 따옴표로 감쌀 수 있음  "
   ]
  },
  {
   "cell_type": "code",
   "execution_count": 58,
   "metadata": {
    "ExecuteTime": {
     "end_time": "2023-07-11T04:25:22.702592Z",
     "start_time": "2023-07-11T04:25:22.694663Z"
    }
   },
   "outputs": [
    {
     "name": "stdout",
     "output_type": "stream",
     "text": [
      "Eddy\n"
     ]
    }
   ],
   "source": [
    "# 숫자 변수 출력 테스트 print() 명령어는 전달받은 변수를 출력합니다.\n",
    "print(name)"
   ]
  },
  {
   "cell_type": "code",
   "execution_count": 60,
   "metadata": {
    "ExecuteTime": {
     "end_time": "2023-07-11T04:25:41.731083Z",
     "start_time": "2023-07-11T04:25:41.724584Z"
    }
   },
   "outputs": [
    {
     "name": "stdout",
     "output_type": "stream",
     "text": [
      "안녕하세요\n"
     ]
    }
   ],
   "source": [
    "# 문자 변수 출력 테스트\n",
    "print('안녕하세요')\n",
    "# print 명령어를 사용하지 않으면 데이터타입에 따라 값을 출력\n"
   ]
  },
  {
   "cell_type": "markdown",
   "metadata": {},
   "source": [
    "변수형태로 저장되어 있는 값만 출력하지는 않습니다. 출력값을 `print()` 함수에 직접 전달도 가능합니다."
   ]
  },
  {
   "cell_type": "code",
   "execution_count": 61,
   "metadata": {
    "ExecuteTime": {
     "end_time": "2023-07-11T04:26:11.954727Z",
     "start_time": "2023-07-11T04:26:11.946391Z"
    }
   },
   "outputs": [
    {
     "name": "stdout",
     "output_type": "stream",
     "text": [
      "Hello world!\n"
     ]
    }
   ],
   "source": [
    "# Hello world!\n",
    "print('Hello world!')"
   ]
  },
  {
   "cell_type": "markdown",
   "metadata": {},
   "source": [
    "## 변수값을 포함한 문자열 출력"
   ]
  },
  {
   "cell_type": "code",
   "execution_count": 70,
   "metadata": {
    "ExecuteTime": {
     "end_time": "2023-07-11T04:34:32.686317Z",
     "start_time": "2023-07-11T04:34:32.680811Z"
    }
   },
   "outputs": [
    {
     "name": "stdout",
     "output_type": "stream",
     "text": [
      "제 이름은 Eddy입니다. 키는 172이고 몸무게는 81.34입니다.\n",
      "제 이름은 Eddy입니다. 키는 172이고 몸무게는 81.34입니다.\n"
     ]
    }
   ],
   "source": [
    "# New format string\n",
    "# 파이썬 3.6버전 이후 권장하는 출력방식\n",
    "# 기존 format string 보다 사람이 보기에 직관적이고 명확한 문자와 변수간 관계 확인이 가능하다.\n",
    "print(f'제 이름은 {name}입니다. 키는 {hight}이고 몸무게는 {weight}입니다.')\n",
    "print('제 이름은 {}입니다. 키는 {}이고 몸무게는 {}입니다.'.format(name, hight, weight))"
   ]
  },
  {
   "cell_type": "markdown",
   "metadata": {},
   "source": [
    "## 출력 연습문제"
   ]
  },
  {
   "cell_type": "code",
   "execution_count": 72,
   "metadata": {
    "ExecuteTime": {
     "end_time": "2023-07-11T04:36:36.999686Z",
     "start_time": "2023-07-11T04:36:36.992558Z"
    }
   },
   "outputs": [
    {
     "name": "stdout",
     "output_type": "stream",
     "text": [
      "어머니는 '짜장면이 싫다'고 하셨지\n"
     ]
    }
   ],
   "source": [
    "# print()함수를 사용하여 아래 문장을 출력해 봅시다.\n",
    "print(\"어머니는 '짜장면이 싫다'고 하셨지\")"
   ]
  },
  {
   "cell_type": "code",
   "execution_count": 67,
   "metadata": {
    "ExecuteTime": {
     "end_time": "2021-03-20T09:33:27.678125Z",
     "start_time": "2021-03-20T09:33:27.675145Z"
    }
   },
   "outputs": [
    {
     "name": "stdout",
     "output_type": "stream",
     "text": [
      "어머니는 '짜장면이 싫다'고 하셨지\n"
     ]
    }
   ],
   "source": [
    "# 위의 코드 실행 결과가 아래와 같아야 합니다."
   ]
  },
  {
   "cell_type": "code",
   "execution_count": 77,
   "metadata": {
    "ExecuteTime": {
     "end_time": "2023-07-11T04:40:44.270258Z",
     "start_time": "2023-07-11T04:40:44.258266Z"
    }
   },
   "outputs": [
    {
     "name": "stdout",
     "output_type": "stream",
     "text": [
      "          영수증          \n",
      "------------------------\n",
      "아이스아메리카노     4500원\n",
      "카페라떼           4,500원\n",
      "치즈케잌           6,000원\n",
      "-----------------------\n",
      "total           15,000원\n",
      "\n",
      "이용해 주셔서 감사합니다.\n",
      "------------------------\n",
      "\n",
      "          영수증          \n",
      "------------------------\n",
      "아이스아메리카노     4,500원\n",
      "카페라떼           4,500원\n",
      "치즈케잌           6,000원\n",
      "-----------------------\n",
      "total           15,000원\n",
      "\n",
      "이용해 주셔서 감사합니다.\n",
      "------------------------\n"
     ]
    }
   ],
   "source": [
    "# print() 함수를 줄바꿈해서 사용하면 연속해서 값을 출력할 수 있습니다.\n",
    "# 이를 활용하여 아래 영수증을 출력해 봅시다.\n",
    "item1 = '아이스아메리카노'\n",
    "price1 = 4500\n",
    "print('          영수증          ')\n",
    "print('------------------------')\n",
    "print(f'{item1}     {price1}원')\n",
    "print('카페라떼           4,500원')\n",
    "print('치즈케잌           6,000원')\n",
    "print('-----------------------')\n",
    "print('total           15,000원')\n",
    "print()\n",
    "print('이용해 주셔서 감사합니다.')\n",
    "print('------------------------')\n",
    "\n",
    "text = '''\n",
    "          영수증          \n",
    "------------------------\n",
    "아이스아메리카노     4,500원\n",
    "카페라떼           4,500원\n",
    "치즈케잌           6,000원\n",
    "-----------------------\n",
    "total           15,000원\n",
    "\n",
    "이용해 주셔서 감사합니다.\n",
    "------------------------'''\n",
    "print(text)"
   ]
  },
  {
   "cell_type": "code",
   "execution_count": 46,
   "metadata": {},
   "outputs": [
    {
     "name": "stdout",
     "output_type": "stream",
     "text": [
      "          영수증          \n",
      "------------------------\n",
      "아이스아메리카노     4,500원\n",
      "카페라떼           4,500원\n",
      "치즈케잌           6,000원\n",
      "-----------------------\n",
      "total           15,000원\n",
      "\n",
      "이용해 주셔서 감사합니다.\n",
      "------------------------\n"
     ]
    }
   ],
   "source": [
    "# 위의 코드 실행 결과가 아래와 같아야 합니다."
   ]
  },
  {
   "cell_type": "markdown",
   "metadata": {},
   "source": [
    "# 연산"
   ]
  },
  {
   "cell_type": "markdown",
   "metadata": {},
   "source": [
    "## 사칙연산"
   ]
  },
  {
   "cell_type": "code",
   "execution_count": null,
   "metadata": {
    "ExecuteTime": {
     "end_time": "2021-03-20T09:44:40.937815Z",
     "start_time": "2021-03-20T09:44:40.933869Z"
    }
   },
   "outputs": [],
   "source": [
    "'''\n",
    "+  : 더하기\n",
    "-  : 빼기\n",
    "*  : 곱하기\n",
    "** : 거듭제곱\n",
    "/  : 나누기\n",
    "// : 몫\n",
    "%  : 나머지\n",
    "+= : 증가\n",
    "-= : 감소\n",
    "'''"
   ]
  },
  {
   "cell_type": "code",
   "execution_count": 80,
   "metadata": {
    "ExecuteTime": {
     "end_time": "2023-07-11T04:42:14.031575Z",
     "start_time": "2023-07-11T04:42:14.023562Z"
    }
   },
   "outputs": [
    {
     "data": {
      "text/plain": [
       "1"
      ]
     },
     "execution_count": 80,
     "metadata": {},
     "output_type": "execute_result"
    }
   ],
   "source": [
    "# 사칙연산 테스트\n",
    "# 값의 사칙연산\n",
    "10 % 3 "
   ]
  },
  {
   "cell_type": "code",
   "execution_count": 81,
   "metadata": {
    "ExecuteTime": {
     "end_time": "2023-07-11T04:43:09.264326Z",
     "start_time": "2023-07-11T04:43:09.260818Z"
    }
   },
   "outputs": [],
   "source": [
    "a = 10"
   ]
  },
  {
   "cell_type": "code",
   "execution_count": 130,
   "metadata": {
    "ExecuteTime": {
     "end_time": "2023-07-11T04:43:50.527856Z",
     "start_time": "2023-07-11T04:43:50.517612Z"
    }
   },
   "outputs": [
    {
     "name": "stdout",
     "output_type": "stream",
     "text": [
      "-29\n"
     ]
    }
   ],
   "source": [
    "a -= 3\n",
    "print(a)"
   ]
  },
  {
   "cell_type": "code",
   "execution_count": 132,
   "metadata": {
    "ExecuteTime": {
     "end_time": "2023-07-11T04:44:26.630828Z",
     "start_time": "2023-07-11T04:44:26.619061Z"
    }
   },
   "outputs": [
    {
     "data": {
      "text/plain": [
       "2.114580772067863"
      ]
     },
     "execution_count": 132,
     "metadata": {},
     "output_type": "execute_result"
    }
   ],
   "source": [
    "# 변수의 사칙연산 또한 가능\n",
    "hight / weight"
   ]
  },
  {
   "cell_type": "code",
   "execution_count": 134,
   "metadata": {
    "ExecuteTime": {
     "end_time": "2023-07-11T04:45:53.878633Z",
     "start_time": "2023-07-11T04:45:53.869075Z"
    }
   },
   "outputs": [
    {
     "data": {
      "text/plain": [
       "'1010101010'"
      ]
     },
     "execution_count": 134,
     "metadata": {},
     "output_type": "execute_result"
    }
   ],
   "source": [
    "# 문자열의 덧셈연산\n",
    "'10' + '20'\n",
    "# 문자열의 곱연산\n",
    "'10' * 5"
   ]
  },
  {
   "cell_type": "markdown",
   "metadata": {},
   "source": [
    "## 사칙연산 연습문제"
   ]
  },
  {
   "cell_type": "code",
   "execution_count": 135,
   "metadata": {
    "ExecuteTime": {
     "end_time": "2023-07-11T05:08:11.103417Z",
     "start_time": "2023-07-11T05:08:11.096865Z"
    }
   },
   "outputs": [
    {
     "name": "stdout",
     "output_type": "stream",
     "text": [
      "금일 자정부터 총 50836초가 흘렀습니다.\n"
     ]
    }
   ],
   "source": [
    "# 현재 시간, 분, 초를 각각 변수로 저장하고\n",
    "# 연산을 통해 금일 자정부터 몇초가 지났는 지 출력해보세요.\n",
    "# 출력 결과값 <==== 금일 자정부터 총 123231초가 흘렀습니다.\n",
    "hour = 14\n",
    "minute = 7\n",
    "second = 16\n",
    "total = (14 * 3600) + (7 * 60) + 16\n",
    "print(f'금일 자정부터 총 {total}초가 흘렀습니다.')"
   ]
  },
  {
   "cell_type": "markdown",
   "metadata": {},
   "source": [
    "## 조건연산\n",
    ">`and`, `&`  : 동시충족  \n",
    "`or`, `|` : 조건충족  \n",
    "`in` : 보유여부  (멤버연산자라 부릅니다)  \n",
    "`is` : 같음여부\n",
    "`not` : 다름여부  \n",
    "`==` : 같은값인지 확인  \n",
    "`!=`: 다른값인지 확인  \n",
    "`<`, `>`, `<=`, `>=` : 대소비교  \n",
    "\n",
    ">`bool` 타입으로 결과값을 내준다.  \n",
    "참인지 거짓인지 `True`, `False`로 구분가능한 데이터"
   ]
  },
  {
   "cell_type": "code",
   "execution_count": 137,
   "metadata": {
    "ExecuteTime": {
     "end_time": "2023-07-11T05:09:29.092884Z",
     "start_time": "2023-07-11T05:09:29.081036Z"
    }
   },
   "outputs": [
    {
     "data": {
      "text/plain": [
       "True"
      ]
     },
     "execution_count": 137,
     "metadata": {},
     "output_type": "execute_result"
    }
   ],
   "source": [
    "# 조건연산 테스트\n",
    "# 대소비교\n",
    "10 >= 10"
   ]
  },
  {
   "cell_type": "code",
   "execution_count": 139,
   "metadata": {
    "ExecuteTime": {
     "end_time": "2023-07-11T05:09:52.746773Z",
     "start_time": "2023-07-11T05:09:52.739329Z"
    }
   },
   "outputs": [
    {
     "data": {
      "text/plain": [
       "False"
      ]
     },
     "execution_count": 139,
     "metadata": {},
     "output_type": "execute_result"
    }
   ],
   "source": [
    "# 변수를 전달하여 연산도 가능하다\n",
    "# 대소비교\n",
    "hight < weight"
   ]
  },
  {
   "cell_type": "code",
   "execution_count": 142,
   "metadata": {
    "ExecuteTime": {
     "end_time": "2023-07-11T05:11:50.638678Z",
     "start_time": "2023-07-11T05:11:50.625502Z"
    }
   },
   "outputs": [
    {
     "data": {
      "text/plain": [
       "False"
      ]
     },
     "execution_count": 142,
     "metadata": {},
     "output_type": "execute_result"
    }
   ],
   "source": [
    "# 문자열의 보유여부(멤버연산자)\n",
    "'안녕' not in '안녕하세요' # '안녕'문자열이 뒤에 전달하는 변수 혹은 값에 포함이면\n",
    "# 변수로도 가능\n"
   ]
  },
  {
   "cell_type": "code",
   "execution_count": 146,
   "metadata": {
    "ExecuteTime": {
     "end_time": "2023-07-11T05:12:48.560867Z",
     "start_time": "2023-07-11T05:12:48.546942Z"
    }
   },
   "outputs": [
    {
     "name": "stderr",
     "output_type": "stream",
     "text": [
      "<>:3: SyntaxWarning: \"is not\" with a literal. Did you mean \"!=\"?\n",
      "<>:3: SyntaxWarning: \"is not\" with a literal. Did you mean \"!=\"?\n",
      "/var/folders/6j/f828g8hs1bj6c6tlyxt103q00000gn/T/ipykernel_49838/1375055125.py:3: SyntaxWarning: \"is not\" with a literal. Did you mean \"!=\"?\n",
      "  10 is not 8\n"
     ]
    },
    {
     "data": {
      "text/plain": [
       "True"
      ]
     },
     "execution_count": 146,
     "metadata": {},
     "output_type": "execute_result"
    }
   ],
   "source": [
    "# 같음 다름 여부\n",
    "10 == 8\n",
    "10 is not 8"
   ]
  },
  {
   "cell_type": "code",
   "execution_count": 147,
   "metadata": {
    "ExecuteTime": {
     "end_time": "2023-07-11T05:13:16.165804Z",
     "start_time": "2023-07-11T05:13:16.149274Z"
    }
   },
   "outputs": [
    {
     "data": {
      "text/plain": [
       "True"
      ]
     },
     "execution_count": 147,
     "metadata": {},
     "output_type": "execute_result"
    }
   ],
   "source": [
    "# 같음 다름 여부\n",
    "10 != 8 "
   ]
  }
 ],
 "metadata": {
  "kernelspec": {
   "display_name": "Python 3 (ipykernel)",
   "language": "python",
   "name": "python3"
  },
  "language_info": {
   "codemirror_mode": {
    "name": "ipython",
    "version": 3
   },
   "file_extension": ".py",
   "mimetype": "text/x-python",
   "name": "python",
   "nbconvert_exporter": "python",
   "pygments_lexer": "ipython3",
   "version": "3.8.12"
  },
  "toc": {
   "base_numbering": 1,
   "nav_menu": {},
   "number_sections": true,
   "sideBar": true,
   "skip_h1_title": false,
   "title_cell": "Table of Contents",
   "title_sidebar": "Contents",
   "toc_cell": false,
   "toc_position": {
    "height": "calc(100% - 180px)",
    "left": "10px",
    "top": "150px",
    "width": "206.919px"
   },
   "toc_section_display": true,
   "toc_window_display": false
  },
  "varInspector": {
   "cols": {
    "lenName": 16,
    "lenType": 16,
    "lenVar": 40
   },
   "kernels_config": {
    "python": {
     "delete_cmd_postfix": "",
     "delete_cmd_prefix": "del ",
     "library": "var_list.py",
     "varRefreshCmd": "print(var_dic_list())"
    },
    "r": {
     "delete_cmd_postfix": ") ",
     "delete_cmd_prefix": "rm(",
     "library": "var_list.r",
     "varRefreshCmd": "cat(var_dic_list()) "
    }
   },
   "types_to_exclude": [
    "module",
    "function",
    "builtin_function_or_method",
    "instance",
    "_Feature"
   ],
   "window_display": false
  }
 },
 "nbformat": 4,
 "nbformat_minor": 2
}
