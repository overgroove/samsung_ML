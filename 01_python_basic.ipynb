{
 "cells": [
  {
   "cell_type": "markdown",
   "metadata": {},
   "source": [
    "# 주피터 노트북"
   ]
  },
  {
   "cell_type": "markdown",
   "metadata": {},
   "source": [
    "> - 데이터 분석가들이 가장 많이 사용하는 파이썬 편집 프로그램  \n",
    "> - 코드 작성부터 실행, 리포트 작성까지 활용가능  \n",
    "> - 기타 편집 프로그램으로 주피터 랩, 스파이더, 파이참, vscode등이 있음  \n",
    "> - 최근에는 클라우드 환경이 인기 Google Colaboratory"
   ]
  },
  {
   "cell_type": "markdown",
   "metadata": {},
   "source": [
    "## 특징"
   ]
  },
  {
   "cell_type": "code",
   "execution_count": 25,
   "metadata": {
    "ExecuteTime": {
     "end_time": "2023-07-18T02:34:36.165768Z",
     "start_time": "2023-07-18T02:34:36.154426Z"
    }
   },
   "outputs": [],
   "source": [
    "# 셀 단위 실행\n",
    "# 결과값도 셀 단위 실행결과를 바로 확인 가능 (인터프리터 형태)\n",
    "# 기존 언어는 컴퓨터가 알아듣기 쉬운 언어 (어셈블리 형태)\n",
    "# 위에서 아래로\n",
    "# esc 키로 셀을 제어하는 커맨드 모드와 셀 내부 편집을 위한 에디트 모드 변경\n",
    "# 코드 편집과 마크다운 문법을 사용하여 리포트 형식으로도 활용가능"
   ]
  },
  {
   "cell_type": "markdown",
   "metadata": {},
   "source": [
    "## 커맨드 모드 명령어"
   ]
  },
  {
   "cell_type": "code",
   "execution_count": 26,
   "metadata": {
    "ExecuteTime": {
     "end_time": "2023-07-18T02:34:36.877307Z",
     "start_time": "2023-07-18T02:34:36.857691Z"
    }
   },
   "outputs": [],
   "source": [
    "# 커맨드 모드 주로 사용하는 기능\n",
    "# 선택 셀 위에 셀 생성 - a\n",
    "# 선택 셀 아래에 셀 생성 - b\n",
    "# 선택 셀 삭제 - dd\n",
    "# 선택 셀 복사 - c\n",
    "# 선택 셀 잘라내기 - x\n",
    "# 선택 셀 붙여넣기 - v\n",
    "# 작업취소 - z\n",
    "# 선택 셀 병합 - shift + m\n",
    "# 에디트 편집 - y\n",
    "# 마크다운 편집 - m"
   ]
  },
  {
   "cell_type": "markdown",
   "metadata": {},
   "source": [
    "## 에디트 모드 명령어"
   ]
  },
  {
   "cell_type": "code",
   "execution_count": 37,
   "metadata": {
    "ExecuteTime": {
     "end_time": "2023-07-18T02:37:29.515986Z",
     "start_time": "2023-07-18T02:37:29.488878Z"
    }
   },
   "outputs": [
    {
     "data": {
      "text/plain": [
       "'\\n여러줄의 텍스트를 주석 처리 할 때\\n여러줄의 텍스트를 주석 처리 할 때\\n여러줄의 텍스트를 주석 처리 할 때\\n여러줄의 텍스트를 주석 처리 할 때\\n'"
      ]
     },
     "execution_count": 37,
     "metadata": {},
     "output_type": "execute_result"
    }
   ],
   "source": [
    "# 에디트 모드 진입 - enter 혹은 마우스 클릭\n",
    "# 셀 실행 - shift + enter, ctl + enter\n",
    "# # 주석 : 다른코드와 구별하기 위해서, 코드의 설명, 코드의 실행과는 전혀 관계없음 필기\n",
    "'''\n",
    "여러줄의 텍스트를 주석 처리 할 때\n",
    "여러줄의 텍스트를 주석 처리 할 때\n",
    "여러줄의 텍스트를 주석 처리 할 때\n",
    "여러줄의 텍스트를 주석 처리 할 때\n",
    "'''"
   ]
  },
  {
   "cell_type": "markdown",
   "metadata": {},
   "source": [
    "# 코딩, 프로그래밍"
   ]
  },
  {
   "cell_type": "markdown",
   "metadata": {},
   "source": [
    "> - **코드**란? -> 컴퓨터가 알아들을 수 있는 명령들의 집합  \n",
    ">> - **코딩**을 한다, 코드를 짠다 -> 곧 컴퓨터가 알아들을 수 있는 명령어를 작성하는 행위  \n",
    ">> - **프로그램**이란? ->컴퓨터에게 작업을 지시하는 코드의 집합  "
   ]
  },
  {
   "cell_type": "markdown",
   "metadata": {
    "slideshow": {
     "slide_type": "-"
    }
   },
   "source": [
    "> 고급 프로그래밍 언어 (실제 사람이 사용하는 언어와 비슷한 형태를 지님)\n",
    ">> - 영문법과 굉장히 비슷한 문법진행을 한다.\n",
    ">> - 배우기 쉽다."
   ]
  },
  {
   "cell_type": "markdown",
   "metadata": {},
   "source": [
    "# 변수(variable)와 저장(define)"
   ]
  },
  {
   "cell_type": "markdown",
   "metadata": {},
   "source": [
    "컴퓨터에 데이터를 저장하기 위해서 우리는 변수를 사용합니다. 변수는 말 그대로 변할 수 있는 대상  \n",
    "저장한 데이터를 다시 사용하기 위해서도 변수를 사용  "
   ]
  },
  {
   "cell_type": "code",
   "execution_count": null,
   "metadata": {},
   "outputs": [],
   "source": [
    "# 변수에 값을 저장하는 액션\n",
    "# 저장, 할당, 디파인, 바인딩"
   ]
  },
  {
   "cell_type": "code",
   "execution_count": 3,
   "metadata": {
    "ExecuteTime": {
     "end_time": "2023-07-18T04:12:56.581153Z",
     "start_time": "2023-07-18T04:12:56.573552Z"
    }
   },
   "outputs": [],
   "source": [
    "# 변수 선언하고 값 저장하기\n",
    "a = 100 # 앞으로 a라고 하는 이름값을 내가 지정 (변수명) 10이라는 숫자를 저장하겠다\n",
    "# 컴퓨터는 값을 저장을 할 때 메모리 ---> 사람이 이해하기 편한 이름값 (변수명)"
   ]
  },
  {
   "cell_type": "code",
   "execution_count": 4,
   "metadata": {
    "ExecuteTime": {
     "end_time": "2023-07-18T04:12:57.589859Z",
     "start_time": "2023-07-18T04:12:57.564523Z"
    }
   },
   "outputs": [
    {
     "data": {
      "text/plain": [
       "100"
      ]
     },
     "execution_count": 4,
     "metadata": {},
     "output_type": "execute_result"
    }
   ],
   "source": [
    "# 변수 호출\n",
    "a"
   ]
  },
  {
   "cell_type": "markdown",
   "metadata": {},
   "source": [
    "## 변수의 종류(dtype) : 변수에 저장할 수 있는 값의 데이터타입\n",
    "\n",
    "> - 정수 **`int`**  \n",
    "> - 실수 **`float`**  \n",
    "> - 문자열 **`str`**  \n",
    "> - 불리언 **`bool`**"
   ]
  },
  {
   "cell_type": "code",
   "execution_count": 9,
   "metadata": {
    "ExecuteTime": {
     "end_time": "2023-07-18T05:07:34.774489Z",
     "start_time": "2023-07-18T05:07:34.768785Z"
    }
   },
   "outputs": [],
   "source": [
    "# 변수를 만들어보겠습니다.\n",
    "\n",
    "# name라는 이름을 가진 변수(저장공간)을 만들고 본인의 이름을 저장한다.\n",
    "# 문자열의 저장은 ' ', \" \"로 감싼 텍스트로 가능하다.\n",
    "name = 'Eddy'\n",
    "# weight라는 이름을 가진 변수(저장공간)을 만들고 실수(소수점을 포함한)를 저장한다.\n",
    "weight = 81.4\n",
    "# hight라는 이름을 가진 변수(저장공간)을 만들고 정수를 저장한다.\n",
    "hight = 172\n",
    "# job라는 이름을 가진 변수(저장공간)을 만들고 문자를 저장한다\n",
    "job = 'CEO'\n",
    "male = True"
   ]
  },
  {
   "cell_type": "code",
   "execution_count": 9,
   "metadata": {
    "ExecuteTime": {
     "end_time": "2023-07-18T04:17:41.353070Z",
     "start_time": "2023-07-18T04:17:41.346676Z"
    }
   },
   "outputs": [
    {
     "data": {
      "text/plain": [
       "172"
      ]
     },
     "execution_count": 9,
     "metadata": {},
     "output_type": "execute_result"
    }
   ],
   "source": [
    "# 변수의 호출, 사용\n",
    "hight"
   ]
  },
  {
   "cell_type": "code",
   "execution_count": 10,
   "metadata": {
    "ExecuteTime": {
     "end_time": "2023-07-18T04:17:56.634043Z",
     "start_time": "2023-07-18T04:17:56.625747Z"
    }
   },
   "outputs": [
    {
     "data": {
      "text/plain": [
       "('Eddy', 81.4, 172, 'CEO', True)"
      ]
     },
     "execution_count": 10,
     "metadata": {},
     "output_type": "execute_result"
    }
   ],
   "source": [
    "# 변수를 여러개 호출도 가능하다.\n",
    "name, weight, hight, job, male"
   ]
  },
  {
   "cell_type": "markdown",
   "metadata": {},
   "source": [
    "## 변수 이름짓기"
   ]
  },
  {
   "cell_type": "markdown",
   "metadata": {},
   "source": [
    "변수는 데이터를 식별 할 수 있는 단어가 좋음. 네이밍에 꽤 오랜시간을 소요함.\n",
    "\n",
    ">변수 사용 문법규칙\n",
    "> - 대소문자 구분 A, a\n",
    "> - 한글사용 가능 (추천하지 않음)\n",
    "> - 띄어쓰기 금지\n",
    "> - 특수문자 _만 가능\n",
    "> - 숫자 포함 가능, 숫자로 시작 X\n",
    "> - 예약어 금지(문법용어나 특수한 단어를 변수명으로 사용금지)\n",
    "\n",
    "> 관례적규칙\n",
    "> - 동사, 명사 - 형용사금지  \n",
    "\n",
    "> 파이썬 권장 스타일 (PE)\n",
    "https://www.python.org/dev/peps/pep-0008/  \n",
    "\n",
    ">> - 변수 my_name  \n",
    ">> - 함수 my_name  \n",
    ">> - 클래스 MyName  \n",
    ">> - 파일명 my_name"
   ]
  },
  {
   "cell_type": "code",
   "execution_count": null,
   "metadata": {},
   "outputs": [],
   "source": [
    "# python 예약어\n",
    "# 예약어는 변수명 혹은 명령어이름으로 쓸 수 없습니다.\n",
    "# 기억할 필요는 없지만 눈으로만 확인 해 봅시다.\n",
    "# 주피터 노트북으로 코딩 시 초록색 반전이 일어남\n",
    "# 파이썬에서 특정 작동을 위해 미리 선점해둔 키워드\n",
    "\n",
    "int float str bool\n",
    "sum min max sorted\n",
    "list dict tuple set\n",
    "and exec not\n",
    "assert finally or\n",
    "break for pass\n",
    "class from print\n",
    "continue global raise\n",
    "def if return\n",
    "del import try\n",
    "elif in while\n",
    "else is with\n",
    "except lambda yield"
   ]
  },
  {
   "cell_type": "markdown",
   "metadata": {},
   "source": [
    "## 변수(값)의 형변환(Type Casting)\n",
    "> **`int()`**, **`float()`**, **`str()`** 함수를 사용  \n",
    ">>변환해야 할 데이터를 `함수명()` 소괄호 안에 넣어줌  \n",
    ">> ex) `int('5')`, `float('3.14')`, `str(10)`"
   ]
  },
  {
   "cell_type": "code",
   "execution_count": 15,
   "metadata": {
    "ExecuteTime": {
     "end_time": "2023-07-18T04:30:36.804705Z",
     "start_time": "2023-07-18T04:30:36.790861Z"
    }
   },
   "outputs": [
    {
     "data": {
      "text/plain": [
       "100"
      ]
     },
     "execution_count": 15,
     "metadata": {},
     "output_type": "execute_result"
    }
   ],
   "source": [
    "# 형변환 테스트\n",
    "# 문자열로 전달받은 값을 정수형태로 변환합니다.\n",
    "# 기존 문자열로 저장한 input_val 변수를 정수로 형변환 해서 input_val 에 다시 저장\n",
    "int('100') # 소괄호 안에 전달하는 입력값을 정수로 변환하는 기능(함수)"
   ]
  },
  {
   "cell_type": "code",
   "execution_count": 16,
   "metadata": {
    "ExecuteTime": {
     "end_time": "2023-07-18T04:31:29.470204Z",
     "start_time": "2023-07-18T04:31:29.448106Z"
    }
   },
   "outputs": [
    {
     "ename": "ValueError",
     "evalue": "invalid literal for int() with base 10: '안녕하세요'",
     "output_type": "error",
     "traceback": [
      "\u001b[0;31m---------------------------------------------------------------------------\u001b[0m",
      "\u001b[0;31mValueError\u001b[0m                                Traceback (most recent call last)",
      "Cell \u001b[0;32mIn [16], line 4\u001b[0m\n\u001b[1;32m      1\u001b[0m \u001b[38;5;66;03m# 실수로 변환합니다.\u001b[39;00m\n\u001b[1;32m      2\u001b[0m \u001b[38;5;66;03m# 실제 숫자라면 문자열 -> 정수 및 실수변환은 문제없이 잘 이루어집니다.\u001b[39;00m\n\u001b[1;32m      3\u001b[0m \u001b[38;5;66;03m# 기존 정수 저장한 input_val 변수를 실수로 형변환 해서 float_input_val 에 다시 저장\u001b[39;00m\n\u001b[0;32m----> 4\u001b[0m \u001b[38;5;28;43mint\u001b[39;49m\u001b[43m(\u001b[49m\u001b[38;5;124;43m'\u001b[39;49m\u001b[38;5;124;43m안녕하세요\u001b[39;49m\u001b[38;5;124;43m'\u001b[39;49m\u001b[43m)\u001b[49m\n",
      "\u001b[0;31mValueError\u001b[0m: invalid literal for int() with base 10: '안녕하세요'"
     ]
    }
   ],
   "source": [
    "# 실수로 변환합니다.\n",
    "# 실제 숫자라면 문자열 -> 정수 및 실수변환은 문제없이 잘 이루어집니다.\n",
    "# 기존 정수 저장한 input_val 변수를 실수로 형변환 해서 float_input_val 에 다시 저장\n",
    "int('안녕하세요')"
   ]
  },
  {
   "cell_type": "code",
   "execution_count": 24,
   "metadata": {
    "ExecuteTime": {
     "end_time": "2023-07-18T04:34:35.592225Z",
     "start_time": "2023-07-18T04:34:35.580839Z"
    }
   },
   "outputs": [
    {
     "data": {
      "text/plain": [
       "1224.14114"
      ]
     },
     "execution_count": 24,
     "metadata": {},
     "output_type": "execute_result"
    }
   ],
   "source": [
    "# 문자열 -> 정수 및 실수 변환은 가능할까요?\n",
    "# 문자열 > 실수 > 정수\n",
    "float('1224.14114')"
   ]
  },
  {
   "cell_type": "markdown",
   "metadata": {},
   "source": [
    "# 출력(print)\n",
    "> - **`print()`** 함수는 출력을 위한 파이썬 기본 함수  \n",
    "> - **`print`**(출력할 내용을 소괄호 안에 넣어서 실행시킴)\n",
    "> - 소괄호 안에는 숫자, 따옴표로 감싼 문자, 변수 가능  \n",
    "> - 따옴표는 `''`(작은따옴표), `\"\"`(큰 따옴표) 모두 가능 `' \" \" '`형태로 텍스트 안의 텍스트를 다른 따옴표로 감쌀 수 있음  "
   ]
  },
  {
   "cell_type": "code",
   "execution_count": null,
   "metadata": {},
   "outputs": [],
   "source": [
    "# 기능, 함수\n",
    "# 함수명()\n",
    "# y = f(x)"
   ]
  },
  {
   "cell_type": "code",
   "execution_count": 2,
   "metadata": {
    "ExecuteTime": {
     "end_time": "2023-07-18T04:42:38.538966Z",
     "start_time": "2023-07-18T04:42:38.533320Z"
    }
   },
   "outputs": [
    {
     "name": "stdout",
     "output_type": "stream",
     "text": [
      "Hello world!\n",
      "Hello world!\n",
      "Hello world!\n",
      "Hello world!\n"
     ]
    }
   ],
   "source": [
    "# 숫자 변수 출력 테스트 print() 명령어는 전달받은 변수를 출력합니다.\n",
    "print('Hello world!')\n",
    "print('Hello world!')\n",
    "print('Hello world!')\n",
    "print('Hello world!')"
   ]
  },
  {
   "cell_type": "markdown",
   "metadata": {},
   "source": [
    "변수형태로 저장되어 있는 값만 출력하지는 않습니다. 출력값을 `print()` 함수에 직접 전달도 가능합니다."
   ]
  },
  {
   "cell_type": "markdown",
   "metadata": {},
   "source": [
    "## 변수값을 포함한 문자열 출력"
   ]
  },
  {
   "cell_type": "code",
   "execution_count": 14,
   "metadata": {
    "ExecuteTime": {
     "end_time": "2023-07-18T05:10:57.234943Z",
     "start_time": "2023-07-18T05:10:57.230567Z"
    }
   },
   "outputs": [],
   "source": [
    "name = '윤병민'"
   ]
  },
  {
   "cell_type": "code",
   "execution_count": 12,
   "metadata": {
    "ExecuteTime": {
     "end_time": "2023-07-18T05:08:46.548480Z",
     "start_time": "2023-07-18T05:08:46.529875Z"
    }
   },
   "outputs": [
    {
     "data": {
      "text/plain": [
       "('Eddy', 172, 'CEO')"
      ]
     },
     "execution_count": 12,
     "metadata": {},
     "output_type": "execute_result"
    }
   ],
   "source": [
    "name, hight, job"
   ]
  },
  {
   "cell_type": "code",
   "execution_count": 15,
   "metadata": {
    "ExecuteTime": {
     "end_time": "2023-07-18T05:10:59.182171Z",
     "start_time": "2023-07-18T05:10:59.171050Z"
    }
   },
   "outputs": [
    {
     "name": "stdout",
     "output_type": "stream",
     "text": [
      "제 이름은 윤병민이고 키는 172 직업은 CEO입니다.\n"
     ]
    }
   ],
   "source": [
    "# New format string\n",
    "# 파이썬 3.6버전 이후 권장하는 출력방식\n",
    "# 기존 format string 보다 사람이 보기에 직관적이고 명확한 문자와 변수간 관계 확인이 가능하다.\n",
    "print(f'제 이름은 {name}이고 키는 {hight} 직업은 {job}입니다.')"
   ]
  },
  {
   "cell_type": "markdown",
   "metadata": {},
   "source": [
    "## 출력 연습문제"
   ]
  },
  {
   "cell_type": "code",
   "execution_count": 5,
   "metadata": {
    "ExecuteTime": {
     "end_time": "2023-07-18T04:49:49.926103Z",
     "start_time": "2023-07-18T04:49:49.920151Z"
    }
   },
   "outputs": [
    {
     "name": "stdout",
     "output_type": "stream",
     "text": [
      "어머니는 \"짜장면이 싫다\"고 하셨지\n"
     ]
    }
   ],
   "source": [
    "# print()함수를 사용하여 아래 문장을 출력해 봅시다.\n",
    "print('어머니는 \"짜장면이 싫다\"고 하셨지')"
   ]
  },
  {
   "cell_type": "code",
   "execution_count": 67,
   "metadata": {
    "ExecuteTime": {
     "end_time": "2021-03-20T09:33:27.678125Z",
     "start_time": "2021-03-20T09:33:27.675145Z"
    }
   },
   "outputs": [
    {
     "name": "stdout",
     "output_type": "stream",
     "text": [
      "어머니는 '짜장면이 싫다'고 하셨지\n"
     ]
    }
   ],
   "source": [
    "# 위의 코드 실행 결과가 아래와 같아야 합니다."
   ]
  },
  {
   "cell_type": "code",
   "execution_count": 16,
   "metadata": {
    "ExecuteTime": {
     "end_time": "2023-07-18T05:11:58.752952Z",
     "start_time": "2023-07-18T05:11:58.748036Z"
    }
   },
   "outputs": [],
   "source": [
    "item1 = '아이스아메리카노'\n",
    "price1 = 4500"
   ]
  },
  {
   "cell_type": "code",
   "execution_count": 17,
   "metadata": {
    "ExecuteTime": {
     "end_time": "2023-07-18T05:12:25.879582Z",
     "start_time": "2023-07-18T05:12:25.864678Z"
    }
   },
   "outputs": [
    {
     "name": "stdout",
     "output_type": "stream",
     "text": [
      "          영수증          \n",
      "------------------------\n",
      "아이스아메리카노     4500원\n",
      "카페라떼           4,500원\n",
      "치즈케잌           6,000원\n",
      "-----------------------\n",
      "total           15,000원\n",
      "\n",
      "이용해 주셔서 감사합니다.\n",
      "------------------------\n"
     ]
    }
   ],
   "source": [
    "# print() 함수를 줄바꿈해서 사용하면 연속해서 값을 출력할 수 있습니다.\n",
    "# 이를 활용하여 아래 영수증을 출력해 봅시다.\n",
    "print('          영수증          ')\n",
    "print('------------------------')\n",
    "print(f'{item1}     {price1}원')\n",
    "print('카페라떼           4,500원')\n",
    "print('치즈케잌           6,000원')\n",
    "print('-----------------------')\n",
    "print('total           15,000원')\n",
    "print()\n",
    "print('이용해 주셔서 감사합니다.')\n",
    "print('------------------------')"
   ]
  },
  {
   "cell_type": "code",
   "execution_count": 46,
   "metadata": {},
   "outputs": [
    {
     "name": "stdout",
     "output_type": "stream",
     "text": [
      "          영수증          \n",
      "------------------------\n",
      "아이스아메리카노     4,500원\n",
      "카페라떼           4,500원\n",
      "치즈케잌           6,000원\n",
      "-----------------------\n",
      "total           15,000원\n",
      "\n",
      "이용해 주셔서 감사합니다.\n",
      "------------------------\n"
     ]
    }
   ],
   "source": [
    "# 위의 코드 실행 결과가 아래와 같아야 합니다."
   ]
  },
  {
   "cell_type": "markdown",
   "metadata": {},
   "source": [
    "# 연산"
   ]
  },
  {
   "cell_type": "markdown",
   "metadata": {},
   "source": [
    "## 사칙연산"
   ]
  },
  {
   "cell_type": "code",
   "execution_count": null,
   "metadata": {
    "ExecuteTime": {
     "end_time": "2021-03-20T09:44:40.937815Z",
     "start_time": "2021-03-20T09:44:40.933869Z"
    }
   },
   "outputs": [],
   "source": [
    "'''\n",
    "+  : 더하기\n",
    "-  : 빼기\n",
    "*  : 곱하기\n",
    "** : 거듭제곱\n",
    "/  : 나누기\n",
    "// : 몫\n",
    "%  : 나머지\n",
    "+= : 증가\n",
    "-= : 감소\n",
    "'''"
   ]
  },
  {
   "cell_type": "code",
   "execution_count": 20,
   "metadata": {
    "ExecuteTime": {
     "end_time": "2023-07-18T05:14:42.438049Z",
     "start_time": "2023-07-18T05:14:42.424987Z"
    }
   },
   "outputs": [
    {
     "data": {
      "text/plain": [
       "1"
      ]
     },
     "execution_count": 20,
     "metadata": {},
     "output_type": "execute_result"
    }
   ],
   "source": [
    "# 사칙연산 테스트\n",
    "# 값의 사칙연산\n",
    "10 % 3"
   ]
  },
  {
   "cell_type": "code",
   "execution_count": 26,
   "metadata": {
    "ExecuteTime": {
     "end_time": "2023-07-18T05:15:38.214062Z",
     "start_time": "2023-07-18T05:15:38.206090Z"
    }
   },
   "outputs": [
    {
     "data": {
      "text/plain": [
       "14010.800000000001"
      ]
     },
     "execution_count": 26,
     "metadata": {},
     "output_type": "execute_result"
    }
   ],
   "source": [
    "# 변수의 사칙연산 또한 가능\n",
    "weight * hight + 10"
   ]
  },
  {
   "cell_type": "code",
   "execution_count": 27,
   "metadata": {
    "ExecuteTime": {
     "end_time": "2023-07-18T05:16:00.039737Z",
     "start_time": "2023-07-18T05:16:00.030311Z"
    }
   },
   "outputs": [],
   "source": [
    "a = 0"
   ]
  },
  {
   "cell_type": "code",
   "execution_count": 54,
   "metadata": {
    "ExecuteTime": {
     "end_time": "2023-07-18T05:17:29.141271Z",
     "start_time": "2023-07-18T05:17:29.130113Z"
    }
   },
   "outputs": [
    {
     "data": {
      "text/plain": [
       "21"
      ]
     },
     "execution_count": 54,
     "metadata": {},
     "output_type": "execute_result"
    }
   ],
   "source": [
    "# 증감연산자\n",
    "a -= 10 # a변수값에 1씩을 증가시키는 작업을 하고\n",
    "a # 변수값 확인"
   ]
  },
  {
   "cell_type": "code",
   "execution_count": 57,
   "metadata": {
    "ExecuteTime": {
     "end_time": "2023-07-18T05:21:29.239820Z",
     "start_time": "2023-07-18T05:21:29.221461Z"
    }
   },
   "outputs": [
    {
     "data": {
      "text/plain": [
       "'안녕안녕안녕안녕안녕안녕안녕안녕안녕안녕'"
      ]
     },
     "execution_count": 57,
     "metadata": {},
     "output_type": "execute_result"
    }
   ],
   "source": [
    "# 문자열의 덧셈연산\n",
    "'안녕' + '하세요'\n",
    "# 문자열의 곱연산\n",
    "'안녕'*10"
   ]
  },
  {
   "cell_type": "markdown",
   "metadata": {},
   "source": [
    "## 사칙연산 연습문제"
   ]
  },
  {
   "cell_type": "code",
   "execution_count": 61,
   "metadata": {
    "ExecuteTime": {
     "end_time": "2023-07-18T05:29:34.600969Z",
     "start_time": "2023-07-18T05:29:34.594002Z"
    }
   },
   "outputs": [
    {
     "name": "stdout",
     "output_type": "stream",
     "text": [
      "금일 자정부터 총 52061초가 흘렀습니다.\n"
     ]
    }
   ],
   "source": [
    "# 현재 시간, 분, 초를 각각의 변수로 저장하고\n",
    "# 연산을 통해 금일 자정부터 몇초가 지났는 지 출력해보세요.\n",
    "# 출력결과는 ----> 금일 자정부터 총 121244초가 흘렀습니다.\n",
    "hour = 14\n",
    "minute = 27\n",
    "second = 41\n",
    "total = (hour * 3600) + (minute * 60) + second\n",
    "print(f'금일 자정부터 총 {total}초가 흘렀습니다.')"
   ]
  },
  {
   "cell_type": "code",
   "execution_count": 59,
   "metadata": {
    "ExecuteTime": {
     "end_time": "2023-07-18T05:26:40.854905Z",
     "start_time": "2023-07-18T05:26:40.844544Z"
    }
   },
   "outputs": [
    {
     "name": "stdout",
     "output_type": "stream",
     "text": [
      "어머님은 \"짜장면\"이'싫다'고 말했다\n"
     ]
    }
   ],
   "source": [
    "print('어머님은 \"짜장면\"이'\"'싫다'고 말했다\")"
   ]
  },
  {
   "cell_type": "markdown",
   "metadata": {},
   "source": [
    "## 조건연산\n",
    ">`and`, `&`  : 동시충족  \n",
    "`or`, `|` : 조건충족  \n",
    "`in` : 보유여부  (멤버연산자라 부릅니다)  \n",
    "`is` : 같음여부\n",
    "`not` : 다름여부  \n",
    "`==` : 같은값인지 확인  \n",
    "`!=`: 다른값인지 확인  \n",
    "`<`, `>`, `<=`, `>=` : 대소비교  \n",
    "\n",
    ">`bool` 타입으로 결과값을 내준다.  \n",
    "참인지 거짓인지 `True`, `False`로 구분가능한 데이터"
   ]
  },
  {
   "cell_type": "code",
   "execution_count": 64,
   "metadata": {
    "ExecuteTime": {
     "end_time": "2023-07-18T05:30:49.513952Z",
     "start_time": "2023-07-18T05:30:49.501635Z"
    }
   },
   "outputs": [
    {
     "data": {
      "text/plain": [
       "True"
      ]
     },
     "execution_count": 64,
     "metadata": {},
     "output_type": "execute_result"
    }
   ],
   "source": [
    "# 조건연산 테스트\n",
    "# 대소비교\n",
    "10 >= 10"
   ]
  },
  {
   "cell_type": "code",
   "execution_count": 65,
   "metadata": {
    "ExecuteTime": {
     "end_time": "2023-07-18T05:31:10.317235Z",
     "start_time": "2023-07-18T05:31:10.309625Z"
    }
   },
   "outputs": [
    {
     "data": {
      "text/plain": [
       "False"
      ]
     },
     "execution_count": 65,
     "metadata": {},
     "output_type": "execute_result"
    }
   ],
   "source": [
    "# 변수를 전달하여 연산도 가능하다\n",
    "# 대소비교\n",
    "weight > hight"
   ]
  },
  {
   "cell_type": "code",
   "execution_count": 67,
   "metadata": {
    "ExecuteTime": {
     "end_time": "2023-07-18T05:33:31.148488Z",
     "start_time": "2023-07-18T05:33:31.129893Z"
    }
   },
   "outputs": [
    {
     "data": {
      "text/plain": [
       "False"
      ]
     },
     "execution_count": 67,
     "metadata": {},
     "output_type": "execute_result"
    }
   ],
   "source": [
    "# 문자열의 보유여부(멤버연산자)\n",
    "# A in B A가 B에 있음\n",
    "'안녕' not in '안녕하세요'\n",
    "# 변수로도 가능\n"
   ]
  },
  {
   "cell_type": "code",
   "execution_count": 71,
   "metadata": {
    "ExecuteTime": {
     "end_time": "2023-07-18T05:34:43.939316Z",
     "start_time": "2023-07-18T05:34:43.929796Z"
    }
   },
   "outputs": [
    {
     "data": {
      "text/plain": [
       "False"
      ]
     },
     "execution_count": 71,
     "metadata": {},
     "output_type": "execute_result"
    }
   ],
   "source": [
    "# 같음 다름 여부\n",
    "10 == 50"
   ]
  },
  {
   "cell_type": "code",
   "execution_count": 69,
   "metadata": {
    "ExecuteTime": {
     "end_time": "2023-07-18T05:34:06.507112Z",
     "start_time": "2023-07-18T05:34:06.491882Z"
    }
   },
   "outputs": [
    {
     "data": {
      "text/plain": [
       "True"
      ]
     },
     "execution_count": 69,
     "metadata": {},
     "output_type": "execute_result"
    }
   ],
   "source": [
    "# 같음 다름 여부\n",
    "10 != 50"
   ]
  },
  {
   "cell_type": "code",
   "execution_count": 76,
   "metadata": {
    "ExecuteTime": {
     "end_time": "2023-07-18T05:38:33.368446Z",
     "start_time": "2023-07-18T05:38:33.352013Z"
    }
   },
   "outputs": [
    {
     "data": {
      "text/plain": [
       "True"
      ]
     },
     "execution_count": 76,
     "metadata": {},
     "output_type": "execute_result"
    }
   ],
   "source": [
    "# True and False, True or False\n",
    "# and 동시충족 곱연산, or 조건충족 합연산\n",
    "bool(24141) # 파이썬은 0을 False, 0이 아닌 데이터는 1\n",
    "True and False\n",
    "True or False"
   ]
  }
 ],
 "metadata": {
  "kernelspec": {
   "display_name": "Python 3 (ipykernel)",
   "language": "python",
   "name": "python3"
  },
  "language_info": {
   "codemirror_mode": {
    "name": "ipython",
    "version": 3
   },
   "file_extension": ".py",
   "mimetype": "text/x-python",
   "name": "python",
   "nbconvert_exporter": "python",
   "pygments_lexer": "ipython3",
   "version": "3.8.12"
  },
  "toc": {
   "base_numbering": 1,
   "nav_menu": {},
   "number_sections": true,
   "sideBar": true,
   "skip_h1_title": false,
   "title_cell": "Table of Contents",
   "title_sidebar": "Contents",
   "toc_cell": false,
   "toc_position": {
    "height": "calc(100% - 180px)",
    "left": "10px",
    "top": "150px",
    "width": "206.919px"
   },
   "toc_section_display": true,
   "toc_window_display": false
  },
  "varInspector": {
   "cols": {
    "lenName": 16,
    "lenType": 16,
    "lenVar": 40
   },
   "kernels_config": {
    "python": {
     "delete_cmd_postfix": "",
     "delete_cmd_prefix": "del ",
     "library": "var_list.py",
     "varRefreshCmd": "print(var_dic_list())"
    },
    "r": {
     "delete_cmd_postfix": ") ",
     "delete_cmd_prefix": "rm(",
     "library": "var_list.r",
     "varRefreshCmd": "cat(var_dic_list()) "
    }
   },
   "types_to_exclude": [
    "module",
    "function",
    "builtin_function_or_method",
    "instance",
    "_Feature"
   ],
   "window_display": false
  }
 },
 "nbformat": 4,
 "nbformat_minor": 2
}
