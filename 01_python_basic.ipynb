{
 "cells": [
  {
   "cell_type": "markdown",
   "metadata": {},
   "source": [
    "# 주피터 노트북"
   ]
  },
  {
   "cell_type": "markdown",
   "metadata": {},
   "source": [
    "> - 데이터 분석가들이 가장 많이 사용하는 파이썬 편집 프로그램  \n",
    "> - 코드 작성부터 실행, 리포트 작성까지 활용가능  \n",
    "> - 기타 편집 프로그램으로 주피터 랩, 스파이더, 파이참, vscode등이 있음  \n",
    "> - 최근에는 클라우드 환경이 인기 Google Colaboratory"
   ]
  },
  {
   "cell_type": "markdown",
   "metadata": {},
   "source": [
    "## 특징"
   ]
  },
  {
   "cell_type": "code",
   "execution_count": 1,
   "metadata": {
    "ExecuteTime": {
     "end_time": "2023-08-29T02:12:48.757418Z",
     "start_time": "2023-08-29T02:12:48.729412Z"
    }
   },
   "outputs": [
    {
     "data": {
      "text/plain": [
       "60"
      ]
     },
     "execution_count": 1,
     "metadata": {},
     "output_type": "execute_result"
    }
   ],
   "source": [
    "10 + 50"
   ]
  },
  {
   "cell_type": "code",
   "execution_count": 4,
   "metadata": {
    "ExecuteTime": {
     "end_time": "2021-03-20T08:18:06.478617Z",
     "start_time": "2021-03-20T08:18:06.476542Z"
    }
   },
   "outputs": [],
   "source": [
    "# 셀 단위 실행\n",
    "# 결과값도 셀 단위 실행결과를 바로 확인 가능 (인터프리터 형태)\n",
    "# 기존 언어는 컴퓨터가 알아듣기 쉬운 언어 (어셈블리 형태)\n",
    "# 위에서 아래로\n",
    "# esc 키로 셀을 제어하는 커맨드 모드와 셀 내부 편집을 위한 에디트 모드 변경\n",
    "# 코드 편집과 마크다운 문법을 사용하여 리포트 형식으로도 활용가능"
   ]
  },
  {
   "cell_type": "markdown",
   "metadata": {},
   "source": [
    "## 커맨드 모드 명령어"
   ]
  },
  {
   "cell_type": "code",
   "execution_count": 16,
   "metadata": {
    "ExecuteTime": {
     "end_time": "2023-08-29T02:29:14.742894Z",
     "start_time": "2023-08-29T02:29:14.733360Z"
    }
   },
   "outputs": [],
   "source": [
    "# 커맨드 모드 주로 사용하는 기능\n",
    "# 선택 셀 위에 셀 생성 - a\n",
    "# 선택 셀 아래에 셀 생성 - b\n",
    "# 선택 셀 삭제 - dd\n",
    "# 선택 셀 복사 - c\n",
    "# 선택 셀 잘라내기 - x\n",
    "# 선택 셀 붙여넣기 - v\n",
    "# 실행 취소 - z\n",
    "# 선택 셀 병합 - shift + m\n",
    "# 에디트 편집 - y\n",
    "# 마크다운 편집 - m"
   ]
  },
  {
   "cell_type": "markdown",
   "metadata": {},
   "source": [
    "## 에디트 모드 명령어"
   ]
  },
  {
   "cell_type": "code",
   "execution_count": 17,
   "metadata": {
    "ExecuteTime": {
     "end_time": "2023-08-29T02:29:15.308113Z",
     "start_time": "2023-08-29T02:29:15.294724Z"
    }
   },
   "outputs": [
    {
     "data": {
      "text/plain": [
       "40"
      ]
     },
     "execution_count": 17,
     "metadata": {},
     "output_type": "execute_result"
    }
   ],
   "source": [
    "# 에디트 모드 진입 - enter 혹은 마우스 클릭\n",
    "# 셀 실행 - shift + enter, ctl + enter\n",
    "# # 주석 : 다른코드와 구별하기 위해서, 코드의 설명, 코드의 실행과는 전혀 관계없음\n",
    "# ''' \n",
    "#   ''' : docstring 여러줄의 주석\n",
    "10 + 30"
   ]
  },
  {
   "cell_type": "markdown",
   "metadata": {},
   "source": [
    "# 코딩, 프로그래밍"
   ]
  },
  {
   "cell_type": "markdown",
   "metadata": {},
   "source": [
    "> - **코드**란? -> 컴퓨터가 알아들을 수 있는 명령들의 집합  \n",
    ">> - **코딩**을 한다, 코드를 짠다 -> 곧 컴퓨터가 알아들을 수 있는 명령어를 작성하는 행위  \n",
    ">> - **프로그램**이란? ->컴퓨터에게 작업을 지시하는 코드의 집합  "
   ]
  },
  {
   "cell_type": "markdown",
   "metadata": {
    "slideshow": {
     "slide_type": "-"
    }
   },
   "source": [
    "> 고급 프로그래밍 언어 (실제 사람이 사용하는 언어와 비슷한 형태를 지님)\n",
    ">> - 영문법과 굉장히 비슷한 문법진행을 한다.\n",
    ">> - 배우기 쉽다."
   ]
  },
  {
   "cell_type": "markdown",
   "metadata": {},
   "source": [
    "# 변수(variable)와 저장(define)"
   ]
  },
  {
   "cell_type": "markdown",
   "metadata": {},
   "source": [
    "컴퓨터에 데이터를 저장하기 위해서 우리는 변수를 사용합니다. 변수는 말 그대로 변할 수 있는 대상  \n",
    "저장한 데이터를 다시 사용하기 위해서도 변수를 사용  "
   ]
  },
  {
   "cell_type": "code",
   "execution_count": 22,
   "metadata": {
    "ExecuteTime": {
     "end_time": "2023-08-29T04:10:56.722845Z",
     "start_time": "2023-08-29T04:10:56.710884Z"
    }
   },
   "outputs": [
    {
     "data": {
      "text/plain": [
       "4305659712"
      ]
     },
     "execution_count": 22,
     "metadata": {},
     "output_type": "execute_result"
    }
   ],
   "source": [
    "id(a)"
   ]
  },
  {
   "cell_type": "code",
   "execution_count": 23,
   "metadata": {
    "ExecuteTime": {
     "end_time": "2023-08-29T04:12:57.386834Z",
     "start_time": "2023-08-29T04:12:57.376744Z"
    }
   },
   "outputs": [],
   "source": [
    "# 변수 선언하고 값 저장하기\n",
    "a = 100 # a라는 이름값(변수명)에 숫자 10을 저장해라\n",
    "# 변수를 사용할까? 컴퓨터는 값을 저장 ---> 메모리에 저장(난수) ---> 사람이 이해하기 편한 변수명(이름값) 사용"
   ]
  },
  {
   "cell_type": "code",
   "execution_count": null,
   "metadata": {},
   "outputs": [],
   "source": [
    "# 저장, 할당, define, assign, 바인딩"
   ]
  },
  {
   "cell_type": "code",
   "execution_count": 24,
   "metadata": {
    "ExecuteTime": {
     "end_time": "2023-08-29T04:13:07.713461Z",
     "start_time": "2023-08-29T04:13:07.699143Z"
    }
   },
   "outputs": [
    {
     "data": {
      "text/plain": [
       "100"
      ]
     },
     "execution_count": 24,
     "metadata": {},
     "output_type": "execute_result"
    }
   ],
   "source": [
    "# 변수 호출(콜한다)\n",
    "a"
   ]
  },
  {
   "cell_type": "markdown",
   "metadata": {},
   "source": [
    "## 변수의 종류(dtype) : 변수에 저장할 수 있는 값의 데이터타입\n",
    "\n",
    "> - 정수 **`int`**  \n",
    "> - 실수 **`float`**  \n",
    "> - 문자열 **`str`**  \n",
    "> - 불리언 **`bool`**"
   ]
  },
  {
   "cell_type": "code",
   "execution_count": 2,
   "metadata": {
    "ExecuteTime": {
     "end_time": "2023-08-29T04:30:02.558313Z",
     "start_time": "2023-08-29T04:30:02.551703Z"
    }
   },
   "outputs": [],
   "source": [
    "# 변수를 만들어보겠습니다.\n",
    "\n",
    "# name라는 이름을 가진 변수(저장공간)을 만들고 본인의 이름을 저장한다.\n",
    "# 문자열의 저장은 ' ', \" \"로 감싼 텍스트로 가능하다.\n",
    "name = 'Eddy'\n",
    "# weight라는 이름을 가진 변수(저장공간)을 만들고 실수(소수점을 포함한)를 저장한다.\n",
    "weight = 83.4\n",
    "# hight라는 이름을 가진 변수(저장공간)을 만들고 정수를 저장한다.\n",
    "hight = 172\n",
    "# job라는 이름을 가진 변수(저장공간)을 만들고 문자를 저장한다\n",
    "job = \"CEO\""
   ]
  },
  {
   "cell_type": "code",
   "execution_count": 30,
   "metadata": {
    "ExecuteTime": {
     "end_time": "2023-08-29T04:20:08.456042Z",
     "start_time": "2023-08-29T04:20:08.445553Z"
    }
   },
   "outputs": [
    {
     "data": {
      "text/plain": [
       "'CEO'"
      ]
     },
     "execution_count": 30,
     "metadata": {},
     "output_type": "execute_result"
    }
   ],
   "source": [
    "# 변수의 호출, 사용\n",
    "job"
   ]
  },
  {
   "cell_type": "code",
   "execution_count": 31,
   "metadata": {
    "ExecuteTime": {
     "end_time": "2023-08-29T04:20:23.364111Z",
     "start_time": "2023-08-29T04:20:23.345645Z"
    }
   },
   "outputs": [
    {
     "data": {
      "text/plain": [
       "('Eddy', 83.4, 172, 'CEO')"
      ]
     },
     "execution_count": 31,
     "metadata": {},
     "output_type": "execute_result"
    }
   ],
   "source": [
    "# 변수를 여러개 호출도 가능하다.\n",
    "name, weight, hight, job"
   ]
  },
  {
   "cell_type": "markdown",
   "metadata": {},
   "source": [
    "## 변수 이름짓기"
   ]
  },
  {
   "cell_type": "markdown",
   "metadata": {},
   "source": [
    "변수는 데이터를 식별 할 수 있는 단어가 좋음. 네이밍에 꽤 오랜시간을 소요함.\n",
    "\n",
    ">변수 사용 문법규칙\n",
    "> - 대소문자 구분 A, a\n",
    "> - 한글사용 가능 (추천하지 않음)\n",
    "> - 띄어쓰기 금지\n",
    "> - 특수문자 _만 가능\n",
    "> - 숫자 가능, 숫자로 시작 X\n",
    "> - 예약어 금지(문법용어나 특수한 단어를 변수명으로 사용금지)\n",
    "\n",
    "> 관례적규칙\n",
    "> - 동사, 명사 - 형용사금지  \n",
    "\n",
    "> 파이썬 권장 스타일 (PE)\n",
    "https://www.python.org/dev/peps/pep-0008/  \n",
    "\n",
    ">> - 변수 my_name  \n",
    ">> - 함수 my_name  \n",
    ">> - 클래스 MyName  \n",
    ">> - 파일명 my_name"
   ]
  },
  {
   "cell_type": "code",
   "execution_count": null,
   "metadata": {},
   "outputs": [],
   "source": [
    "# python 예약어\n",
    "# 예약어는 변수명 혹은 명령어이름으로 쓸 수 없습니다.\n",
    "# 기억할 필요는 없지만 눈으로만 확인 해 봅시다.\n",
    "# 주피터 노트북으로 코딩 시 초록색 반전이 일어남\n",
    "# 파이썬에서 특정 작동을 위해 미리 선점해둔 키워드\n",
    "\n",
    "int float str bool\n",
    "sum min max sorted\n",
    "list dict tuple set\n",
    "and exec not\n",
    "assert finally or\n",
    "break for pass\n",
    "class from print\n",
    "continue global raise\n",
    "def if return\n",
    "del import try\n",
    "elif in while\n",
    "else is with\n",
    "except lambda yield"
   ]
  },
  {
   "cell_type": "markdown",
   "metadata": {},
   "source": [
    "## 변수(값)의 형변환(Type Casting)\n",
    "> **`int()`**, **`float()`**, **`str()`** 함수를 사용  \n",
    ">>변환해야 할 데이터를 `함수명()` 소괄호 안에 넣어줌  \n",
    ">> ex) `int('5')`, `float('3.14')`, `str(10)`"
   ]
  },
  {
   "cell_type": "code",
   "execution_count": null,
   "metadata": {
    "ExecuteTime": {
     "end_time": "2021-05-24T05:11:30.435191Z",
     "start_time": "2021-05-24T05:11:30.430780Z"
    }
   },
   "outputs": [],
   "source": [
    "# 형변환 테스트\n",
    "# 문자열로 전달받은 값을 정수형태로 변환합니다.\n",
    "# 기존 문자열로 저장한 input_val 변수를 정수로 형변환 해서 input_val 에 다시 저장\n"
   ]
  },
  {
   "cell_type": "code",
   "execution_count": null,
   "metadata": {
    "ExecuteTime": {
     "end_time": "2021-05-24T05:12:53.566100Z",
     "start_time": "2021-05-24T05:12:53.561947Z"
    }
   },
   "outputs": [],
   "source": [
    "# 실수로 변환합니다.\n",
    "# 실제 숫자라면 문자열 -> 정수 및 실수변환은 문제없이 잘 이루어집니다.\n",
    "# 기존 정수 저장한 input_val 변수를 실수로 형변환 해서 float_input_val 에 다시 저장\n"
   ]
  },
  {
   "cell_type": "code",
   "execution_count": null,
   "metadata": {
    "ExecuteTime": {
     "end_time": "2021-05-24T05:14:10.800964Z",
     "start_time": "2021-05-24T05:14:10.793824Z"
    }
   },
   "outputs": [],
   "source": [
    "# 문자열 -> 정수 및 실수 변환은 가능할까요?\n",
    "# 문자열 > 실수 > 정수\n"
   ]
  },
  {
   "cell_type": "markdown",
   "metadata": {},
   "source": [
    "# 출력(print)\n",
    "> - **`print()`** 함수는 출력을 위한 파이썬 기본 함수  \n",
    "> - **`print`**(출력할 내용을 소괄호 안에 넣어서 실행시킴)\n",
    "> - 소괄호 안에는 숫자, 따옴표로 감싼 문자, 변수 가능  \n",
    "> - 따옴표는 `''`(작은따옴표), `\"\"`(큰 따옴표) 모두 가능 `' \" \" '`형태로 텍스트 안의 텍스트를 다른 따옴표로 감쌀 수 있음  "
   ]
  },
  {
   "cell_type": "code",
   "execution_count": 3,
   "metadata": {
    "ExecuteTime": {
     "end_time": "2023-08-29T04:37:18.385508Z",
     "start_time": "2023-08-29T04:37:18.374883Z"
    }
   },
   "outputs": [
    {
     "name": "stdout",
     "output_type": "stream",
     "text": [
      "안녕하세요\n"
     ]
    }
   ],
   "source": [
    "# 함수(기능, 명령어)\n",
    "# y = func(x)\n",
    "print('안녕하세요')"
   ]
  },
  {
   "cell_type": "code",
   "execution_count": 4,
   "metadata": {
    "ExecuteTime": {
     "end_time": "2023-08-29T04:38:17.447599Z",
     "start_time": "2023-08-29T04:38:17.438688Z"
    }
   },
   "outputs": [
    {
     "name": "stdout",
     "output_type": "stream",
     "text": [
      "100\n"
     ]
    }
   ],
   "source": [
    "# 숫자 변수 출력 테스트 print() 명령어는 전달받은 변수를 출력합니다.\n",
    "print(100)"
   ]
  },
  {
   "cell_type": "code",
   "execution_count": 7,
   "metadata": {
    "ExecuteTime": {
     "end_time": "2023-08-29T04:39:23.302164Z",
     "start_time": "2023-08-29T04:39:23.291115Z"
    }
   },
   "outputs": [
    {
     "name": "stdout",
     "output_type": "stream",
     "text": [
      "Eddy\n",
      "172\n"
     ]
    }
   ],
   "source": [
    "# 문자 변수 출력 테스트\n",
    "print(name)\n",
    "# print 명령어를 사용하지 않으면 데이터타입에 따라 값을 출력\n",
    "print(hight)"
   ]
  },
  {
   "cell_type": "markdown",
   "metadata": {},
   "source": [
    "변수형태로 저장되어 있는 값만 출력하지는 않습니다. 출력값을 `print()` 함수에 직접 전달도 가능합니다."
   ]
  },
  {
   "cell_type": "code",
   "execution_count": 9,
   "metadata": {
    "ExecuteTime": {
     "end_time": "2023-08-29T04:40:33.524901Z",
     "start_time": "2023-08-29T04:40:33.511467Z"
    }
   },
   "outputs": [
    {
     "name": "stdout",
     "output_type": "stream",
     "text": [
      "Hello world!\n",
      "Hello world!\n",
      "Hello world!\n",
      "Hello world!\n"
     ]
    }
   ],
   "source": [
    "# Hello world!\n",
    "print('Hello world!') # print() 자체에 줄바꿈을 포함\n",
    "print('Hello world!')\n",
    "print('Hello world!')\n",
    "print('Hello world!')"
   ]
  },
  {
   "cell_type": "markdown",
   "metadata": {},
   "source": [
    "## 변수값을 포함한 문자열 출력"
   ]
  },
  {
   "cell_type": "code",
   "execution_count": 19,
   "metadata": {
    "ExecuteTime": {
     "end_time": "2023-08-29T05:12:40.441131Z",
     "start_time": "2023-08-29T05:12:40.436825Z"
    }
   },
   "outputs": [],
   "source": [
    "name = '변치웅'"
   ]
  },
  {
   "cell_type": "code",
   "execution_count": 17,
   "metadata": {
    "ExecuteTime": {
     "end_time": "2023-08-29T05:10:40.430882Z",
     "start_time": "2023-08-29T05:10:40.412849Z"
    }
   },
   "outputs": [
    {
     "data": {
      "text/plain": [
       "('Eddy', 172, 'CEO')"
      ]
     },
     "execution_count": 17,
     "metadata": {},
     "output_type": "execute_result"
    }
   ],
   "source": [
    "name, hight, job"
   ]
  },
  {
   "cell_type": "code",
   "execution_count": 20,
   "metadata": {
    "ExecuteTime": {
     "end_time": "2023-08-29T05:12:43.869688Z",
     "start_time": "2023-08-29T05:12:43.855252Z"
    }
   },
   "outputs": [
    {
     "name": "stdout",
     "output_type": "stream",
     "text": [
      "제 이름은 변치웅입니다. 키는 172cm이고 직업은 CEO입니다.\n"
     ]
    }
   ],
   "source": [
    "# New format string\n",
    "# 파이썬 3.6버전 이후 권장하는 출력방식\n",
    "# 기존 format string 보다 사람이 보기에 직관적이고 명확한 문자와 변수간 관계 확인이 가능하다.\n",
    "print(f'제 이름은 {name}입니다. 키는 {hight}cm이고 직업은 {job}입니다.')"
   ]
  },
  {
   "cell_type": "markdown",
   "metadata": {},
   "source": [
    "## 출력 연습문제"
   ]
  },
  {
   "cell_type": "code",
   "execution_count": 11,
   "metadata": {
    "ExecuteTime": {
     "end_time": "2023-08-29T04:47:25.241448Z",
     "start_time": "2023-08-29T04:47:25.233557Z"
    }
   },
   "outputs": [
    {
     "name": "stdout",
     "output_type": "stream",
     "text": [
      "어머니는 '짜장면이 싫다'고 하셨지\n"
     ]
    }
   ],
   "source": [
    "# print()함수를 사용하여 아래 문장을 출력해 봅시다.\n",
    "print(\"어머니는 '짜장면이 싫다'고 하셨지\")"
   ]
  },
  {
   "cell_type": "code",
   "execution_count": 67,
   "metadata": {
    "ExecuteTime": {
     "end_time": "2021-03-20T09:33:27.678125Z",
     "start_time": "2021-03-20T09:33:27.675145Z"
    }
   },
   "outputs": [
    {
     "name": "stdout",
     "output_type": "stream",
     "text": [
      "어머니는 '짜장면이 싫다'고 하셨지\n"
     ]
    }
   ],
   "source": [
    "# 위의 코드 실행 결과가 아래와 같아야 합니다."
   ]
  },
  {
   "cell_type": "code",
   "execution_count": 21,
   "metadata": {
    "ExecuteTime": {
     "end_time": "2023-08-29T05:14:51.598655Z",
     "start_time": "2023-08-29T05:14:51.581771Z"
    }
   },
   "outputs": [
    {
     "name": "stdout",
     "output_type": "stream",
     "text": [
      "          영수증          \n",
      "------------------------\n",
      "아이스아메리카노     4500원\n",
      "카페라떼           4,500원\n",
      "치즈케잌           6,000원\n",
      "-----------------------\n",
      "total           15,000원\n",
      "\n",
      "이용해 주셔서 감사합니다.\n",
      "------------------------\n"
     ]
    }
   ],
   "source": [
    "# print() 함수를 줄바꿈해서 사용하면 연속해서 값을 출력할 수 있습니다.\n",
    "# 이를 활용하여 아래 영수증을 출력해 봅시다.\n",
    "item1 = '아이스아메리카노'\n",
    "price1 = 4500\n",
    "print('          영수증          ')\n",
    "print('------------------------')\n",
    "print(f'{item1}     {price1}원')\n",
    "print('카페라떼           4,500원')\n",
    "print('치즈케잌           6,000원')\n",
    "print('-----------------------')\n",
    "print('total           15,000원')\n",
    "print()\n",
    "print('이용해 주셔서 감사합니다.')\n",
    "print('------------------------')\n",
    "\n",
    "msg = '''\n",
    "          영수증          \n",
    "------------------------\n",
    "아이스아메리카노     4,500원\n",
    "카페라떼           4,500원\n",
    "치즈케잌           6,000원\n",
    "-----------------------\n",
    "total           15,000원\n",
    "\n",
    "이용해 주셔서 감사합니다.\n",
    "------------------------\n",
    "'''"
   ]
  },
  {
   "cell_type": "code",
   "execution_count": 22,
   "metadata": {
    "ExecuteTime": {
     "end_time": "2023-08-29T05:17:18.184944Z",
     "start_time": "2023-08-29T05:17:18.176605Z"
    }
   },
   "outputs": [
    {
     "name": "stdout",
     "output_type": "stream",
     "text": [
      "        영수증\n"
     ]
    }
   ],
   "source": [
    "print((' ' * 8) + '영수증')"
   ]
  },
  {
   "cell_type": "code",
   "execution_count": 15,
   "metadata": {
    "ExecuteTime": {
     "end_time": "2023-08-29T05:07:50.857919Z",
     "start_time": "2023-08-29T05:07:50.852980Z"
    }
   },
   "outputs": [
    {
     "name": "stdout",
     "output_type": "stream",
     "text": [
      "\n",
      "          영수증          \n",
      "------------------------\n",
      "아이스아메리카노     4,500원\n",
      "카페라떼           4,500원\n",
      "치즈케잌           6,000원\n",
      "-----------------------\n",
      "total           15,000원\n",
      "\n",
      "이용해 주셔서 감사합니다.\n",
      "------------------------\n",
      "\n"
     ]
    }
   ],
   "source": [
    "print(msg)"
   ]
  },
  {
   "cell_type": "code",
   "execution_count": 46,
   "metadata": {},
   "outputs": [
    {
     "name": "stdout",
     "output_type": "stream",
     "text": [
      "          영수증          \n",
      "------------------------\n",
      "아이스아메리카노     4,500원\n",
      "카페라떼           4,500원\n",
      "치즈케잌           6,000원\n",
      "-----------------------\n",
      "total           15,000원\n",
      "\n",
      "이용해 주셔서 감사합니다.\n",
      "------------------------\n"
     ]
    }
   ],
   "source": [
    "# 위의 코드 실행 결과가 아래와 같아야 합니다."
   ]
  },
  {
   "cell_type": "markdown",
   "metadata": {},
   "source": [
    "# 연산"
   ]
  },
  {
   "cell_type": "markdown",
   "metadata": {},
   "source": [
    "## 사칙연산"
   ]
  },
  {
   "cell_type": "code",
   "execution_count": null,
   "metadata": {
    "ExecuteTime": {
     "end_time": "2021-03-20T09:44:40.937815Z",
     "start_time": "2021-03-20T09:44:40.933869Z"
    }
   },
   "outputs": [],
   "source": [
    "'''\n",
    "+  : 더하기\n",
    "-  : 빼기\n",
    "*  : 곱하기\n",
    "** : 거듭제곱\n",
    "/  : 나누기\n",
    "// : 몫\n",
    "%  : 나머지\n",
    "+= : 증가\n",
    "-= : 감소\n",
    "'''"
   ]
  },
  {
   "cell_type": "code",
   "execution_count": 25,
   "metadata": {
    "ExecuteTime": {
     "end_time": "2023-08-29T05:19:05.475495Z",
     "start_time": "2023-08-29T05:19:05.463913Z"
    }
   },
   "outputs": [
    {
     "data": {
      "text/plain": [
       "1"
      ]
     },
     "execution_count": 25,
     "metadata": {},
     "output_type": "execute_result"
    }
   ],
   "source": [
    "# 사칙연산 테스트\n",
    "# 값의 사칙연산\n",
    "10 % 3"
   ]
  },
  {
   "cell_type": "code",
   "execution_count": 28,
   "metadata": {
    "ExecuteTime": {
     "end_time": "2023-08-29T05:19:46.569886Z",
     "start_time": "2023-08-29T05:19:46.554781Z"
    }
   },
   "outputs": [
    {
     "data": {
      "text/plain": [
       "255.4"
      ]
     },
     "execution_count": 28,
     "metadata": {},
     "output_type": "execute_result"
    }
   ],
   "source": [
    "# 변수의 사칙연산 또한 가능\n",
    "hight + weight"
   ]
  },
  {
   "cell_type": "code",
   "execution_count": 29,
   "metadata": {
    "ExecuteTime": {
     "end_time": "2023-08-29T05:20:11.314796Z",
     "start_time": "2023-08-29T05:20:11.309413Z"
    }
   },
   "outputs": [],
   "source": [
    "# 증감연산자\n",
    "a = 0"
   ]
  },
  {
   "cell_type": "code",
   "execution_count": 70,
   "metadata": {
    "ExecuteTime": {
     "end_time": "2023-08-29T05:21:31.625961Z",
     "start_time": "2023-08-29T05:21:31.616115Z"
    }
   },
   "outputs": [
    {
     "name": "stdout",
     "output_type": "stream",
     "text": [
      "-23\n"
     ]
    }
   ],
   "source": [
    "a -= 5\n",
    "print(a)"
   ]
  },
  {
   "cell_type": "code",
   "execution_count": 72,
   "metadata": {
    "ExecuteTime": {
     "end_time": "2023-08-29T05:22:42.125201Z",
     "start_time": "2023-08-29T05:22:42.110223Z"
    }
   },
   "outputs": [
    {
     "data": {
      "text/plain": [
       "'안녕안녕안녕안녕안녕'"
      ]
     },
     "execution_count": 72,
     "metadata": {},
     "output_type": "execute_result"
    }
   ],
   "source": [
    "# 문자열의 덧셈연산\n",
    "'안녕' + '하세요'\n",
    "# 문자열의 곱연산\n",
    "'안녕' * 5"
   ]
  },
  {
   "cell_type": "markdown",
   "metadata": {},
   "source": [
    "## 사칙연산 연습문제"
   ]
  },
  {
   "cell_type": "code",
   "execution_count": 74,
   "metadata": {
    "ExecuteTime": {
     "end_time": "2023-08-29T05:31:37.132845Z",
     "start_time": "2023-08-29T05:31:37.127197Z"
    }
   },
   "outputs": [
    {
     "name": "stdout",
     "output_type": "stream",
     "text": [
      "금일 자정부터 총 52164 초가 흘렀습니다.\n"
     ]
    }
   ],
   "source": [
    "# 현재 시간, 분, 초를 각각의 변수로 저장하고 \n",
    "# 연산을 통해 금일 자정부터 몇초가 지났는 지 출력해보세요.\n",
    "# 출력 포맷 '금일 자정부터 총 1244141 초가 흘렀습니다.'\n",
    "\n",
    "hour = 14\n",
    "minute = 29\n",
    "second = 24\n",
    "total = (hour * 3600) + (minute * 60) + second\n",
    "print(f'금일 자정부터 총 {total} 초가 흘렀습니다.')"
   ]
  },
  {
   "cell_type": "markdown",
   "metadata": {},
   "source": [
    "## 조건연산\n",
    ">`and`, `&`  : 동시충족  \n",
    "`or`, `|` : 조건충족  \n",
    "`in` : 보유여부  (멤버연산자라 부릅니다)  \n",
    "`is` : 같음여부\n",
    "`not` : 다름여부  \n",
    "`==` : 같은값인지 확인  \n",
    "`!=`: 다른값인지 확인  \n",
    "`<`, `>`, `<=`, `>=` : 대소비교  \n",
    "\n",
    ">`bool` 타입으로 결과값을 내준다.  \n",
    "참인지 거짓인지 `True`, `False`로 구분가능한 데이터"
   ]
  },
  {
   "cell_type": "code",
   "execution_count": 76,
   "metadata": {
    "ExecuteTime": {
     "end_time": "2023-08-29T05:35:01.025400Z",
     "start_time": "2023-08-29T05:35:01.016714Z"
    }
   },
   "outputs": [
    {
     "data": {
      "text/plain": [
       "False"
      ]
     },
     "execution_count": 76,
     "metadata": {},
     "output_type": "execute_result"
    }
   ],
   "source": [
    "# 조건연산 테스트\n",
    "# 대소비교\n",
    "13 <= 10"
   ]
  },
  {
   "cell_type": "code",
   "execution_count": 77,
   "metadata": {
    "ExecuteTime": {
     "end_time": "2023-08-29T05:35:20.766366Z",
     "start_time": "2023-08-29T05:35:20.747478Z"
    }
   },
   "outputs": [
    {
     "data": {
      "text/plain": [
       "False"
      ]
     },
     "execution_count": 77,
     "metadata": {},
     "output_type": "execute_result"
    }
   ],
   "source": [
    "# 변수를 전달하여 연산도 가능하다\n",
    "# 대소비교\n",
    "hight < weight"
   ]
  },
  {
   "cell_type": "code",
   "execution_count": 78,
   "metadata": {
    "ExecuteTime": {
     "end_time": "2023-08-29T05:36:55.207656Z",
     "start_time": "2023-08-29T05:36:55.195291Z"
    }
   },
   "outputs": [
    {
     "data": {
      "text/plain": [
       "True"
      ]
     },
     "execution_count": 78,
     "metadata": {},
     "output_type": "execute_result"
    }
   ],
   "source": [
    "# 문자열의 보유여부(멤버연산자)\n",
    "'안녕' in '안녕하세요'\n",
    "# 변수로도 가능\n"
   ]
  },
  {
   "cell_type": "code",
   "execution_count": 79,
   "metadata": {
    "ExecuteTime": {
     "end_time": "2023-08-29T05:38:17.807096Z",
     "start_time": "2023-08-29T05:38:17.792121Z"
    }
   },
   "outputs": [
    {
     "data": {
      "text/plain": [
       "False"
      ]
     },
     "execution_count": 79,
     "metadata": {},
     "output_type": "execute_result"
    }
   ],
   "source": [
    "# 같음 다름 여부\n",
    "40 == 50"
   ]
  },
  {
   "cell_type": "code",
   "execution_count": 80,
   "metadata": {
    "ExecuteTime": {
     "end_time": "2023-08-29T05:38:52.583586Z",
     "start_time": "2023-08-29T05:38:52.567794Z"
    }
   },
   "outputs": [
    {
     "data": {
      "text/plain": [
       "True"
      ]
     },
     "execution_count": 80,
     "metadata": {},
     "output_type": "execute_result"
    }
   ],
   "source": [
    "# 같음 다름 여부\n",
    "40 != 50"
   ]
  },
  {
   "cell_type": "code",
   "execution_count": null,
   "metadata": {},
   "outputs": [],
   "source": []
  }
 ],
 "metadata": {
  "kernelspec": {
   "display_name": "Python 3 (ipykernel)",
   "language": "python",
   "name": "python3"
  },
  "language_info": {
   "codemirror_mode": {
    "name": "ipython",
    "version": 3
   },
   "file_extension": ".py",
   "mimetype": "text/x-python",
   "name": "python",
   "nbconvert_exporter": "python",
   "pygments_lexer": "ipython3",
   "version": "3.8.12"
  },
  "toc": {
   "base_numbering": 1,
   "nav_menu": {},
   "number_sections": true,
   "sideBar": true,
   "skip_h1_title": false,
   "title_cell": "Table of Contents",
   "title_sidebar": "Contents",
   "toc_cell": false,
   "toc_position": {
    "height": "calc(100% - 180px)",
    "left": "10px",
    "top": "150px",
    "width": "206.919px"
   },
   "toc_section_display": true,
   "toc_window_display": false
  },
  "varInspector": {
   "cols": {
    "lenName": 16,
    "lenType": 16,
    "lenVar": 40
   },
   "kernels_config": {
    "python": {
     "delete_cmd_postfix": "",
     "delete_cmd_prefix": "del ",
     "library": "var_list.py",
     "varRefreshCmd": "print(var_dic_list())"
    },
    "r": {
     "delete_cmd_postfix": ") ",
     "delete_cmd_prefix": "rm(",
     "library": "var_list.r",
     "varRefreshCmd": "cat(var_dic_list()) "
    }
   },
   "types_to_exclude": [
    "module",
    "function",
    "builtin_function_or_method",
    "instance",
    "_Feature"
   ],
   "window_display": false
  }
 },
 "nbformat": 4,
 "nbformat_minor": 2
}
