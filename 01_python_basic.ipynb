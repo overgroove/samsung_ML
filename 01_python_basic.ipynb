{
 "cells": [
  {
   "cell_type": "markdown",
   "metadata": {},
   "source": [
    "# 주피터 노트북"
   ]
  },
  {
   "cell_type": "markdown",
   "metadata": {},
   "source": [
    "> - 데이터 분석가들이 가장 많이 사용하는 파이썬 편집 프로그램  \n",
    "> - 코드 작성부터 실행, 리포트 작성까지 활용가능  \n",
    "> - 기타 편집 프로그램으로 주피터 랩, 스파이더, 파이참, vscode등이 있음  \n",
    "> - 최근에는 클라우드 환경이 인기 Google Colaboratory"
   ]
  },
  {
   "cell_type": "markdown",
   "metadata": {},
   "source": [
    "## 특징"
   ]
  },
  {
   "cell_type": "code",
   "execution_count": 4,
   "metadata": {
    "ExecuteTime": {
     "end_time": "2021-03-20T08:18:06.478617Z",
     "start_time": "2021-03-20T08:18:06.476542Z"
    }
   },
   "outputs": [],
   "source": [
    "# 셀 단위 실행\n",
    "# 결과값도 셀 단위 실행결과를 바로 확인 가능 (인터프리터 형태)\n",
    "# 기존 언어는 컴퓨터가 알아듣기 쉬운 언어 (어셈블리 형태)\n",
    "# 위에서 아래로\n",
    "# esc 키로 셀을 제어하는 커맨드 모드와 셀 내부 편집을 위한 에디트 모드 변경\n",
    "# 코드 편집과 마크다운 문법을 사용하여 리포트 형식으로도 활용가능"
   ]
  },
  {
   "cell_type": "markdown",
   "metadata": {},
   "source": [
    "## 커맨드 모드 명령어"
   ]
  },
  {
   "cell_type": "code",
   "execution_count": 3,
   "metadata": {
    "ExecuteTime": {
     "end_time": "2023-09-05T02:22:38.407166Z",
     "start_time": "2023-09-05T02:22:38.390679Z"
    }
   },
   "outputs": [
    {
     "data": {
      "text/plain": [
       "30"
      ]
     },
     "execution_count": 3,
     "metadata": {},
     "output_type": "execute_result"
    }
   ],
   "source": [
    "# 커맨드 모드 주로 사용하는 기능\n",
    "# 선택 셀 위에 셀 생성 - a\n",
    "# 선택 셀 아래에 셀 생성 - b\n",
    "# 선택 셀 삭제 - dd\n",
    "# 선택 셀 복사 - c\n",
    "# 선택 셀 잘라내기 - x\n",
    "# 선택 셀 붙여넣기 - v\n",
    "# 실행 취소 - z\n",
    "# 선택 셀 병합 - shift + m\n",
    "# 에디트 편집 - y\n",
    "# 마크다운 편집 - m"
   ]
  },
  {
   "cell_type": "markdown",
   "metadata": {},
   "source": [
    "## 에디트 모드 명령어"
   ]
  },
  {
   "cell_type": "code",
   "execution_count": 58,
   "metadata": {
    "ExecuteTime": {
     "end_time": "2023-09-05T02:31:55.855873Z",
     "start_time": "2023-09-05T02:31:55.843700Z"
    }
   },
   "outputs": [
    {
     "data": {
      "text/plain": [
       "30"
      ]
     },
     "execution_count": 58,
     "metadata": {},
     "output_type": "execute_result"
    }
   ],
   "source": [
    "# 에디트 모드 진입 - enter 혹은 마우스 클릭\n",
    "# 셀 실행 - shift + enter, ctl + enter\n",
    "# 주석 : 다른코드와 구별하기 위해서, 코드의 설명, 코드의 실행과는 전혀 관계없음\n",
    "# 아무런 텍스트 입력해도 아래쪽 코드결과에는 영향을 주지 않아요~\n",
    "'''\n",
    "여러줄의 텍스트를 주석처리한다면 docstring으로 묶어주시면 좋습니다.\n",
    "여러줄의 텍스트를 주석처리한다면 docstring으로 묶어주시면 좋습니다.\n",
    "여러줄의 텍스트를 주석처리한다면 docstring으로 묶어주시면 좋습니다.\n",
    "여러줄의 텍스트를 주석처리한다면 docstring으로 묶어주시면 좋습니다.\n",
    "'''\n",
    "10 + 20"
   ]
  },
  {
   "cell_type": "markdown",
   "metadata": {},
   "source": [
    "# 코딩, 프로그래밍"
   ]
  },
  {
   "cell_type": "markdown",
   "metadata": {},
   "source": [
    "> - **코드**란? -> 컴퓨터가 알아들을 수 있는 명령들의 집합  \n",
    ">> - **코딩**을 한다, 코드를 짠다 -> 곧 컴퓨터가 알아들을 수 있는 명령어를 작성하는 행위  \n",
    ">> - **프로그램**이란? ->컴퓨터에게 작업을 지시하는 코드의 집합  "
   ]
  },
  {
   "cell_type": "markdown",
   "metadata": {
    "slideshow": {
     "slide_type": "-"
    }
   },
   "source": [
    "> 고급 프로그래밍 언어 (실제 사람이 사용하는 언어와 비슷한 형태를 지님)\n",
    ">> - 영문법과 굉장히 비슷한 문법진행을 한다.\n",
    ">> - 배우기 쉽다."
   ]
  },
  {
   "cell_type": "markdown",
   "metadata": {},
   "source": [
    "# 변수(variable)와 저장(define)"
   ]
  },
  {
   "cell_type": "markdown",
   "metadata": {},
   "source": [
    "컴퓨터에 데이터를 저장하기 위해서 우리는 변수를 사용합니다. 변수는 말 그대로 변할 수 있는 대상  \n",
    "저장한 데이터를 다시 사용하기 위해서도 변수를 사용  "
   ]
  },
  {
   "cell_type": "code",
   "execution_count": 63,
   "metadata": {
    "ExecuteTime": {
     "end_time": "2023-09-05T04:11:42.598975Z",
     "start_time": "2023-09-05T04:11:42.587014Z"
    }
   },
   "outputs": [
    {
     "data": {
      "text/plain": [
       "4405729456"
      ]
     },
     "execution_count": 63,
     "metadata": {},
     "output_type": "execute_result"
    }
   ],
   "source": [
    "id(a)"
   ]
  },
  {
   "cell_type": "code",
   "execution_count": null,
   "metadata": {},
   "outputs": [],
   "source": [
    "# 컴퓨터에 값을 저장하는 행위\n",
    "# 저장, 할당, 선언, define, assign, binding"
   ]
  },
  {
   "cell_type": "code",
   "execution_count": 61,
   "metadata": {
    "ExecuteTime": {
     "end_time": "2023-09-05T04:09:51.344667Z",
     "start_time": "2023-09-05T04:09:51.336907Z"
    }
   },
   "outputs": [],
   "source": [
    "# 변수 선언하고 값 저장하기\n",
    "a = 10000 # a라는 이름값(변수명)에 숫자 10을 저장하겠다.\n",
    "# 컴퓨터가 값을 저장 ---> 메모리에 저장 ---> 다른값으로 저장? ---> 값을 원복 X\n",
    "# 메모리에 저장 특징 ---> 사람이 이해하기 편한 형태의 이름값 (변수명)"
   ]
  },
  {
   "cell_type": "code",
   "execution_count": 62,
   "metadata": {
    "ExecuteTime": {
     "end_time": "2023-09-05T04:09:58.423984Z",
     "start_time": "2023-09-05T04:09:58.406814Z"
    }
   },
   "outputs": [
    {
     "data": {
      "text/plain": [
       "10000"
      ]
     },
     "execution_count": 62,
     "metadata": {},
     "output_type": "execute_result"
    }
   ],
   "source": [
    "# 변수 호출 (콜)\n",
    "a"
   ]
  },
  {
   "cell_type": "markdown",
   "metadata": {},
   "source": [
    "## 변수의 종류(dtype) : 변수에 저장할 수 있는 값의 데이터타입\n",
    "\n",
    "> - 정수 **`int`**  \n",
    "> - 실수 **`float`**  \n",
    "> - 문자열 **`str`**  \n",
    "> - 불리언 **`bool`**"
   ]
  },
  {
   "cell_type": "code",
   "execution_count": 62,
   "metadata": {
    "ExecuteTime": {
     "end_time": "2023-09-05T05:12:34.664043Z",
     "start_time": "2023-09-05T05:12:34.657967Z"
    }
   },
   "outputs": [],
   "source": [
    "# 변수를 만들어보겠습니다.\n",
    "\n",
    "# name라는 이름을 가진 변수(저장공간)을 만들고 본인의 이름을 저장한다.\n",
    "# 문자열의 저장은 ' ', \" \"로 감싼 텍스트로 가능하다.\n",
    "name = 'Eddy'\n",
    "# weight라는 이름을 가진 변수(저장공간)을 만들고 실수(소수점을 포함한)를 저장한다.\n",
    "weight = 81.4\n",
    "# hight라는 이름을 가진 변수(저장공간)을 만들고 정수를 저장한다.\n",
    "hight = 172\n",
    "# job라는 이름을 가진 변수(저장공간)을 만들고 문자를 저장한다\n",
    "job = 'CEO'"
   ]
  },
  {
   "cell_type": "code",
   "execution_count": 63,
   "metadata": {
    "ExecuteTime": {
     "end_time": "2023-09-05T05:12:36.808235Z",
     "start_time": "2023-09-05T05:12:36.790999Z"
    }
   },
   "outputs": [
    {
     "data": {
      "text/plain": [
       "253.4"
      ]
     },
     "execution_count": 63,
     "metadata": {},
     "output_type": "execute_result"
    }
   ],
   "source": [
    "weight + hight"
   ]
  },
  {
   "cell_type": "code",
   "execution_count": 65,
   "metadata": {
    "ExecuteTime": {
     "end_time": "2023-09-05T04:17:22.682046Z",
     "start_time": "2023-09-05T04:17:22.665844Z"
    }
   },
   "outputs": [
    {
     "data": {
      "text/plain": [
       "'Eddy'"
      ]
     },
     "execution_count": 65,
     "metadata": {},
     "output_type": "execute_result"
    }
   ],
   "source": [
    "# 변수의 호출, 사용\n",
    "name"
   ]
  },
  {
   "cell_type": "code",
   "execution_count": 4,
   "metadata": {
    "ExecuteTime": {
     "end_time": "2023-09-05T04:30:14.588859Z",
     "start_time": "2023-09-05T04:30:14.568391Z"
    }
   },
   "outputs": [
    {
     "data": {
      "text/plain": [
       "('Eddy', 81.4, 172, 'CEO')"
      ]
     },
     "execution_count": 4,
     "metadata": {},
     "output_type": "execute_result"
    }
   ],
   "source": [
    "# 변수를 여러개 호출도 가능하다.\n",
    "name, weight, hight, job"
   ]
  },
  {
   "cell_type": "markdown",
   "metadata": {},
   "source": [
    "## 변수 이름짓기"
   ]
  },
  {
   "cell_type": "code",
   "execution_count": 68,
   "metadata": {
    "ExecuteTime": {
     "end_time": "2023-09-05T04:23:17.298707Z",
     "start_time": "2023-09-05T04:23:17.286727Z"
    }
   },
   "outputs": [],
   "source": [
    "num1 = 20\n",
    "n2um2 = 10"
   ]
  },
  {
   "cell_type": "code",
   "execution_count": 69,
   "metadata": {
    "ExecuteTime": {
     "end_time": "2023-09-05T04:23:32.095057Z",
     "start_time": "2023-09-05T04:23:32.088506Z"
    }
   },
   "outputs": [
    {
     "ename": "SyntaxError",
     "evalue": "invalid syntax (1972592647.py, line 1)",
     "output_type": "error",
     "traceback": [
      "\u001b[0;36m  Cell \u001b[0;32mIn [69], line 1\u001b[0;36m\u001b[0m\n\u001b[0;31m    1num = 10\u001b[0m\n\u001b[0m     ^\u001b[0m\n\u001b[0;31mSyntaxError\u001b[0m\u001b[0;31m:\u001b[0m invalid syntax\n"
     ]
    }
   ],
   "source": [
    "1num = 10"
   ]
  },
  {
   "cell_type": "markdown",
   "metadata": {},
   "source": [
    "변수는 데이터를 식별 할 수 있는 단어가 좋음. 네이밍에 꽤 오랜시간을 소요함.\n",
    "\n",
    ">변수 사용 문법규칙\n",
    "> - 대소문자 구분 A, a\n",
    "> - 한글사용 가능 (추천하지 않음)\n",
    "> - 띄어쓰기 금지\n",
    "> - 특수문자 _만 가능\n",
    "> - 숫자 포함 가능, 숫자로 시작 X\n",
    "> - 예약어 금지(문법용어나 특수한 단어를 변수명으로 사용금지)\n",
    "\n",
    "> 관례적규칙\n",
    "> - 동사, 명사 - 형용사금지  \n",
    "\n",
    "> 파이썬 권장 스타일 (PE)\n",
    "https://www.python.org/dev/peps/pep-0008/  \n",
    "\n",
    ">> - 변수 my_name  \n",
    ">> - 함수 my_name  \n",
    ">> - 클래스 MyName  \n",
    ">> - 파일명 my_name"
   ]
  },
  {
   "cell_type": "code",
   "execution_count": 1,
   "metadata": {
    "ExecuteTime": {
     "end_time": "2023-09-05T04:29:54.946431Z",
     "start_time": "2023-09-05T04:29:54.939871Z"
    }
   },
   "outputs": [
    {
     "name": "stdout",
     "output_type": "stream",
     "text": [
      "안녕하세요\n"
     ]
    }
   ],
   "source": [
    "print('안녕하세요')"
   ]
  },
  {
   "cell_type": "code",
   "execution_count": null,
   "metadata": {},
   "outputs": [],
   "source": [
    "print_name"
   ]
  },
  {
   "cell_type": "code",
   "execution_count": 47,
   "metadata": {
    "ExecuteTime": {
     "end_time": "2023-09-05T02:27:51.808075Z",
     "start_time": "2023-09-05T02:27:51.787788Z"
    }
   },
   "outputs": [
    {
     "ename": "SyntaxError",
     "evalue": "invalid syntax (3405168877.py, line 7)",
     "output_type": "error",
     "traceback": [
      "\u001b[0;36m  Cell \u001b[0;32mIn [47], line 7\u001b[0;36m\u001b[0m\n\u001b[0;31m    int float str bool\u001b[0m\n\u001b[0m        ^\u001b[0m\n\u001b[0;31mSyntaxError\u001b[0m\u001b[0;31m:\u001b[0m invalid syntax\n"
     ]
    }
   ],
   "source": [
    "# python 예약어\n",
    "# 예약어는 변수명 혹은 명령어이름으로 쓸 수 없습니다.\n",
    "# 기억할 필요는 없지만 눈으로만 확인 해 봅시다.\n",
    "# 주피터 노트북으로 코딩 시 초록색 반전이 일어남\n",
    "# 파이썬에서 특정 작동을 위해 미리 선점해둔 키워드\n",
    "\n",
    "int float str bool\n",
    "sum min max sorted\n",
    "list dict tuple set\n",
    "and exec not\n",
    "assert finally or\n",
    "break for pass\n",
    "class from print\n",
    "continue global raise\n",
    "def if return\n",
    "del import try\n",
    "elif in while\n",
    "else is with\n",
    "except lambda yield"
   ]
  },
  {
   "cell_type": "markdown",
   "metadata": {},
   "source": [
    "# 출력(print)\n",
    "> - **`print()`** 함수는 출력을 위한 파이썬 기본 함수  \n",
    "> - **`print`**(출력할 내용을 소괄호 안에 넣어서 실행시킴)\n",
    "> - 소괄호 안에는 숫자, 따옴표로 감싼 문자, 변수 가능  \n",
    "> - 따옴표는 `''`(작은따옴표), `\"\"`(큰 따옴표) 모두 가능 `' \" \" '`형태로 텍스트 안의 텍스트를 다른 따옴표로 감쌀 수 있음  "
   ]
  },
  {
   "cell_type": "code",
   "execution_count": 6,
   "metadata": {
    "ExecuteTime": {
     "end_time": "2023-09-05T04:34:16.528671Z",
     "start_time": "2023-09-05T04:34:16.518293Z"
    }
   },
   "outputs": [],
   "source": [
    "a = 10"
   ]
  },
  {
   "cell_type": "code",
   "execution_count": 9,
   "metadata": {
    "ExecuteTime": {
     "end_time": "2023-09-05T04:34:47.227927Z",
     "start_time": "2023-09-05T04:34:47.218904Z"
    }
   },
   "outputs": [
    {
     "name": "stdout",
     "output_type": "stream",
     "text": [
      "81.4\n"
     ]
    }
   ],
   "source": [
    "# 숫자 변수 출력 테스트 print() 명령어는 전달받은 변수를 출력합니다.\n",
    "print(weight)"
   ]
  },
  {
   "cell_type": "code",
   "execution_count": 8,
   "metadata": {
    "ExecuteTime": {
     "end_time": "2023-09-05T04:34:31.293592Z",
     "start_time": "2023-09-05T04:34:31.283975Z"
    }
   },
   "outputs": [
    {
     "name": "stdout",
     "output_type": "stream",
     "text": [
      "Eddy\n"
     ]
    }
   ],
   "source": [
    "# 문자 변수 출력 테스트\n",
    "print(name)\n",
    "# print 명령어를 사용하지 않으면 데이터타입에 따라 값을 출력\n"
   ]
  },
  {
   "cell_type": "markdown",
   "metadata": {},
   "source": [
    "변수형태로 저장되어 있는 값만 출력하지는 않습니다. 출력값을 `print()` 함수에 직접 전달도 가능합니다."
   ]
  },
  {
   "cell_type": "code",
   "execution_count": 11,
   "metadata": {
    "ExecuteTime": {
     "end_time": "2023-09-05T04:35:38.051892Z",
     "start_time": "2023-09-05T04:35:38.047051Z"
    }
   },
   "outputs": [
    {
     "name": "stdout",
     "output_type": "stream",
     "text": [
      "Hello world!\n",
      "Hello world!\n",
      "Hello world!\n"
     ]
    }
   ],
   "source": [
    "# Hello world!\n",
    "print('Hello world!')\n",
    "print('Hello world!')\n",
    "print('Hello world!')"
   ]
  },
  {
   "cell_type": "markdown",
   "metadata": {},
   "source": [
    "## 출력 연습문제"
   ]
  },
  {
   "cell_type": "code",
   "execution_count": 15,
   "metadata": {
    "ExecuteTime": {
     "end_time": "2023-09-05T04:41:57.081630Z",
     "start_time": "2023-09-05T04:41:57.068204Z"
    }
   },
   "outputs": [
    {
     "name": "stdout",
     "output_type": "stream",
     "text": [
      "어머니는 '짜장면이 싫다'고 하셨지\n"
     ]
    }
   ],
   "source": [
    "# print()함수를 사용하여 아래 문장을 출력해 봅시다.\n",
    "print(\"어머니는 '짜장면이 싫다'고 하셨지\")"
   ]
  },
  {
   "cell_type": "code",
   "execution_count": 12,
   "metadata": {
    "ExecuteTime": {
     "end_time": "2023-09-05T04:38:17.171918Z",
     "start_time": "2023-09-05T04:38:17.161104Z"
    }
   },
   "outputs": [
    {
     "name": "stdout",
     "output_type": "stream",
     "text": [
      "어머니는 '짜장면이 싫다'고 하셨지\n"
     ]
    }
   ],
   "source": [
    "# 위의 코드 실행 결과가 아래와 같아야 합니다.\n"
   ]
  },
  {
   "cell_type": "code",
   "execution_count": 24,
   "metadata": {
    "ExecuteTime": {
     "end_time": "2023-09-05T04:50:07.458408Z",
     "start_time": "2023-09-05T04:50:07.450617Z"
    }
   },
   "outputs": [
    {
     "name": "stdout",
     "output_type": "stream",
     "text": [
      "          영수증          \n",
      "------------------------\n",
      "아이스아메리카노     4500원\n",
      "카페라떼           4,500원\n",
      "-----------------------\n",
      "total           15,000원\n",
      "\n",
      "이용해 주셔서 감사합니다.\n",
      "------------------------\n"
     ]
    }
   ],
   "source": [
    "# print() 함수를 줄바꿈해서 사용하면 연속해서 값을 출력할 수 있습니다.\n",
    "# 이를 활용하여 아래 영수증을 출력해 봅시다.\n",
    "item1 = '아이스아메리카노'\n",
    "price1 = 4500\n",
    "\n",
    "print('          영수증          ')\n",
    "print('------------------------')\n",
    "print(f'{item1}     {price1}원')\n",
    "print('카페라떼           4,500원')\n",
    "print('-----------------------')\n",
    "print('total           15,000원')\n",
    "print()\n",
    "print('이용해 주셔서 감사합니다.')\n",
    "print('------------------------')"
   ]
  },
  {
   "cell_type": "code",
   "execution_count": 13,
   "metadata": {
    "ExecuteTime": {
     "end_time": "2023-09-05T04:38:39.617045Z",
     "start_time": "2023-09-05T04:38:39.604441Z"
    }
   },
   "outputs": [
    {
     "name": "stdout",
     "output_type": "stream",
     "text": [
      "\n",
      "          영수증          \n",
      "------------------------\n",
      "아이스아메리카노     4,500원\n",
      "카페라떼           4,500원\n",
      "치즈케잌           6,000원\n",
      "-----------------------\n",
      "total           15,000원\n",
      "\n",
      "이용해 주셔서 감사합니다.\n",
      "------------------------\n",
      "\n"
     ]
    }
   ],
   "source": [
    "# 위의 코드 실행 결과가 아래와 같아야 합니다.\n"
   ]
  },
  {
   "cell_type": "markdown",
   "metadata": {},
   "source": [
    "## 변수값을 포함한 문자열 출력"
   ]
  },
  {
   "cell_type": "code",
   "execution_count": 20,
   "metadata": {
    "ExecuteTime": {
     "end_time": "2023-09-05T04:46:13.920692Z",
     "start_time": "2023-09-05T04:46:13.901565Z"
    }
   },
   "outputs": [
    {
     "data": {
      "text/plain": [
       "('Eddy', 172, 'CEO')"
      ]
     },
     "execution_count": 20,
     "metadata": {},
     "output_type": "execute_result"
    }
   ],
   "source": [
    "name, hight, job"
   ]
  },
  {
   "cell_type": "code",
   "execution_count": 22,
   "metadata": {
    "ExecuteTime": {
     "end_time": "2023-09-05T04:48:19.666523Z",
     "start_time": "2023-09-05T04:48:19.662134Z"
    }
   },
   "outputs": [],
   "source": [
    "name = '변치웅'"
   ]
  },
  {
   "cell_type": "code",
   "execution_count": 23,
   "metadata": {
    "ExecuteTime": {
     "end_time": "2023-09-05T04:48:22.309410Z",
     "start_time": "2023-09-05T04:48:22.298117Z"
    }
   },
   "outputs": [
    {
     "name": "stdout",
     "output_type": "stream",
     "text": [
      "제 이름은 변치웅입니다. 키는 172cm이고 직업은 CEO입니다.\n"
     ]
    }
   ],
   "source": [
    "# New format string\n",
    "# 파이썬 3.6버전 이후 권장하는 출력방식\n",
    "# 기존 format string 보다 사람이 보기에 직관적이고 명확한 문자와 변수간 관계 확인이 가능하다.\n",
    "print(f'제 이름은 {name}입니다. 키는 {hight}cm이고 직업은 {job}입니다.')"
   ]
  },
  {
   "cell_type": "code",
   "execution_count": 25,
   "metadata": {
    "ExecuteTime": {
     "end_time": "2023-09-05T05:03:02.114619Z",
     "start_time": "2023-09-05T05:03:02.100786Z"
    }
   },
   "outputs": [
    {
     "name": "stdout",
     "output_type": "stream",
     "text": [
      "안녕하세요\n"
     ]
    }
   ],
   "source": [
    "# 함수(명령어, 기능)\n",
    "# y = func(x)\n",
    "# 수학적 정의의 함수와 프로그래밍에서의 함수가 결이 비슷하다.\n",
    "# 입력값을 받아 함수 처리 처리를 한 뒤 결곽값을 되돌려받는 구조\n",
    "print('안녕하세요')\n",
    "func(입력값)"
   ]
  },
  {
   "cell_type": "markdown",
   "metadata": {},
   "source": [
    "# 연산"
   ]
  },
  {
   "cell_type": "markdown",
   "metadata": {},
   "source": [
    "## 사칙연산"
   ]
  },
  {
   "cell_type": "code",
   "execution_count": 56,
   "metadata": {
    "ExecuteTime": {
     "end_time": "2023-09-05T02:27:56.688806Z",
     "start_time": "2023-09-05T02:27:56.674047Z"
    }
   },
   "outputs": [
    {
     "data": {
      "text/plain": [
       "'\\n+  : 더하기\\n-  : 빼기\\n*  : 곱하기\\n** : 거듭제곱\\n/  : 나누기\\n// : 몫\\n%  : 나머지\\n+= : 증가\\n-= : 감소\\n'"
      ]
     },
     "execution_count": 56,
     "metadata": {},
     "output_type": "execute_result"
    }
   ],
   "source": [
    "'''\n",
    "+  : 더하기\n",
    "-  : 빼기\n",
    "*  : 곱하기\n",
    "** : 거듭제곱\n",
    "/  : 나누기\n",
    "// : 몫\n",
    "%  : 나머지\n",
    "+= : 증가\n",
    "-= : 감소\n",
    "'''"
   ]
  },
  {
   "cell_type": "code",
   "execution_count": 27,
   "metadata": {
    "ExecuteTime": {
     "end_time": "2023-09-05T05:06:13.185428Z",
     "start_time": "2023-09-05T05:06:13.176812Z"
    }
   },
   "outputs": [
    {
     "data": {
      "text/plain": [
       "3"
      ]
     },
     "execution_count": 27,
     "metadata": {},
     "output_type": "execute_result"
    }
   ],
   "source": [
    "# 사칙연산 테스트\n",
    "# 값의 사칙연산\n",
    "10 // 3"
   ]
  },
  {
   "cell_type": "code",
   "execution_count": 28,
   "metadata": {
    "ExecuteTime": {
     "end_time": "2023-09-05T05:06:28.247622Z",
     "start_time": "2023-09-05T05:06:28.233131Z"
    }
   },
   "outputs": [
    {
     "data": {
      "text/plain": [
       "1"
      ]
     },
     "execution_count": 28,
     "metadata": {},
     "output_type": "execute_result"
    }
   ],
   "source": [
    "# 나머지\n",
    "10 % 3"
   ]
  },
  {
   "cell_type": "code",
   "execution_count": 29,
   "metadata": {
    "ExecuteTime": {
     "end_time": "2023-09-05T05:06:57.810407Z",
     "start_time": "2023-09-05T05:06:57.801628Z"
    }
   },
   "outputs": [],
   "source": [
    "# 증감연산\n",
    "a = 10"
   ]
  },
  {
   "cell_type": "code",
   "execution_count": 55,
   "metadata": {
    "ExecuteTime": {
     "end_time": "2023-09-05T05:07:59.157506Z",
     "start_time": "2023-09-05T05:07:59.150205Z"
    }
   },
   "outputs": [
    {
     "name": "stdout",
     "output_type": "stream",
     "text": [
      "10\n"
     ]
    }
   ],
   "source": [
    "a -= 1\n",
    "print(a)"
   ]
  },
  {
   "cell_type": "code",
   "execution_count": 57,
   "metadata": {
    "ExecuteTime": {
     "end_time": "2023-09-05T05:08:29.278205Z",
     "start_time": "2023-09-05T05:08:29.251683Z"
    }
   },
   "outputs": [
    {
     "data": {
      "text/plain": [
       "253.4"
      ]
     },
     "execution_count": 57,
     "metadata": {},
     "output_type": "execute_result"
    }
   ],
   "source": [
    "# 변수의 사칙연산 또한 가능\n",
    "hight + weight"
   ]
  },
  {
   "cell_type": "code",
   "execution_count": 59,
   "metadata": {
    "ExecuteTime": {
     "end_time": "2023-09-05T05:09:31.069967Z",
     "start_time": "2023-09-05T05:09:31.061300Z"
    }
   },
   "outputs": [
    {
     "data": {
      "text/plain": [
       "'안녕안녕안녕안녕안녕'"
      ]
     },
     "execution_count": 59,
     "metadata": {},
     "output_type": "execute_result"
    }
   ],
   "source": [
    "# 문자열의 덧셈연산\n",
    "'안녕' + '하세요'\n",
    "# 문자열의 곱연산\n",
    "'안녕' * 5"
   ]
  },
  {
   "cell_type": "markdown",
   "metadata": {},
   "source": [
    "## 사칙연산 연습문제"
   ]
  },
  {
   "cell_type": "code",
   "execution_count": 66,
   "metadata": {
    "ExecuteTime": {
     "end_time": "2023-09-05T05:19:51.627759Z",
     "start_time": "2023-09-05T05:19:51.615861Z"
    }
   },
   "outputs": [
    {
     "name": "stdout",
     "output_type": "stream",
     "text": [
      "금일 자정부터 총 51440초가 흘렀습니다.\n"
     ]
    }
   ],
   "source": [
    "# 현재 시간, 분, 초를 각각의 변수로 저장하고 \n",
    "# 연산을 통해 금일 자정부터 몇초가 지났는 지 출력해보세요.\n",
    "# 출력은 '금일 자정부터 총 242412초가 흘렀습니다.'\n",
    "hour = 14\n",
    "minute = 17\n",
    "second = 20\n",
    "\n",
    "total = (hour * 3600) + (minute * 60) + second\n",
    "print(f'금일 자정부터 총 {total}초가 흘렀습니다.')"
   ]
  },
  {
   "cell_type": "markdown",
   "metadata": {},
   "source": [
    "## 조건연산\n",
    ">`and`, `&`  : 동시충족  \n",
    "`or`, `|` : 조건충족  \n",
    "`in` : 보유여부  (멤버연산자라 부릅니다)  \n",
    "`is` : 같음여부\n",
    "`not` : 다름여부  \n",
    "`==` : 같은값인지 확인  \n",
    "`!=`: 다른값인지 확인  \n",
    "`<`, `>`, `<=`, `>=` : 대소비교  \n",
    "\n",
    ">`bool` 타입으로 결과값을 내준다.  \n",
    "참인지 거짓인지 `True`, `False`로 구분가능한 데이터"
   ]
  },
  {
   "cell_type": "code",
   "execution_count": 68,
   "metadata": {
    "ExecuteTime": {
     "end_time": "2023-09-05T05:22:21.262212Z",
     "start_time": "2023-09-05T05:22:21.253275Z"
    }
   },
   "outputs": [
    {
     "data": {
      "text/plain": [
       "True"
      ]
     },
     "execution_count": 68,
     "metadata": {},
     "output_type": "execute_result"
    }
   ],
   "source": [
    "# 조건연산 테스트\n",
    "# 대소비교\n",
    "10 >= 5"
   ]
  },
  {
   "cell_type": "code",
   "execution_count": 70,
   "metadata": {
    "ExecuteTime": {
     "end_time": "2023-09-05T05:22:46.913490Z",
     "start_time": "2023-09-05T05:22:46.905130Z"
    }
   },
   "outputs": [
    {
     "data": {
      "text/plain": [
       "False"
      ]
     },
     "execution_count": 70,
     "metadata": {},
     "output_type": "execute_result"
    }
   ],
   "source": [
    "# 변수를 전달하여 연산도 가능하다\n",
    "# 대소비교\n",
    "weight > hight"
   ]
  },
  {
   "cell_type": "code",
   "execution_count": 72,
   "metadata": {
    "ExecuteTime": {
     "end_time": "2023-09-05T05:23:37.892425Z",
     "start_time": "2023-09-05T05:23:37.879357Z"
    }
   },
   "outputs": [
    {
     "data": {
      "text/plain": [
       "False"
      ]
     },
     "execution_count": 72,
     "metadata": {},
     "output_type": "execute_result"
    }
   ],
   "source": [
    "# 문자열의 보유여부(멤버연산자)\n",
    "'안녕1' in '안녕하세요'\n",
    "# 변수로도 가능\n"
   ]
  },
  {
   "cell_type": "code",
   "execution_count": 73,
   "metadata": {
    "ExecuteTime": {
     "end_time": "2023-09-05T05:24:32.091190Z",
     "start_time": "2023-09-05T05:24:32.083082Z"
    }
   },
   "outputs": [
    {
     "data": {
      "text/plain": [
       "True"
      ]
     },
     "execution_count": 73,
     "metadata": {},
     "output_type": "execute_result"
    }
   ],
   "source": [
    "# 같음 다름 여부\n",
    "10 == 10"
   ]
  },
  {
   "cell_type": "code",
   "execution_count": 74,
   "metadata": {
    "ExecuteTime": {
     "end_time": "2023-09-05T05:25:00.281176Z",
     "start_time": "2023-09-05T05:25:00.271980Z"
    }
   },
   "outputs": [
    {
     "data": {
      "text/plain": [
       "False"
      ]
     },
     "execution_count": 74,
     "metadata": {},
     "output_type": "execute_result"
    }
   ],
   "source": [
    "# 같음 다름 여부\n",
    "10 != 10"
   ]
  },
  {
   "cell_type": "code",
   "execution_count": 75,
   "metadata": {
    "ExecuteTime": {
     "end_time": "2023-09-05T05:26:18.361665Z",
     "start_time": "2023-09-05T05:26:18.348805Z"
    }
   },
   "outputs": [
    {
     "data": {
      "text/plain": [
       "False"
      ]
     },
     "execution_count": 75,
     "metadata": {},
     "output_type": "execute_result"
    }
   ],
   "source": [
    "True and False # 양쪽이 모두 참일경우 참"
   ]
  },
  {
   "cell_type": "code",
   "execution_count": 76,
   "metadata": {
    "ExecuteTime": {
     "end_time": "2023-09-05T05:26:45.800937Z",
     "start_time": "2023-09-05T05:26:45.787899Z"
    }
   },
   "outputs": [
    {
     "data": {
      "text/plain": [
       "True"
      ]
     },
     "execution_count": 76,
     "metadata": {},
     "output_type": "execute_result"
    }
   ],
   "source": [
    "True or False # 한쪽이 참이여도 참"
   ]
  }
 ],
 "metadata": {
  "kernelspec": {
   "display_name": "Python 3 (ipykernel)",
   "language": "python",
   "name": "python3"
  },
  "language_info": {
   "codemirror_mode": {
    "name": "ipython",
    "version": 3
   },
   "file_extension": ".py",
   "mimetype": "text/x-python",
   "name": "python",
   "nbconvert_exporter": "python",
   "pygments_lexer": "ipython3",
   "version": "3.8.12"
  },
  "toc": {
   "base_numbering": 1,
   "nav_menu": {},
   "number_sections": true,
   "sideBar": true,
   "skip_h1_title": false,
   "title_cell": "Table of Contents",
   "title_sidebar": "Contents",
   "toc_cell": false,
   "toc_position": {
    "height": "calc(100% - 180px)",
    "left": "10px",
    "top": "150px",
    "width": "206.919px"
   },
   "toc_section_display": true,
   "toc_window_display": false
  },
  "varInspector": {
   "cols": {
    "lenName": 16,
    "lenType": 16,
    "lenVar": 40
   },
   "kernels_config": {
    "python": {
     "delete_cmd_postfix": "",
     "delete_cmd_prefix": "del ",
     "library": "var_list.py",
     "varRefreshCmd": "print(var_dic_list())"
    },
    "r": {
     "delete_cmd_postfix": ") ",
     "delete_cmd_prefix": "rm(",
     "library": "var_list.r",
     "varRefreshCmd": "cat(var_dic_list()) "
    }
   },
   "types_to_exclude": [
    "module",
    "function",
    "builtin_function_or_method",
    "instance",
    "_Feature"
   ],
   "window_display": false
  }
 },
 "nbformat": 4,
 "nbformat_minor": 2
}
