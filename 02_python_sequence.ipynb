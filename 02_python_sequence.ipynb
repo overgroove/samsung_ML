{
 "cells": [
  {
   "cell_type": "markdown",
   "metadata": {},
   "source": [
    "# 자료구조\n",
    "> - 데이터의 집합  \n",
    "> - 데이터가 들어가 있는 바구니  \n",
    "> - 변수에 저장할 수 있는 데이터의 집합  \n",
    ">> - **`list`**(리스트)  \n",
    ">> - **`tuple`**(튜플)  \n",
    ">> - **`dict`**(딕셔너리)  "
   ]
  },
  {
   "cell_type": "markdown",
   "metadata": {},
   "source": [
    "## 리스트(list)\n",
    "> - 파이썬에서 가장 흔히 사용하는 데이터의 자료구조  \n",
    "> - 순서가 있다.  \n",
    "> - **`[ ]`** 대괄호로 묶어 사용한다.  \n",
    "> - 리스트 안에 들어가는 요소들은 ,(쉼표)로 구분한다."
   ]
  },
  {
   "cell_type": "markdown",
   "metadata": {},
   "source": [
    "### 리스트의 생성"
   ]
  },
  {
   "cell_type": "code",
   "execution_count": 2,
   "metadata": {
    "ExecuteTime": {
     "end_time": "2021-04-05T05:50:49.272953Z",
     "start_time": "2021-04-05T05:50:49.269978Z"
    }
   },
   "outputs": [],
   "source": [
    "# 값과 함께 리스트 만들기\n",
    "# test_list라는 변수에 10, 20, 30, 40, 50, 60, 70, 80, 90, 100 10개의 숫자 데이터가 들어가 있는 리스트를 저장\n",
    "test_list = [10, 20, 30, 40, 50, 60, 70, 80, 90, 100]"
   ]
  },
  {
   "cell_type": "code",
   "execution_count": 2,
   "metadata": {
    "ExecuteTime": {
     "end_time": "2021-04-05T05:51:46.014401Z",
     "start_time": "2021-04-05T05:51:46.010590Z"
    }
   },
   "outputs": [
    {
     "data": {
      "text/plain": [
       "[10, 20, 30, 40, 50, 60, 70, 80, 90, 100]"
      ]
     },
     "execution_count": 2,
     "metadata": {},
     "output_type": "execute_result"
    }
   ],
   "source": [
    "# 리스트 호출\n",
    "test_list"
   ]
  },
  {
   "cell_type": "markdown",
   "metadata": {},
   "source": [
    "### 리스트 갯수세기"
   ]
  },
  {
   "cell_type": "code",
   "execution_count": 3,
   "metadata": {
    "ExecuteTime": {
     "end_time": "2021-03-21T10:47:58.102261Z",
     "start_time": "2021-03-21T10:47:58.098348Z"
    }
   },
   "outputs": [
    {
     "data": {
      "text/plain": [
       "10"
      ]
     },
     "execution_count": 3,
     "metadata": {},
     "output_type": "execute_result"
    }
   ],
   "source": [
    "# 리스트 전체 항목의 갯수를 보고싶다면\n",
    "# len() 명령어는 자료구조 내 원소의 갯수를 세는 명령어이다.\n",
    "# python 기본 명령어로 다양한 자료구조에도 사용이 가능하다.\n",
    "len(test_list)"
   ]
  },
  {
   "cell_type": "markdown",
   "metadata": {},
   "source": [
    "### 리스트의 인덱싱(indexing), 슬라이싱(slicing)\n",
    "> - 리스트의 특정 항목에 접근(색인)\n",
    "> - 인덱싱은 하나의 값에 접근, 슬라이싱은 여러개의 값의 묶음에 접근  \n",
    "> - 리스트의 순서를 인덱스라고 하며 **0**부터 시작"
   ]
  },
  {
   "cell_type": "code",
   "execution_count": 3,
   "metadata": {
    "ExecuteTime": {
     "end_time": "2021-03-21T10:48:34.550995Z",
     "start_time": "2021-03-21T10:48:34.547393Z"
    }
   },
   "outputs": [
    {
     "data": {
      "text/plain": [
       "10"
      ]
     },
     "execution_count": 3,
     "metadata": {},
     "output_type": "execute_result"
    }
   ],
   "source": [
    "# 인덱싱\n",
    "# 파이썬의 인덱스는 0 부터 시작한다.\n",
    "# 리스트의 첫번째 항목 가져오기\n",
    "test_list[0]"
   ]
  },
  {
   "cell_type": "code",
   "execution_count": 12,
   "metadata": {
    "ExecuteTime": {
     "end_time": "2021-04-05T05:52:35.437124Z",
     "start_time": "2021-04-05T05:52:35.433163Z"
    }
   },
   "outputs": [
    {
     "data": {
      "text/plain": [
       "[10, 20, 30]"
      ]
     },
     "execution_count": 12,
     "metadata": {},
     "output_type": "execute_result"
    }
   ],
   "source": [
    "# 슬라이싱\n",
    "# 리스트의 첫번째 항목부터 3번째 항목까지 가져오기\n",
    "test_list[0:3]\n",
    "# 슬라이싱에 사용하는 :은 ~번째 항목까지 선택함을 의미한다.\n",
    "# [시작인덱스:마지막인덱스 + 1]"
   ]
  },
  {
   "cell_type": "code",
   "execution_count": 14,
   "metadata": {},
   "outputs": [
    {
     "data": {
      "text/plain": [
       "[30, 40, 50, 60, 70, 80, 90]"
      ]
     },
     "execution_count": 14,
     "metadata": {},
     "output_type": "execute_result"
    }
   ],
   "source": [
    "# 슬라이싱으로 30부터 90까지 선택하는 코드 작성\n",
    "test_list[2:9]"
   ]
  },
  {
   "cell_type": "code",
   "execution_count": 19,
   "metadata": {
    "ExecuteTime": {
     "end_time": "2021-04-05T05:53:24.757459Z",
     "start_time": "2021-04-05T05:53:24.753514Z"
    }
   },
   "outputs": [
    {
     "data": {
      "text/plain": [
       "[10, 20, 30, 40, 50, 60, 70, 80, 90, 100]"
      ]
     },
     "execution_count": 19,
     "metadata": {},
     "output_type": "execute_result"
    }
   ],
   "source": [
    "# 슬라이싱 응용\n",
    "# 리스트의 4번째 항목부터 마지막 항목까지 가져오기\n",
    "test_list[3:]\n",
    "# 리스트의 4번째 항목까지 가져오기\n",
    "test_list[:4]"
   ]
  },
  {
   "cell_type": "markdown",
   "metadata": {},
   "source": [
    "### 리스트 편집"
   ]
  },
  {
   "cell_type": "code",
   "execution_count": 4,
   "metadata": {},
   "outputs": [
    {
     "data": {
      "text/plain": [
       "[100, 20, 30, 40, 50, 60, 70, 80, 90, 100]"
      ]
     },
     "execution_count": 4,
     "metadata": {},
     "output_type": "execute_result"
    }
   ],
   "source": [
    "# 리스트 내 특정항목 업데이트\n",
    "# 인덱스 혹은 슬라이싱으로 접근 한 데이터를 직접 변경하는 방법\n",
    "test_list[0] = 100\n",
    "test_list"
   ]
  },
  {
   "cell_type": "code",
   "execution_count": 28,
   "metadata": {},
   "outputs": [
    {
     "data": {
      "text/plain": [
       "[100, 20, 30, 40, 50, 60, 70, 80, 90, 100, 200, 200, 200, 200, 200]"
      ]
     },
     "execution_count": 28,
     "metadata": {},
     "output_type": "execute_result"
    }
   ],
   "source": [
    "# 내부명령어(메소드)를 활용한 리스트에 값 추가\n",
    "test_list.append(200) # 리스트 맨 뒤 인덱스에 전달하는 값을 추가\n",
    "test_list"
   ]
  },
  {
   "cell_type": "markdown",
   "metadata": {},
   "source": [
    "### 리스트 삭제"
   ]
  },
  {
   "cell_type": "code",
   "execution_count": 29,
   "metadata": {},
   "outputs": [
    {
     "data": {
      "text/plain": [
       "[]"
      ]
     },
     "execution_count": 29,
     "metadata": {},
     "output_type": "execute_result"
    }
   ],
   "source": [
    "# 리스트 삭제 (변수 삭제, 값 삭제)\n",
    "# 생성한 리스트는 남아있지만 내부 항목을 모두 삭제합니다.\n",
    "test_list.clear()\n",
    "test_list"
   ]
  },
  {
   "cell_type": "code",
   "execution_count": 30,
   "metadata": {
    "ExecuteTime": {
     "end_time": "2021-04-05T06:25:35.756386Z",
     "start_time": "2021-04-05T06:25:35.643290Z"
    }
   },
   "outputs": [
    {
     "ename": "NameError",
     "evalue": "name 'test_list' is not defined",
     "output_type": "error",
     "traceback": [
      "\u001b[0;31m---------------------------------------------------------------------------\u001b[0m",
      "\u001b[0;31mNameError\u001b[0m                                 Traceback (most recent call last)",
      "Cell \u001b[0;32mIn[30], line 3\u001b[0m\n\u001b[1;32m      1\u001b[0m \u001b[38;5;66;03m# 메모리에서 완전히 삭제\u001b[39;00m\n\u001b[1;32m      2\u001b[0m \u001b[38;5;28;01mdel\u001b[39;00m test_list\n\u001b[0;32m----> 3\u001b[0m test_list\n",
      "\u001b[0;31mNameError\u001b[0m: name 'test_list' is not defined"
     ]
    }
   ],
   "source": [
    "# 메모리에서 완전히 삭제\n",
    "del test_list\n",
    "test_list"
   ]
  },
  {
   "cell_type": "markdown",
   "metadata": {},
   "source": [
    "## 딕셔너리(dict)\n",
    "> 사전을 떠올려봅시다. 사전을 구성하고 있는 항목은?    \n",
    "> - 단어 : 단어의 설명  \n",
    "\n",
    "> `key`와 `value`값을 쌍으로 저장가능 한 자료구조  \n",
    "> - `key` : `value`  \n",
    "> - **`{ }`** 중괄호로 묶어 사용한다.  \n",
    "> - 딕셔너리 요소 구분은 리스트와 마찬가지로 쉼표  "
   ]
  },
  {
   "cell_type": "markdown",
   "metadata": {},
   "source": [
    "### 딕셔너리 생성"
   ]
  },
  {
   "cell_type": "code",
   "execution_count": 34,
   "metadata": {
    "ExecuteTime": {
     "end_time": "2022-04-20T12:40:15.182177Z",
     "start_time": "2022-04-20T12:40:15.177640Z"
    }
   },
   "outputs": [],
   "source": [
    "# 값을 추가하면서 딕셔너리 생성\n",
    "wallet = {\n",
    "    'card':'삼성카드',\n",
    "    'cash':75000,\n",
    "    'coin':{'500원':1,\n",
    "            '100원':1,},\n",
    "    'id':['주민등록증', '여권'],\n",
    "    'licence':'운전면허증'\n",
    "}\n",
    "\n",
    "# 중괄호 내 key : value 값을 전달하고 각 항목의 구분은 쉼표\n",
    "# 리스트와 마찬가지로 딕셔너리 내부에 리스트등 타 자료구조 저장 가능"
   ]
  },
  {
   "cell_type": "code",
   "execution_count": 32,
   "metadata": {
    "ExecuteTime": {
     "end_time": "2022-04-20T12:40:19.035607Z",
     "start_time": "2022-04-20T12:40:19.032099Z"
    }
   },
   "outputs": [
    {
     "data": {
      "text/plain": [
       "{'card': '삼성카드',\n",
       " 'cash': 75000,\n",
       " 'coin': {'500원': 1, '100원': 1},\n",
       " 'id': ['주민등록증', '여권'],\n",
       " 'licence': '운전면허증'}"
      ]
     },
     "execution_count": 32,
     "metadata": {},
     "output_type": "execute_result"
    }
   ],
   "source": [
    "# 딕셔너리 호출\n",
    "wallet"
   ]
  },
  {
   "cell_type": "code",
   "execution_count": null,
   "metadata": {},
   "outputs": [],
   "source": [
    "# 내용물이 있는 소지품 중 하나 선택 ---> 내용물을 위와 같은 딕셔너리 형태로 제작"
   ]
  },
  {
   "cell_type": "markdown",
   "metadata": {},
   "source": [
    "### 딕셔너리 갯수세기"
   ]
  },
  {
   "cell_type": "code",
   "execution_count": 35,
   "metadata": {
    "ExecuteTime": {
     "end_time": "2021-04-05T06:29:19.960798Z",
     "start_time": "2021-04-05T06:29:19.957250Z"
    },
    "scrolled": true
   },
   "outputs": [
    {
     "data": {
      "text/plain": [
       "5"
      ]
     },
     "execution_count": 35,
     "metadata": {},
     "output_type": "execute_result"
    }
   ],
   "source": [
    "len(wallet)"
   ]
  },
  {
   "cell_type": "markdown",
   "metadata": {},
   "source": [
    "### 딕셔너리 값에 접근하기"
   ]
  },
  {
   "cell_type": "code",
   "execution_count": 37,
   "metadata": {
    "ExecuteTime": {
     "end_time": "2022-04-20T12:40:19.779065Z",
     "start_time": "2022-04-20T12:40:19.773821Z"
    }
   },
   "outputs": [
    {
     "data": {
      "text/plain": [
       "'삼성카드'"
      ]
     },
     "execution_count": 37,
     "metadata": {},
     "output_type": "execute_result"
    }
   ],
   "source": [
    "# key값으로 딕셔너리 값에 접근\n",
    "wallet['card']\n",
    "# 리스트에서 인덱스를 사용하였다면 딕셔너리는 key값을 전달하여 값에 접근합니다."
   ]
  },
  {
   "cell_type": "markdown",
   "metadata": {},
   "source": [
    "### 딕셔너리 편집"
   ]
  },
  {
   "cell_type": "code",
   "execution_count": 40,
   "metadata": {
    "ExecuteTime": {
     "end_time": "2022-04-20T12:40:20.103044Z",
     "start_time": "2022-04-20T12:40:20.097868Z"
    }
   },
   "outputs": [
    {
     "data": {
      "text/plain": [
       "{'card': '현대카드',\n",
       " 'cash': 75000,\n",
       " 'coin': {'500원': 1, '100원': 1},\n",
       " 'id': ['주민등록증', '여권'],\n",
       " 'licence': '운전면허증',\n",
       " 'point card': '해피포인트'}"
      ]
     },
     "execution_count": 40,
     "metadata": {},
     "output_type": "execute_result"
    }
   ],
   "source": [
    "# 삼성카드 --> 현대카드\n",
    "wallet['card'] = '현대카드'\n",
    "# 딕셔너리에 point card key를 갖는 해피포인트 문자열을 값으로 저장\n",
    "wallet['point card'] = '해피포인트'\n",
    "# key값이 숫자여도 관계없음\n",
    "wallet"
   ]
  },
  {
   "cell_type": "code",
   "execution_count": 42,
   "metadata": {
    "ExecuteTime": {
     "end_time": "2022-04-20T12:40:20.563330Z",
     "start_time": "2022-04-20T12:40:20.560230Z"
    }
   },
   "outputs": [
    {
     "data": {
      "text/plain": [
       "{'card': '현대카드',\n",
       " 'cash': 75000,\n",
       " 'coin': {'500원': 1, '100원': 1, '50원': 1},\n",
       " 'id': ['주민등록증', '여권'],\n",
       " 'licence': '운전면허증',\n",
       " 'point card': '해피포인트'}"
      ]
     },
     "execution_count": 42,
     "metadata": {},
     "output_type": "execute_result"
    }
   ],
   "source": [
    "# 딕셔너리 특정 항목 업데이트 coin key값에 들어가있는 딕셔너리에 50원 추가\n",
    "# 파이써닉한 코드 --> 데이터를 코드형태로 전달하는 형식 --> 작업을 이어붙이는 코드\n",
    "wallet['coin']['50원'] = 1\n",
    "wallet"
   ]
  },
  {
   "cell_type": "code",
   "execution_count": 45,
   "metadata": {},
   "outputs": [
    {
     "data": {
      "text/plain": [
       "{'card': '현대카드',\n",
       " 'cash': 75000,\n",
       " 'coin': {'500원': 1, '100원': 1, '50원': 1},\n",
       " 'id': ['주민등록증', '여권', '운전면허증'],\n",
       " 'licence': '운전면허증',\n",
       " 'point card': '해피포인트'}"
      ]
     },
     "execution_count": 45,
     "metadata": {},
     "output_type": "execute_result"
    }
   ],
   "source": [
    "# id에 들어가 있는 value값이 리스트, id에 '운전면허증' 추가\n",
    "wallet['id'].append('운전면허증')\n",
    "wallet"
   ]
  },
  {
   "cell_type": "markdown",
   "metadata": {},
   "source": [
    "### 딕셔너리 삭제"
   ]
  },
  {
   "cell_type": "code",
   "execution_count": 48,
   "metadata": {
    "ExecuteTime": {
     "end_time": "2021-04-05T06:41:32.807944Z",
     "start_time": "2021-04-05T06:41:32.802973Z"
    }
   },
   "outputs": [
    {
     "data": {
      "text/plain": [
       "{'card': '현대카드',\n",
       " 'cash': 75000,\n",
       " 'coin': {'500원': 1, '100원': 1, '50원': 1},\n",
       " 'id': ['주민등록증', '여권', '운전면허증'],\n",
       " 'licence': '운전면허증'}"
      ]
     },
     "execution_count": 48,
     "metadata": {},
     "output_type": "execute_result"
    }
   ],
   "source": [
    "# 딕셔너리 항목 제거\n",
    "# 딕셔너리의 key값까지 전달하여 해당 key값과 값을 동시에 제거\n",
    "del wallet['point card']\n",
    "wallet"
   ]
  },
  {
   "cell_type": "code",
   "execution_count": 50,
   "metadata": {
    "ExecuteTime": {
     "end_time": "2021-04-05T06:41:44.675662Z",
     "start_time": "2021-04-05T06:41:44.670983Z"
    }
   },
   "outputs": [
    {
     "data": {
      "text/plain": [
       "{}"
      ]
     },
     "execution_count": 50,
     "metadata": {},
     "output_type": "execute_result"
    }
   ],
   "source": [
    "# 딕셔너리 원소 전체 삭제\n",
    "wallet.clear()\n",
    "wallet"
   ]
  },
  {
   "cell_type": "code",
   "execution_count": 52,
   "metadata": {
    "ExecuteTime": {
     "end_time": "2021-04-05T06:41:55.853499Z",
     "start_time": "2021-04-05T06:41:55.846668Z"
    }
   },
   "outputs": [],
   "source": [
    "# 딕셔너리 변수 완전 삭제\n",
    "del wallet"
   ]
  },
  {
   "cell_type": "markdown",
   "metadata": {},
   "source": [
    "## 튜플(tuple)\n",
    "> - 데이터가 고정이 되어 변경이 불가능 한 데이터 집합  \n",
    "> - 연산이나 입력값을 전달하는 자료구조로는 잘 사용하지 않고 결과값을 출력하는 경우 많이 사용한다.  \n",
    "> - **`( )`** 소괄호로 묶어 사용한다.  \n",
    "> - 구분은 , 콤마로 사용한다.  "
   ]
  },
  {
   "cell_type": "markdown",
   "metadata": {},
   "source": [
    "### 튜플 생성"
   ]
  },
  {
   "cell_type": "code",
   "execution_count": 53,
   "metadata": {
    "ExecuteTime": {
     "end_time": "2023-02-05T02:43:05.342355Z",
     "start_time": "2023-02-05T02:43:05.334674Z"
    }
   },
   "outputs": [],
   "source": [
    "test_tuple2 = (1, 2, 3, 4)\n",
    "test_tuple3 = 5, 6"
   ]
  },
  {
   "cell_type": "code",
   "execution_count": 54,
   "metadata": {},
   "outputs": [
    {
     "data": {
      "text/plain": [
       "(5, 6)"
      ]
     },
     "execution_count": 54,
     "metadata": {},
     "output_type": "execute_result"
    }
   ],
   "source": [
    "test_tuple3"
   ]
  },
  {
   "cell_type": "markdown",
   "metadata": {},
   "source": [
    "### 튜플 인덱싱"
   ]
  },
  {
   "cell_type": "code",
   "execution_count": 55,
   "metadata": {
    "ExecuteTime": {
     "end_time": "2023-02-05T02:43:19.728671Z",
     "start_time": "2023-02-05T02:43:19.710269Z"
    }
   },
   "outputs": [
    {
     "data": {
      "text/plain": [
       "1"
      ]
     },
     "execution_count": 55,
     "metadata": {},
     "output_type": "execute_result"
    }
   ],
   "source": [
    "# 튜플 인덱싱 테스트\n",
    "test_tuple2[0]"
   ]
  },
  {
   "cell_type": "markdown",
   "metadata": {},
   "source": [
    "### 튜플 편집\n",
    "한번 튜플에 들어간 값은 변경이 불가능하다."
   ]
  },
  {
   "cell_type": "code",
   "execution_count": 57,
   "metadata": {
    "ExecuteTime": {
     "end_time": "2023-02-05T02:43:34.425979Z",
     "start_time": "2023-02-05T02:43:34.302760Z"
    }
   },
   "outputs": [
    {
     "ename": "TypeError",
     "evalue": "'tuple' object does not support item assignment",
     "output_type": "error",
     "traceback": [
      "\u001b[0;31m---------------------------------------------------------------------------\u001b[0m",
      "\u001b[0;31mTypeError\u001b[0m                                 Traceback (most recent call last)",
      "Cell \u001b[0;32mIn[57], line 2\u001b[0m\n\u001b[1;32m      1\u001b[0m \u001b[38;5;66;03m# 튜플 업데이트 테스트\u001b[39;00m\n\u001b[0;32m----> 2\u001b[0m test_tuple2[\u001b[38;5;241m0\u001b[39m] \u001b[38;5;241m=\u001b[39m \u001b[38;5;241m10\u001b[39m\n",
      "\u001b[0;31mTypeError\u001b[0m: 'tuple' object does not support item assignment"
     ]
    }
   ],
   "source": [
    "# 튜플 업데이트 테스트\n",
    "test_tuple2[0] = 10"
   ]
  },
  {
   "cell_type": "markdown",
   "metadata": {},
   "source": [
    "### 튜플 삭제\n",
    "튜플 전체삭제는 가능하지만 값 삭제는 불가능하다."
   ]
  },
  {
   "cell_type": "code",
   "execution_count": 58,
   "metadata": {
    "ExecuteTime": {
     "end_time": "2021-04-05T06:49:55.566093Z",
     "start_time": "2021-04-05T06:49:55.559606Z"
    }
   },
   "outputs": [
    {
     "ename": "TypeError",
     "evalue": "'tuple' object doesn't support item deletion",
     "output_type": "error",
     "traceback": [
      "\u001b[0;31m---------------------------------------------------------------------------\u001b[0m",
      "\u001b[0;31mTypeError\u001b[0m                                 Traceback (most recent call last)",
      "Cell \u001b[0;32mIn[58], line 2\u001b[0m\n\u001b[1;32m      1\u001b[0m \u001b[38;5;66;03m# 튜플 삭제 테스트\u001b[39;00m\n\u001b[0;32m----> 2\u001b[0m \u001b[38;5;28;01mdel\u001b[39;00m test_tuple2[\u001b[38;5;241m0\u001b[39m]\n",
      "\u001b[0;31mTypeError\u001b[0m: 'tuple' object doesn't support item deletion"
     ]
    }
   ],
   "source": [
    "# 튜플 삭제 테스트\n",
    "del test_tuple2[0]"
   ]
  },
  {
   "cell_type": "markdown",
   "metadata": {},
   "source": [
    "### 언팩"
   ]
  },
  {
   "cell_type": "code",
   "execution_count": 60,
   "metadata": {
    "ExecuteTime": {
     "end_time": "2021-04-05T06:51:03.353256Z",
     "start_time": "2021-04-05T06:51:03.349344Z"
    }
   },
   "outputs": [],
   "source": [
    "# 값을 변경하지 못하기 때문에 값을 분리시킬 수 있음\n",
    "a, b = test_tuple3"
   ]
  },
  {
   "cell_type": "code",
   "execution_count": 61,
   "metadata": {},
   "outputs": [
    {
     "name": "stdout",
     "output_type": "stream",
     "text": [
      "5 6\n"
     ]
    }
   ],
   "source": [
    "print(a, b)"
   ]
  }
 ],
 "metadata": {
  "kernelspec": {
   "display_name": "Python 3 (ipykernel)",
   "language": "python",
   "name": "python3"
  },
  "language_info": {
   "codemirror_mode": {
    "name": "ipython",
    "version": 3
   },
   "file_extension": ".py",
   "mimetype": "text/x-python",
   "name": "python",
   "nbconvert_exporter": "python",
   "pygments_lexer": "ipython3",
   "version": "3.11.4"
  },
  "toc": {
   "base_numbering": 1,
   "nav_menu": {},
   "number_sections": true,
   "sideBar": true,
   "skip_h1_title": true,
   "title_cell": "Table of Contents",
   "title_sidebar": "Contents",
   "toc_cell": false,
   "toc_position": {
    "height": "calc(100% - 180px)",
    "left": "10px",
    "top": "150px",
    "width": "261.818px"
   },
   "toc_section_display": true,
   "toc_window_display": false
  },
  "varInspector": {
   "cols": {
    "lenName": 16,
    "lenType": 16,
    "lenVar": 40
   },
   "kernels_config": {
    "python": {
     "delete_cmd_postfix": "",
     "delete_cmd_prefix": "del ",
     "library": "var_list.py",
     "varRefreshCmd": "print(var_dic_list())"
    },
    "r": {
     "delete_cmd_postfix": ") ",
     "delete_cmd_prefix": "rm(",
     "library": "var_list.r",
     "varRefreshCmd": "cat(var_dic_list()) "
    }
   },
   "types_to_exclude": [
    "module",
    "function",
    "builtin_function_or_method",
    "instance",
    "_Feature"
   ],
   "window_display": false
  }
 },
 "nbformat": 4,
 "nbformat_minor": 2
}
