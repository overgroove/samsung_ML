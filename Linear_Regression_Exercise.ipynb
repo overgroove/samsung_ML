{
 "cells": [
  {
   "cell_type": "markdown",
   "metadata": {},
   "source": [
    "# Linear Exercise\n",
    "\n",
    "뉴욕에 위치한 한 이커머스 회사가 있습니다. 이 회사는 온라인에서 옷을 판매하면서 오프라인 스토어에서(in-store) 스타일링이나 옷에 관한 조언을 하는 세션을 열기도 합니다.  \n",
    "고객들은 스토어에 방문해서 스타일리스트와의 세션이나 미팅을 갖게 되고 집으로 돌아가서 모바일앱 또는 웹사이트에서 원하는 옷을 주문하는 구조입니다.  \n",
    "\n",
    "이 회사는 모바일앱 또는 웹사이트에 집중해야 할지를 데이터를 기반으로 결정하려고 합니다.\n",
    "\n",
    "아래 절차를 따라 커스터머 데이터를 분석하세요."
   ]
  },
  {
   "cell_type": "markdown",
   "metadata": {},
   "source": [
    "## Imports\n",
    "**pandas, numpy, matplotlib, sklearn 등 필요할 때마다 라이브러리 추가**"
   ]
  },
  {
   "cell_type": "code",
   "execution_count": null,
   "metadata": {
    "ExecuteTime": {
     "end_time": "2023-03-10T06:33:34.895094Z",
     "start_time": "2023-03-10T06:33:34.364106Z"
    }
   },
   "outputs": [],
   "source": [
    "# CODE HERE\n",
    "import pandas as pd"
   ]
  },
  {
   "cell_type": "markdown",
   "metadata": {},
   "source": [
    "## Get the Data\n",
    "\n",
    "회사에서 제공한 CSV 파일에는 이메일, 주소, 아바타 색깔(Avatar) 등의 고객정보와 함께 아래와 같은 칼럼의 숫자 데이터들이 포함되어있습니다.\n",
    "\n",
    "* Avg. Session Length: 평균 in-store 스타일링 세션 시간\n",
    "* Time on App: 앱에서 소비한 시간(분)\n",
    "* Time on Website: 웹사이트에서 소비한 시간(분)\n",
    "* Length of Membership: 회원가입 기간 (년)\n",
    "* Yearly Amount Spent : 회원의 연간 매출 (달러) \n"
   ]
  },
  {
   "cell_type": "markdown",
   "metadata": {},
   "source": [
    "**EcommerceCustomers.csv 파일을 읽고 df 라는 이름의 DataFrame 을 만들고 첫 5개 샘플을 확인합니다.**"
   ]
  },
  {
   "cell_type": "code",
   "execution_count": null,
   "metadata": {},
   "outputs": [],
   "source": [
    "# 현재 실행경로 변경 코드 (참고용)\n",
    "import os\n",
    "os.chdir('C:\\\\Users\\\\dseduoa.edu\\\\Desktop\\\\5월 8일 주  변치웅 강사님\\\\강사님 자리 세팅용\\\\data')"
   ]
  },
  {
   "cell_type": "code",
   "execution_count": null,
   "metadata": {},
   "outputs": [],
   "source": [
    "pwd"
   ]
  },
  {
   "cell_type": "code",
   "execution_count": null,
   "metadata": {},
   "outputs": [],
   "source": [
    "'C:\\\\Users\\\\dseduoa.edu\\\\Desktop\\\\5월 8일 주  변치웅 강사님\\\\강사님 자리 세팅용\\\\data\\\\EcommerceCustomers.csv"
   ]
  },
  {
   "cell_type": "code",
   "execution_count": null,
   "metadata": {},
   "outputs": [],
   "source": [
    "# CODE HERE\n",
    "df = pd.read_csv('./data/EcommerceCustomers.csv')\n",
    "df.head()"
   ]
  },
  {
   "cell_type": "code",
   "execution_count": null,
   "metadata": {
    "ExecuteTime": {
     "end_time": "2023-03-10T06:35:09.206403Z",
     "start_time": "2023-03-10T06:35:09.184442Z"
    }
   },
   "outputs": [],
   "source": []
  },
  {
   "cell_type": "markdown",
   "metadata": {},
   "source": [
    "**info() 메소드를 호출하여 데이터의 간략한 정보를 확인합니다.**"
   ]
  },
  {
   "cell_type": "code",
   "execution_count": null,
   "metadata": {
    "ExecuteTime": {
     "end_time": "2022-11-09T00:04:26.482517Z",
     "start_time": "2022-11-09T00:04:26.463036Z"
    }
   },
   "outputs": [],
   "source": [
    "# CODE HERE\n",
    "df.info()"
   ]
  },
  {
   "cell_type": "code",
   "execution_count": null,
   "metadata": {},
   "outputs": [],
   "source": []
  },
  {
   "cell_type": "markdown",
   "metadata": {},
   "source": [
    "## Data Split\n",
    "\n",
    "**DataFrame에서 데이터타입이 float인 데이터 컬럼들만 셀렉트해서 변수 X 에 저장하고, 'Yearly Amount Spent' 컬럼은 변수 y 에 저장하세요**  \n",
    "**데이터가 의도한 대로 분할 되었는지 X를 호출하여 데이터를 확인합니다.**"
   ]
  },
  {
   "cell_type": "code",
   "execution_count": null,
   "metadata": {
    "ExecuteTime": {
     "end_time": "2023-03-10T06:35:11.996169Z",
     "start_time": "2023-03-10T06:35:11.985519Z"
    }
   },
   "outputs": [],
   "source": [
    "# CODE HERE\n",
    "y = df['Yearly Amount Spent']"
   ]
  },
  {
   "cell_type": "code",
   "execution_count": null,
   "metadata": {},
   "outputs": [],
   "source": [
    "X = df.select_dtypes(float)\n",
    "y = X.pop('Yearly Amount Spent')"
   ]
  },
  {
   "cell_type": "code",
   "execution_count": null,
   "metadata": {},
   "outputs": [],
   "source": [
    "X = df[df.columns[3:-1]]"
   ]
  },
  {
   "cell_type": "code",
   "execution_count": null,
   "metadata": {},
   "outputs": [],
   "source": [
    "# 컬럼명 순환하면서 각 컬럼의 데이터타입 확인 후 float 인 경우만 선택하는 코드 풀어서\n",
    "for col_nm in df.columns:\n",
    "    if if df[col_nm].dtype == float:\n",
    "        print(col_nm)"
   ]
  },
  {
   "cell_type": "code",
   "execution_count": null,
   "metadata": {},
   "outputs": [],
   "source": [
    "# 리스트 축약\n",
    "X = df[[col_nm for col_nm in df.columns if (df[col_nm].dtype == float) & (col_nm !='Yearly Amount Spent')]]"
   ]
  },
  {
   "cell_type": "code",
   "execution_count": null,
   "metadata": {
    "ExecuteTime": {
     "end_time": "2023-03-10T06:36:08.926393Z",
     "start_time": "2023-03-10T06:36:08.905163Z"
    }
   },
   "outputs": [],
   "source": []
  },
  {
   "cell_type": "markdown",
   "metadata": {},
   "source": [
    "**sklearn 의 model_selection.train_test_split 함수를 호출해서 training 데이터와 testing 데이터로 7:3 으로분리하세요.**  \n",
    "**random_state=42 파라메터를 추가하여 각 데이터셋에 분할되는 데이터를 고정시키겠습니다.**  \n",
    "**데이터 분할 후 각 데이터셋의 shape을 X_train, X_test, y_train, y_test순으로 확인합니다.**"
   ]
  },
  {
   "cell_type": "code",
   "execution_count": null,
   "metadata": {},
   "outputs": [],
   "source": [
    "# CODE HERE\n",
    "from sklearn.model_selection import train_test_split\n",
    "X_train, X_test, y_train, y_test = train_test_split(X, y, test_size=0.3, random_state=42)"
   ]
  },
  {
   "cell_type": "code",
   "execution_count": null,
   "metadata": {
    "ExecuteTime": {
     "end_time": "2023-03-10T06:36:31.392177Z",
     "start_time": "2023-03-10T06:36:31.381616Z"
    }
   },
   "outputs": [],
   "source": []
  },
  {
   "cell_type": "markdown",
   "metadata": {},
   "source": [
    "## Training the Model\n",
    "\n",
    "**sklearn.linear_model 의 LinearRegression 을 import**"
   ]
  },
  {
   "cell_type": "code",
   "execution_count": null,
   "metadata": {
    "ExecuteTime": {
     "end_time": "2023-03-10T06:36:33.673019Z",
     "start_time": "2023-03-10T06:36:33.665897Z"
    }
   },
   "outputs": [],
   "source": [
    "# CODE HERE\n",
    "from sklearn.linear_model import LinearRegression"
   ]
  },
  {
   "cell_type": "code",
   "execution_count": null,
   "metadata": {},
   "outputs": [],
   "source": [
    "# 실행 출력 결과 없음"
   ]
  },
  {
   "cell_type": "markdown",
   "metadata": {},
   "source": [
    "**LinearRegression() 인스턴스를 생성해서 model 에 저장**"
   ]
  },
  {
   "cell_type": "code",
   "execution_count": null,
   "metadata": {
    "ExecuteTime": {
     "end_time": "2023-03-10T06:36:35.874737Z",
     "start_time": "2023-03-10T06:36:35.867203Z"
    }
   },
   "outputs": [],
   "source": [
    "# CODE HERE\n",
    "model = LinearRegression()"
   ]
  },
  {
   "cell_type": "code",
   "execution_count": null,
   "metadata": {},
   "outputs": [],
   "source": [
    "# 실행 출력 결과 없음"
   ]
  },
  {
   "cell_type": "markdown",
   "metadata": {},
   "source": [
    "**training 데이터에 대해 모델 학습**"
   ]
  },
  {
   "cell_type": "code",
   "execution_count": null,
   "metadata": {},
   "outputs": [],
   "source": [
    "# CODE HERE\n",
    "model.fit(X_train, y_train)"
   ]
  },
  {
   "cell_type": "code",
   "execution_count": null,
   "metadata": {
    "ExecuteTime": {
     "end_time": "2023-03-10T06:36:38.198556Z",
     "start_time": "2023-03-10T06:36:38.185149Z"
    }
   },
   "outputs": [],
   "source": []
  },
  {
   "cell_type": "markdown",
   "metadata": {},
   "source": [
    "**학습된 모델의 coefficients 출력**"
   ]
  },
  {
   "cell_type": "code",
   "execution_count": null,
   "metadata": {},
   "outputs": [],
   "source": [
    "# CODE HERE\n",
    "model.coef_"
   ]
  },
  {
   "cell_type": "code",
   "execution_count": null,
   "metadata": {
    "ExecuteTime": {
     "end_time": "2023-03-10T06:37:04.032938Z",
     "start_time": "2023-03-10T06:37:04.023654Z"
    }
   },
   "outputs": [],
   "source": []
  },
  {
   "cell_type": "markdown",
   "metadata": {},
   "source": [
    "## Predicting Test Data\n",
    "\n",
    "**model.predict() 메소드를 호출하여 X_test 데이터에 대한 모델의 예측값을 확인합니다.**"
   ]
  },
  {
   "cell_type": "code",
   "execution_count": null,
   "metadata": {},
   "outputs": [],
   "source": [
    "# CODE HERE\n",
    "pred = model.predict(X_test)"
   ]
  },
  {
   "cell_type": "code",
   "execution_count": null,
   "metadata": {
    "ExecuteTime": {
     "end_time": "2023-03-10T06:37:42.359054Z",
     "start_time": "2023-03-10T06:37:42.341917Z"
    }
   },
   "outputs": [],
   "source": []
  },
  {
   "cell_type": "markdown",
   "metadata": {},
   "source": [
    "**실제 정답값(y_test)과 예측값의 관계를 확인하고자 X축에 예측값, y축에 정답값을 전달하여 scatterplot 으로 시각화 하세요.**"
   ]
  },
  {
   "cell_type": "code",
   "execution_count": null,
   "metadata": {
    "ExecuteTime": {
     "end_time": "2022-11-09T00:48:47.522005Z",
     "start_time": "2022-11-09T00:48:47.438322Z"
    }
   },
   "outputs": [],
   "source": [
    "# CODE HERE\n",
    "# qq plot\n",
    "import matplotlib.pyplot as plt\n",
    "plt.scatter(pred, y_test)\n",
    "plt.show()"
   ]
  },
  {
   "cell_type": "code",
   "execution_count": null,
   "metadata": {
    "ExecuteTime": {
     "end_time": "2023-03-10T06:47:12.311571Z",
     "start_time": "2023-03-10T06:47:12.207455Z"
    }
   },
   "outputs": [],
   "source": []
  },
  {
   "cell_type": "markdown",
   "metadata": {},
   "source": [
    "## Evaluating the Model\n",
    "**sklearn 의 metircs중 예측모델 평가지표 출력을 위한 메소드를 import 한 후 R2 score, RMSE를 계산하세요.**"
   ]
  },
  {
   "cell_type": "code",
   "execution_count": null,
   "metadata": {},
   "outputs": [],
   "source": [
    "# CODE HERE\n",
    "from sklearn.metrics import r2_score, mean_squared_error\n",
    "print(r2_score(y_test, pred))\n",
    "print(mean_squared_error(y_test, pred, squared=False))"
   ]
  },
  {
   "cell_type": "code",
   "execution_count": null,
   "metadata": {
    "ExecuteTime": {
     "end_time": "2023-03-10T06:49:12.104253Z",
     "start_time": "2023-03-10T06:49:12.089403Z"
    }
   },
   "outputs": [],
   "source": []
  },
  {
   "cell_type": "markdown",
   "metadata": {},
   "source": [
    "## Conclusion\n",
    "\n",
    "처음 문제로 돌아와서 모바일앱 또는 웹사이트 중 어떤 채널에 집중하여 투자할지를 결정해야 합니다. 어쩌면 그보다 더 중요한 채널이 있을 수도 있습니다.  \n",
    "coefficient 를 살펴보면서 생각해봅시다.  \n",
    "**아래와 같이 coeffecient 에 대한 DataFrame 을 만드세요.**"
   ]
  },
  {
   "cell_type": "code",
   "execution_count": null,
   "metadata": {
    "ExecuteTime": {
     "end_time": "2022-11-09T00:56:00.765211Z",
     "start_time": "2022-11-09T00:56:00.750771Z"
    }
   },
   "outputs": [],
   "source": [
    "# CODE HERE\n",
    "pd.DataFrame(model.coef_, index=X_train.columns, columns=['Coeffecient'])"
   ]
  },
  {
   "cell_type": "code",
   "execution_count": null,
   "metadata": {
    "ExecuteTime": {
     "end_time": "2023-03-10T06:52:13.117315Z",
     "start_time": "2023-03-10T06:52:13.102433Z"
    }
   },
   "outputs": [],
   "source": []
  },
  {
   "cell_type": "markdown",
   "metadata": {},
   "source": [
    "**이러한 계수를 어떻게 해석할 수 있습니까?**"
   ]
  },
  {
   "cell_type": "code",
   "execution_count": null,
   "metadata": {},
   "outputs": [],
   "source": [
    "# 고객이 앱에 1분 머무를 때 마다 연간구매금액 38.59달러 증가함\n",
    "# 웹에 1분 머무를 때 마다 0.45 증가"
   ]
  },
  {
   "cell_type": "markdown",
   "metadata": {},
   "source": [
    "**이 회사가 모바일앱 또는 웹사이트 운영에 집중투자해야한다고 생각하세요? 추가적으로 취해야 할 비즈니스 액션은 무엇인가요?**"
   ]
  },
  {
   "cell_type": "code",
   "execution_count": null,
   "metadata": {},
   "outputs": [],
   "source": [
    "# 모바일에 집중 투자해야 함.\n",
    "# 모바일로 멤버쉽 유치나 유지를 위한 프로모션 진행"
   ]
  }
 ],
 "metadata": {
  "kernelspec": {
   "display_name": "Python 3 (ipykernel)",
   "language": "python",
   "name": "python3"
  },
  "language_info": {
   "codemirror_mode": {
    "name": "ipython",
    "version": 3
   },
   "file_extension": ".py",
   "mimetype": "text/x-python",
   "name": "python",
   "nbconvert_exporter": "python",
   "pygments_lexer": "ipython3",
   "version": "3.10.9"
  },
  "toc": {
   "base_numbering": 1,
   "nav_menu": {},
   "number_sections": true,
   "sideBar": true,
   "skip_h1_title": true,
   "title_cell": "Table of Contents",
   "title_sidebar": "Contents",
   "toc_cell": false,
   "toc_position": {},
   "toc_section_display": true,
   "toc_window_display": false
  },
  "varInspector": {
   "cols": {
    "lenName": 16,
    "lenType": 16,
    "lenVar": 40
   },
   "kernels_config": {
    "python": {
     "delete_cmd_postfix": "",
     "delete_cmd_prefix": "del ",
     "library": "var_list.py",
     "varRefreshCmd": "print(var_dic_list())"
    },
    "r": {
     "delete_cmd_postfix": ") ",
     "delete_cmd_prefix": "rm(",
     "library": "var_list.r",
     "varRefreshCmd": "cat(var_dic_list()) "
    }
   },
   "types_to_exclude": [
    "module",
    "function",
    "builtin_function_or_method",
    "instance",
    "_Feature"
   ],
   "window_display": false
  }
 },
 "nbformat": 4,
 "nbformat_minor": 1
}
