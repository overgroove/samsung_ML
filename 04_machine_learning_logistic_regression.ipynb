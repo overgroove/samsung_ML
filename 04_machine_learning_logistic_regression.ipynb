{
 "cells": [
  {
   "cell_type": "markdown",
   "metadata": {},
   "source": [
    "# Logistic Regression"
   ]
  },
  {
   "cell_type": "markdown",
   "metadata": {},
   "source": [
    "## Logistic Regression 모델\n",
    "> **`Logistic Regression`** 은 **분류**를 위한 **지도학습** 머신러닝 모델이다.  \n",
    "**종속변수가 이진형 분포**를 보일경우 기존 선형모델로는 해결이 어려움이 있음.  \n",
    "클래스가 여러개인 분류문제에도 사용이 가능하지만 이진형 데이터(바이너리) 종속변수 분류문제를 해결하는데 주로 사용.  \n",
    "ex) 남/여, 개/고양이, OK/NG, 햄메일/스팸메일, 승인/반려"
   ]
  },
  {
   "cell_type": "markdown",
   "metadata": {},
   "source": [
    "<img src=\"./image/19.png\">"
   ]
  },
  {
   "cell_type": "markdown",
   "metadata": {},
   "source": [
    "위 그림에서 확인 할 수 있듯 기존 선형모델이 풀기 어려운 이진분류 문제를 해결하고자 선형을 비선형으로 변환한 모델이다.  \n",
    "만약 모델(함수)의 출력결과를 0과 1사이로 만들어 줄 수 있다면 즉, 확률 문제로서 접근한다면 분류문제에 사용 가능 하겠다는 아이디어에서 변형 되었다."
   ]
  },
  {
   "cell_type": "markdown",
   "metadata": {},
   "source": [
    "## Odds (승산비)\n",
    "- 로지스틱회귀 모델을 확률로서 접근하는데 가장 핵심적인 개념  \n",
    "  \n",
    "$$ p : 어떤\\ 일이\\ 발생할\\ 확률\\ (승산) $$  \n",
    "$$ Odds = {p \\over {1-p}} : \\  어떤\\ 일이\\ 발생할\\ 확률\\ / 발생하지\\ 않을\\ 확률\\ (승산비)$$  \n",
    "\n",
    "> 0 < p < 1  \n",
    "0 < 1-p < 1  \n",
    "p가 0에 가까울 경우 0  \n",
    "p가 1에 가까울 경우 무한대  \n",
    "  \n",
    "위의 Odds를 그대로 사용하지 않고 log를 취해 사용하면 0을 기준으로 상호대칭적이며, 계산이 수월한 수식이 완성 됩니다.  \n",
    "기존 선형회귀식에서 y위치에 log Odds를 적용하면 아래와 같은 식이 되고  \n",
    "  \n",
    "$$ log({Y \\over {1-Y}}) = \\beta_0 + \\beta_1x$$  \n",
    "  \n",
    "이를 다시 y에 대해 정리하면 sigmoid 식이 됩니다.  \n",
    "  \n",
    "$$ y = {1 \\over {1+\\exp^{-(\\beta_0 + \\beta_1x)}}} $$  "
   ]
  },
  {
   "cell_type": "markdown",
   "metadata": {},
   "source": [
    "<img src=\"./image/20.png\">"
   ]
  },
  {
   "cell_type": "markdown",
   "metadata": {},
   "source": [
    "결국 로지스틱 회귀 모델도 $\\beta_0$와 $\\beta_1$ 를 추정하게 됩니다.\n",
    "> 0 < sigmoid(x) < 1  \n",
    "sigmoid(0) = 0.5  \n",
    "곧 시그모이드 함수를 거친 값을 확률값처럼 생각이 가능해짐"
   ]
  },
  {
   "cell_type": "markdown",
   "metadata": {},
   "source": [
    "## 모델학습"
   ]
  },
  {
   "cell_type": "markdown",
   "metadata": {},
   "source": [
    "### cost function\n",
    "\n",
    "$$ \\hat{y} = \\begin{cases} 1 & \\text{ if } \\ h(x) \\geq 0.5 \\\\ 0 & \\text{ if } \\ h(x) < 0.5 \\end{cases} $$\n",
    "\n",
    "로지스틱 회귀모델의 비용함수는 각 가정에 따른 y의 결과값에 따라 서로 다른 함수를 갖게 됩니다."
   ]
  },
  {
   "cell_type": "code",
   "execution_count": null,
   "metadata": {
    "ExecuteTime": {
     "end_time": "2023-03-30T08:09:09.341537Z",
     "start_time": "2023-03-30T08:09:08.745926Z"
    }
   },
   "outputs": [],
   "source": [
    "import numpy as np\n",
    "import matplotlib.pyplot as plt\n",
    "import warnings\n",
    "warnings.filterwarnings(action='ignore')\n",
    "\n",
    "x = np.linspace(0, 1, 100)\n",
    "y1 = 0 - np.log(x)\n",
    "y0 = 0 - np.log(1 - x)\n",
    "\n",
    "plt.plot(x, y1, 'b', label='y=1')\n",
    "plt.plot(x, y0, 'g', label='y=0')\n",
    "plt.title('Loss functions of logistic regression')\n",
    "plt.xlabel('Hypothesis: $h\\\\theta(x)$')\n",
    "plt.ylabel('Loss')\n",
    "plt.legend()\n",
    "plt.show()"
   ]
  },
  {
   "cell_type": "markdown",
   "metadata": {
    "ExecuteTime": {
     "end_time": "2022-10-31T17:14:40.484532Z",
     "start_time": "2022-10-31T17:14:40.474250Z"
    }
   },
   "source": [
    "이를 방정식으로 풀어내면 하나의 식으로 정리가 됩니다.\n",
    "\n",
    "$$ cost(h(x),y) = -ylog(h(x)) - (1-y)log(1-h(x)) $$\n",
    "\n",
    "$$ J(\\theta)= \\dfrac{1}{N} \\sum_{i=1}^N[-y^ilog(h(x^i)) - (1-y^i)log(1-h(x^i))] $$\n",
    "\n",
    "$$ \\dfrac{\\partial{J(\\theta)}}{\\partial \\theta_j} = \\dfrac{1}{N} \\sum_{i=1}^N (h(x^i) - y^i)x_j^i$$"
   ]
  },
  {
   "cell_type": "markdown",
   "metadata": {},
   "source": [
    "## 모델평가\n",
    "> 예측모델인 **`linear regression`** 모델의 경우 최소자승법을 통해 모델을 평가하였다.  \n",
    "분류모델인 **`logistic regression`** 모델은 분류모델 평가 지표를 사용하여 모델을 평가한다.  \n",
    "대표적인 모델평가 함수인 **오차행렬(confusion matrix)** 와 **분류평가표(classification report)** 를 사용한다."
   ]
  },
  {
   "cell_type": "markdown",
   "metadata": {},
   "source": [
    "### 오차행렬(confusion matrix)\n",
    "<img src=\"./image/21.png\">  "
   ]
  },
  {
   "cell_type": "markdown",
   "metadata": {},
   "source": [
    "TP - True Positive(실제값 1, 예측값 1로 정분류 된 갯수)  \n",
    "FN - False Negative(실제값 1, 예측값 0으로 오분류 된 갯수)  \n",
    "FP - Flase Positive(실제값 0, 예측값 1로 오분류 된 갯수)  \n",
    "TN - True Negative(실제값 0, 예측값 0으로 정분류 된 갯수)"
   ]
  },
  {
   "cell_type": "markdown",
   "metadata": {},
   "source": [
    "### 정확도(Accuracy) - 전체 샘플 중 모델이 바르게 분류한 비율\n",
    "<img src=\"./image/22.png\">  "
   ]
  },
  {
   "cell_type": "markdown",
   "metadata": {},
   "source": [
    "$${TP + TN \\over TP + FN + FP + TN}$$"
   ]
  },
  {
   "cell_type": "markdown",
   "metadata": {},
   "source": [
    "### 정밀도(Precision) - 모델이 positive로 분류한 것 중 실제값이 positive이 비율\n",
    "<img src=\"./image/23.png\">  "
   ]
  },
  {
   "cell_type": "markdown",
   "metadata": {},
   "source": [
    "$${TP \\over TP + FP}$$"
   ]
  },
  {
   "cell_type": "markdown",
   "metadata": {},
   "source": [
    "### 재현율(Recall) - 실제값이 positive인 것 중 모델이 positive라 분류한 비율\n",
    "<img src=\"./image/24.png\">  "
   ]
  },
  {
   "cell_type": "markdown",
   "metadata": {},
   "source": [
    "$${TP \\over TP + FN}$$"
   ]
  },
  {
   "cell_type": "markdown",
   "metadata": {},
   "source": [
    "### f1-score - precision과 recall의 조화평균\n",
    "<img src=\"./image/25.png\">    "
   ]
  },
  {
   "cell_type": "markdown",
   "metadata": {},
   "source": [
    "$${2 * precision * recall \\over precision + recall}$$  "
   ]
  },
  {
   "cell_type": "markdown",
   "metadata": {},
   "source": [
    "## 로지스틱회귀 실습"
   ]
  },
  {
   "cell_type": "code",
   "execution_count": null,
   "metadata": {
    "ExecuteTime": {
     "end_time": "2023-03-30T08:08:38.207481Z",
     "start_time": "2023-03-30T08:08:38.207475Z"
    }
   },
   "outputs": [],
   "source": [
    "# 필요모듈 import\n",
    "from sklearn.datasets import load_breast_cancer\n",
    "# sklearn 유방암 데이터셋 활용\n",
    "cancer = load_breast_cancer()"
   ]
  },
  {
   "cell_type": "code",
   "execution_count": null,
   "metadata": {
    "ExecuteTime": {
     "end_time": "2023-03-30T08:08:38.208332Z",
     "start_time": "2023-03-30T08:08:38.208325Z"
    }
   },
   "outputs": [],
   "source": [
    "# 데이터 로드\n",
    "print(cancer['DESCR'])"
   ]
  },
  {
   "cell_type": "code",
   "execution_count": null,
   "metadata": {
    "ExecuteTime": {
     "end_time": "2023-03-30T08:08:38.208967Z",
     "start_time": "2023-03-30T08:08:38.208961Z"
    }
   },
   "outputs": [],
   "source": [
    "# 로딩 데이터 확인\n",
    "cancer['data']"
   ]
  },
  {
   "cell_type": "code",
   "execution_count": null,
   "metadata": {
    "ExecuteTime": {
     "end_time": "2023-03-30T08:08:38.209547Z",
     "start_time": "2023-03-30T08:08:38.209541Z"
    }
   },
   "outputs": [],
   "source": [
    "# 데이터프레임 제작\n",
    "import pandas as pd\n",
    "X = pd.DataFrame(cancer['data'], columns=cancer['feature_names'])"
   ]
  },
  {
   "cell_type": "code",
   "execution_count": null,
   "metadata": {},
   "outputs": [],
   "source": [
    "y = cancer['target']"
   ]
  },
  {
   "cell_type": "code",
   "execution_count": null,
   "metadata": {
    "ExecuteTime": {
     "end_time": "2023-03-30T08:08:38.210694Z",
     "start_time": "2023-03-30T08:08:38.210686Z"
    }
   },
   "outputs": [],
   "source": [
    "# 데이터 분할\n",
    "# 훈련과 테스트셋에서의 레이블의 분포가 동일하게 하라. (stratify=label)\n",
    "from sklearn.model_selection import train_test_split\n",
    "X_train, X_test, y_train, y_test = train_test_split(X, y, random_state=42, stratify=y)"
   ]
  },
  {
   "cell_type": "code",
   "execution_count": null,
   "metadata": {
    "ExecuteTime": {
     "end_time": "2023-03-30T08:08:38.211401Z",
     "start_time": "2023-03-30T08:08:38.211396Z"
    }
   },
   "outputs": [],
   "source": [
    "# 모델 import\n",
    "from sklearn.linear_model import LogisticRegression"
   ]
  },
  {
   "cell_type": "code",
   "execution_count": null,
   "metadata": {},
   "outputs": [],
   "source": [
    "LogisticRegression?"
   ]
  },
  {
   "cell_type": "code",
   "execution_count": null,
   "metadata": {
    "ExecuteTime": {
     "end_time": "2023-03-30T08:08:38.212045Z",
     "start_time": "2023-03-30T08:08:38.212038Z"
    }
   },
   "outputs": [],
   "source": [
    "# 모델 생성\n",
    "model = LogisticRegressiona()"
   ]
  },
  {
   "cell_type": "markdown",
   "metadata": {},
   "source": [
    "<img src=\"./image/26.png\">"
   ]
  },
  {
   "cell_type": "code",
   "execution_count": null,
   "metadata": {
    "ExecuteTime": {
     "end_time": "2023-03-30T08:08:38.212848Z",
     "start_time": "2023-03-30T08:08:38.212842Z"
    },
    "scrolled": true
   },
   "outputs": [],
   "source": [
    "# 모델 훈련\n",
    "model.fit(X_train, y_train)"
   ]
  },
  {
   "cell_type": "code",
   "execution_count": null,
   "metadata": {
    "ExecuteTime": {
     "end_time": "2023-03-30T08:08:38.213824Z",
     "start_time": "2023-03-30T08:08:38.213818Z"
    }
   },
   "outputs": [],
   "source": [
    "# 모델 예측\n",
    "pred = model.predict(X_test)"
   ]
  },
  {
   "cell_type": "code",
   "execution_count": null,
   "metadata": {
    "ExecuteTime": {
     "end_time": "2023-03-30T08:08:38.231453Z",
     "start_time": "2023-03-30T08:08:38.231444Z"
    }
   },
   "outputs": [],
   "source": [
    "# 모델 평가\n",
    "# 오분류 보고서 출력\n",
    "from sklearn.metrics import confusion_matrix, classification_report\n",
    "print(confusion_matrix(y_test, pred))\n",
    "print(classification_report(y_test, pred, target_names=cancer['target_names']))"
   ]
  }
 ],
 "metadata": {
  "kernelspec": {
   "display_name": "Python 3 (ipykernel)",
   "language": "python",
   "name": "python3"
  },
  "language_info": {
   "codemirror_mode": {
    "name": "ipython",
    "version": 3
   },
   "file_extension": ".py",
   "mimetype": "text/x-python",
   "name": "python",
   "nbconvert_exporter": "python",
   "pygments_lexer": "ipython3",
   "version": "3.10.9"
  },
  "toc": {
   "base_numbering": 1,
   "nav_menu": {},
   "number_sections": true,
   "sideBar": true,
   "skip_h1_title": true,
   "title_cell": "Table of Contents",
   "title_sidebar": "Contents",
   "toc_cell": false,
   "toc_position": {},
   "toc_section_display": true,
   "toc_window_display": false
  },
  "varInspector": {
   "cols": {
    "lenName": 16,
    "lenType": 16,
    "lenVar": 40
   },
   "kernels_config": {
    "python": {
     "delete_cmd_postfix": "",
     "delete_cmd_prefix": "del ",
     "library": "var_list.py",
     "varRefreshCmd": "print(var_dic_list())"
    },
    "r": {
     "delete_cmd_postfix": ") ",
     "delete_cmd_prefix": "rm(",
     "library": "var_list.r",
     "varRefreshCmd": "cat(var_dic_list()) "
    }
   },
   "types_to_exclude": [
    "module",
    "function",
    "builtin_function_or_method",
    "instance",
    "_Feature"
   ],
   "window_display": false
  }
 },
 "nbformat": 4,
 "nbformat_minor": 2
}
