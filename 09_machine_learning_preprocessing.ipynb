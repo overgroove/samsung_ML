{
 "cells": [
  {
   "cell_type": "markdown",
   "metadata": {},
   "source": [
    "# 머신러닝 데이터 전처리\n",
    "> 수집한 데이터를 머신러닝 알고리즘을 운용할 수 있는 형태로 가공하는 작업을 지칭합니다.  \n",
    "결측치, 범주형 데이터, 문자열, 날짜 형식 데이터 등 일반적인 데이터에서 발생 가능한 문제를 해결하는 일반적인 방법론을 지칭 하기도 합니다.  \n",
    "다만 데이터의 특성 및 사용해야 하는 모델 케이스에 따라 수행해야하는 전처리 과정이 달라 기술적인 어려움이 있습니다.  \n",
    "이번 시간에는 기본적인 전처리 방법들을 소개하고 샘플데이터에 적용하며 전처리 방법을 익혀 보겠습니다.  "
   ]
  },
  {
   "cell_type": "markdown",
   "metadata": {},
   "source": [
    "## titanic 데이터 설명\n",
    "> 타이타닉호에 승선했던 탑승자 정보를 담고 있는 데이터입니다. 데이터분석 필드에서는 교육용 및 입문용 데이터로 오랫동안 사랑받아 온 데이터이며  \n",
    "탑승자 정보를 바탕으로 이 탑승자가 생존했는지 혹은 사망했는지 분류하는 모델링을 목적으로 제작 된 데이터입니다.  \n",
    "\n",
    "**columns 정보**\n",
    "- pclass : 객실 등급  \n",
    "- survived : 생존 유무\n",
    "- name : 칭호를 포함한 이름\n",
    "- sex : 성별\n",
    "- age : 나이\n",
    "- sibsp : 형제 혹은 부부의 수\n",
    "- parch : 부모, 혹은 자녀의 수\n",
    "- ticket : 탑승권 종류 (각 숫자가 의미하는 바는 데이터를 통해 알 수 있는 것이 없을 수 있습니다.)\n",
    "- fare : 지불한 운임\n",
    "- cabin : 객실정보\n",
    "- embarked : 선착장정보\n",
    "- boat : 탈출한 보트가 있다면 boat 번호\n",
    "- body : 사망자의 시신 수습 후 부여한 일련번호\n",
    "- home : 출신"
   ]
  },
  {
   "cell_type": "markdown",
   "metadata": {},
   "source": [
    "## 결측 데이터 처리"
   ]
  },
  {
   "cell_type": "code",
   "execution_count": null,
   "metadata": {
    "ExecuteTime": {
     "end_time": "2022-11-18T22:54:16.602553Z",
     "start_time": "2022-11-18T22:54:16.208517Z"
    }
   },
   "outputs": [],
   "source": [
    "# 필요모듈 import\n",
    "import pandas as pd"
   ]
  },
  {
   "cell_type": "code",
   "execution_count": null,
   "metadata": {
    "ExecuteTime": {
     "end_time": "2022-11-18T22:54:17.787867Z",
     "start_time": "2022-11-18T22:54:17.759485Z"
    }
   },
   "outputs": [],
   "source": [
    "# 타이타닉 데이터 로드\n",
    "df = pd.read_csv('./data/titanic.csv')\n",
    "df.head()"
   ]
  },
  {
   "cell_type": "code",
   "execution_count": null,
   "metadata": {},
   "outputs": [],
   "source": [
    "df.info()"
   ]
  },
  {
   "cell_type": "code",
   "execution_count": null,
   "metadata": {
    "ExecuteTime": {
     "end_time": "2022-11-18T22:54:26.614050Z",
     "start_time": "2022-11-18T22:54:26.210472Z"
    }
   },
   "outputs": [],
   "source": [
    "# 결측 데이터 분포 시각화\n",
    "import seaborn as sns\n",
    "sns.heatmap(df.isna())"
   ]
  },
  {
   "cell_type": "code",
   "execution_count": null,
   "metadata": {},
   "outputs": [],
   "source": [
    "# 상관관계분석\n",
    "sns.heatmap(df.corr())"
   ]
  },
  {
   "cell_type": "markdown",
   "metadata": {},
   "source": [
    "이 중 cabin, home.dest 컬럼 데이터의 경우 결측치 비중이 높고 주변 데이터로부터 빈 데이터를 유추할 수 있는 힌트가 없어 삭제 처리 합니다."
   ]
  },
  {
   "cell_type": "code",
   "execution_count": null,
   "metadata": {},
   "outputs": [],
   "source": [
    "# 채워넣는 작업을 모두 마친 데이터의 경우 결측비 비율이 50% 이상일 경우 컬럼 삭제 (절대적인 것 아님)\n",
    "df.drop('cabin', axis=1, inplace=True)\n",
    "df.head()"
   ]
  },
  {
   "cell_type": "code",
   "execution_count": null,
   "metadata": {},
   "outputs": [],
   "source": [
    "del df['home.dest']\n",
    "df.head()"
   ]
  },
  {
   "cell_type": "code",
   "execution_count": null,
   "metadata": {},
   "outputs": [],
   "source": [
    "df.pop('ticket')\n",
    "df.head()"
   ]
  },
  {
   "cell_type": "code",
   "execution_count": null,
   "metadata": {},
   "outputs": [],
   "source": [
    "# 결측치 비율 계산\n",
    "df.info()"
   ]
  },
  {
   "cell_type": "code",
   "execution_count": null,
   "metadata": {},
   "outputs": [],
   "source": [
    "df['age'].isna().sum() / len(df['age']) * 100"
   ]
  },
  {
   "cell_type": "code",
   "execution_count": null,
   "metadata": {
    "ExecuteTime": {
     "end_time": "2022-11-18T22:54:30.080537Z",
     "start_time": "2022-11-18T22:54:30.071707Z"
    }
   },
   "outputs": [],
   "source": [
    "# 여러가지 방법으로 컬럼 삭제\n",
    "df['age'].mean()"
   ]
  },
  {
   "cell_type": "code",
   "execution_count": null,
   "metadata": {},
   "outputs": [],
   "source": [
    "# 결측치 처리\n",
    "df['age'].fillna(df['age'].mean(), inplace=True) # age 컬럼의 결측치를 해당 컬럼의 평균값으로 대체"
   ]
  },
  {
   "cell_type": "code",
   "execution_count": null,
   "metadata": {},
   "outputs": [],
   "source": [
    "df['fare'].fillna(df['fare'].mean(), inplace=True)"
   ]
  },
  {
   "cell_type": "code",
   "execution_count": null,
   "metadata": {},
   "outputs": [],
   "source": [
    "df['embarked'].unique() # 선택 데이터의 고윳값을 확인하는 메소드"
   ]
  },
  {
   "cell_type": "code",
   "execution_count": null,
   "metadata": {},
   "outputs": [],
   "source": [
    "df['embarked'].value_counts() # 고윳값의 갯수를 세어 내림차순으로 정렬"
   ]
  },
  {
   "cell_type": "code",
   "execution_count": null,
   "metadata": {},
   "outputs": [],
   "source": [
    "df['embarked'].fillna('S', inplace=True)"
   ]
  },
  {
   "cell_type": "code",
   "execution_count": null,
   "metadata": {},
   "outputs": [],
   "source": [
    "df.info()"
   ]
  },
  {
   "cell_type": "markdown",
   "metadata": {},
   "source": [
    "boat, body의 경우 유추하여 값을 채워 넣을 수 있는 데이터는 없지만 데이터의 존재 자체로서 생존 여부를 판단 할 수 있는 데이터이기에 데이터를 명목화 시키겠습니다."
   ]
  },
  {
   "cell_type": "code",
   "execution_count": null,
   "metadata": {},
   "outputs": [],
   "source": [
    "df.head()"
   ]
  },
  {
   "cell_type": "markdown",
   "metadata": {},
   "source": [
    "## 범주형 변수의 처리\n",
    "> 카테고리컬 데이터라고도 하며 데이터가 특정 구간에 속하여 구분이 가능한 데이터 분포를 보이는 변수의 경우 범주형 데이터라 합니다.  \n",
    "범주형 데이터의 경우 보통 문자열 구분이 되어있어 컴퓨터가 인식 가능한 숫자형태로 바꿔주는데 이를 더미화, 혹은 원핫인코딩이라 합니다."
   ]
  },
  {
   "cell_type": "code",
   "execution_count": null,
   "metadata": {
    "ExecuteTime": {
     "end_time": "2022-11-18T22:54:36.953549Z",
     "start_time": "2022-11-18T22:54:36.943729Z"
    }
   },
   "outputs": [],
   "source": [
    "# 보트 컬럼의 결측치 여부를 이진형 데이터로 치환\n",
    "df['boat'] = df['boat'].isna()"
   ]
  },
  {
   "cell_type": "code",
   "execution_count": null,
   "metadata": {},
   "outputs": [],
   "source": [
    "df['body'] = df['body'].isna()"
   ]
  },
  {
   "cell_type": "code",
   "execution_count": null,
   "metadata": {},
   "outputs": [],
   "source": [
    "df.head()"
   ]
  },
  {
   "cell_type": "code",
   "execution_count": null,
   "metadata": {},
   "outputs": [],
   "source": [
    "df.info()"
   ]
  },
  {
   "cell_type": "markdown",
   "metadata": {},
   "source": [
    "## 카테고리가 여러개인 변수 처리 (문자열 처리)"
   ]
  },
  {
   "cell_type": "markdown",
   "metadata": {},
   "source": [
    "이름의 경우 미들네임에 따라 생존에 영향을 줄 수 있는 경우가 있습니다. 전체 미들네임에 해당하는 카테고리를 선택하지 않고 일부만을 데이터화 시킵니다."
   ]
  },
  {
   "cell_type": "code",
   "execution_count": null,
   "metadata": {},
   "outputs": [],
   "source": [
    "df.head()"
   ]
  },
  {
   "cell_type": "code",
   "execution_count": null,
   "metadata": {
    "ExecuteTime": {
     "end_time": "2022-11-18T22:54:46.603843Z",
     "start_time": "2022-11-18T22:54:46.595053Z"
    }
   },
   "outputs": [],
   "source": [
    "# name 컬럼 첫번째 인덱스 데이터 선택해서 test_text로 저장\n",
    "test_text = df.loc[1, 'name']\n",
    "test_text"
   ]
  },
  {
   "cell_type": "code",
   "execution_count": null,
   "metadata": {},
   "outputs": [],
   "source": [
    "# 팬시인덱싱 내가 설정한 조건에 따라 데이터 선별\n",
    "test_text.split()[1]"
   ]
  },
  {
   "cell_type": "code",
   "execution_count": null,
   "metadata": {
    "ExecuteTime": {
     "end_time": "2022-11-18T22:54:49.735540Z",
     "start_time": "2022-11-18T22:54:49.728976Z"
    }
   },
   "outputs": [],
   "source": [
    "# 미들네임 선택 함수\n",
    "def make_name(x):\n",
    "    return x.split()[1]"
   ]
  },
  {
   "cell_type": "code",
   "execution_count": null,
   "metadata": {},
   "outputs": [],
   "source": [
    "make_name(test_text)"
   ]
  },
  {
   "cell_type": "code",
   "execution_count": null,
   "metadata": {
    "ExecuteTime": {
     "end_time": "2022-11-18T22:54:50.015810Z",
     "start_time": "2022-11-18T22:54:49.998278Z"
    }
   },
   "outputs": [],
   "source": [
    "# 미들네임 선택 함수 적용 후 name 컬럼 원본값 변경\n",
    "df['name'] = df['name'].apply(make_name)"
   ]
  },
  {
   "cell_type": "code",
   "execution_count": null,
   "metadata": {},
   "outputs": [],
   "source": [
    "df['name'].unique()"
   ]
  },
  {
   "cell_type": "code",
   "execution_count": null,
   "metadata": {
    "ExecuteTime": {
     "end_time": "2022-11-18T22:54:50.520316Z",
     "start_time": "2022-11-18T22:54:50.511309Z"
    }
   },
   "outputs": [],
   "source": [
    "# name 컬럼의 문자열 그대로는 학습에 사용이 불가능하기에 이를 다시 숫자형태로 치환 + 기타 미들네임을 0으로 변환\n",
    "def make_name2(x):\n",
    "    if x == 'Mrs.':\n",
    "        return 1\n",
    "    elif x == 'Miss.':\n",
    "        return 2\n",
    "    elif x == 'Mr.':\n",
    "        return 3\n",
    "    elif x == 'Master.':\n",
    "        return 4\n",
    "    else:\n",
    "        return 0"
   ]
  },
  {
   "cell_type": "code",
   "execution_count": null,
   "metadata": {
    "ExecuteTime": {
     "end_time": "2022-11-18T22:54:53.527084Z",
     "start_time": "2022-11-18T22:54:53.515147Z"
    }
   },
   "outputs": [],
   "source": [
    "# 커스텀함수 적용\n",
    "df['name'] = df['name'].apply(make_name2)"
   ]
  },
  {
   "cell_type": "code",
   "execution_count": null,
   "metadata": {},
   "outputs": [],
   "source": [
    "df.head()"
   ]
  },
  {
   "cell_type": "code",
   "execution_count": null,
   "metadata": {
    "ExecuteTime": {
     "end_time": "2022-11-18T22:54:54.257782Z",
     "start_time": "2022-11-18T22:54:54.240660Z"
    }
   },
   "outputs": [],
   "source": [
    "# 데이터프레임 내부에 카테고리컬 컬럼을 원핫인코딩 변환 작업\n",
    "data = pd.get_dummies(df, columns=['pclass', 'name', 'sex', 'embarked', 'boat', 'body'], drop_first=True)"
   ]
  },
  {
   "cell_type": "code",
   "execution_count": null,
   "metadata": {},
   "outputs": [],
   "source": [
    "data.head()"
   ]
  },
  {
   "cell_type": "markdown",
   "metadata": {},
   "source": [
    "## 타겟, 학습데이터 분할"
   ]
  },
  {
   "cell_type": "code",
   "execution_count": null,
   "metadata": {
    "ExecuteTime": {
     "end_time": "2022-11-18T22:58:19.083959Z",
     "start_time": "2022-11-18T22:58:19.070709Z"
    }
   },
   "outputs": [],
   "source": [
    "# 타겟데이터 분할\n",
    "y = data['survived']\n",
    "X = data.drop('survived', axis=1)\n",
    "# 학습데이터 분할\n",
    "from sklearn.model_selection import train_test_split\n",
    "X_train, X_test, y_train, y_test = train_test_split(X, y, test_size=0.3, random_state=42, stratify=y)"
   ]
  },
  {
   "cell_type": "markdown",
   "metadata": {},
   "source": [
    "## 모델학습"
   ]
  },
  {
   "cell_type": "code",
   "execution_count": null,
   "metadata": {},
   "outputs": [],
   "source": [
    "# 모델 생성\n",
    "from sklearn.linear_model import LogisticRegression"
   ]
  },
  {
   "cell_type": "code",
   "execution_count": null,
   "metadata": {},
   "outputs": [],
   "source": [
    "model = LogisticRegression(random_state=42)"
   ]
  },
  {
   "cell_type": "code",
   "execution_count": null,
   "metadata": {},
   "outputs": [],
   "source": [
    "# 모델 학습\n",
    "model.fit(X_train, y_train)"
   ]
  },
  {
   "cell_type": "code",
   "execution_count": null,
   "metadata": {},
   "outputs": [],
   "source": [
    "# 모델 예측값 저장\n",
    "pred = model.predict(X_test)"
   ]
  },
  {
   "cell_type": "code",
   "execution_count": null,
   "metadata": {},
   "outputs": [],
   "source": [
    "# 모델 평가\n",
    "from sklearn.metrics import confusion_matrix, classification_report\n",
    "print(confusion_matrix(y_test, pred))\n",
    "print(classification_report(y_test, pred))"
   ]
  },
  {
   "cell_type": "markdown",
   "metadata": {},
   "source": [
    "## 날짜형식 데이터 전처리"
   ]
  },
  {
   "cell_type": "markdown",
   "metadata": {},
   "source": [
    "### 사용 데이터 간략 설명\n",
    "> 한국에너지관리공단에서 제공한 전력사용량 데이터  \n",
    "1시간 간격으로 수집 된 60개 건물들의 2020년 6월 1일 부터 2020년 8월 24일까지의 데이터  \n",
    "건물정보와 기후정보를 활용한 전력사용량을 예측하기 위한 데이터셋  \n",
    "대회홈페이지 : https://dacon.io/competitions/official/235736/overview/description\n",
    ">> 각 변수(컬럼) 설명  \n",
    ">>- num : 건물번호  \n",
    ">>- date_time : 데이터가 수집 된 날짜, 시간  \n",
    ">>- 전력사용량 : 수집 된 시점에 사용한 전력량  \n",
    ">>- 비전기냉방설비운영 : 0-미운영, 1-운영  \n",
    ">>- 태양광보유 : 0-미보유, 1-보유"
   ]
  },
  {
   "cell_type": "code",
   "execution_count": null,
   "metadata": {},
   "outputs": [],
   "source": [
    "# 데이터 로딩\n",
    "df = pd.read_csv('./data/energy1.csv', encoding='cp949')\n",
    "df.head()"
   ]
  },
  {
   "cell_type": "code",
   "execution_count": null,
   "metadata": {},
   "outputs": [],
   "source": [
    "# date_time컬럼 날짜 형식으로 변환 후 새로운 변수로 저장\n",
    "df.info()"
   ]
  },
  {
   "cell_type": "code",
   "execution_count": null,
   "metadata": {},
   "outputs": [],
   "source": [
    "# datetime 형식의 데이터에서 시간 속성 값 추출 테스트\n",
    "df['date_time'] = pd.to_datetime(df['date_time'])"
   ]
  },
  {
   "cell_type": "code",
   "execution_count": null,
   "metadata": {},
   "outputs": [],
   "source": [
    "# 함수 제작 및 적용\n",
    "test_time = df.loc[0, 'date_time']"
   ]
  },
  {
   "cell_type": "code",
   "execution_count": null,
   "metadata": {},
   "outputs": [],
   "source": [
    "print(test_time)\n",
    "print(test_time.year)\n",
    "print(test_time.month)\n",
    "print(test_time.day)\n",
    "print(test_time.hour)\n",
    "print(test_time.minute)\n",
    "print(test_time.second)\n",
    "print(test_time.microsecond)\n",
    "print(test_time.dayofweek) # 요일 0부터 월요일"
   ]
  },
  {
   "cell_type": "code",
   "execution_count": null,
   "metadata": {},
   "outputs": [],
   "source": [
    "test_time = df.loc[0, 'date_time']\n",
    "test_time2 = df.loc[1, 'date_time']"
   ]
  },
  {
   "cell_type": "code",
   "execution_count": null,
   "metadata": {},
   "outputs": [],
   "source": [
    "test_time2 - test_time"
   ]
  },
  {
   "cell_type": "code",
   "execution_count": null,
   "metadata": {},
   "outputs": [],
   "source": [
    "# 시간 속성 분해 커스텀 함수 제작\n",
    "def make_month(x):\n",
    "    return x.month\n",
    "def make_day(x):\n",
    "    return x.day\n",
    "def make_hour(x):\n",
    "    return x.hour"
   ]
  },
  {
   "cell_type": "code",
   "execution_count": null,
   "metadata": {},
   "outputs": [],
   "source": [
    "df['month'] = df['date_time'].apply(make_month)\n",
    "df['day'] = df['date_time'].apply(make_day)\n",
    "df['hour'] = df['date_time'].apply(make_hour)"
   ]
  },
  {
   "cell_type": "code",
   "execution_count": null,
   "metadata": {},
   "outputs": [],
   "source": [
    "df.head()"
   ]
  },
  {
   "cell_type": "code",
   "execution_count": null,
   "metadata": {},
   "outputs": [],
   "source": [
    "df.loc[행(인덱스, 슬라이싱), 열(문자, 슬라이싱)] # 인덱스 넘버, 문자열을 받아들입니다."
   ]
  },
  {
   "cell_type": "code",
   "execution_count": null,
   "metadata": {},
   "outputs": [],
   "source": [
    "df.loc[(df['num'] == 1) & (df['month'] == 7), '전력사용량(kWh)'].mean()"
   ]
  },
  {
   "cell_type": "code",
   "execution_count": null,
   "metadata": {},
   "outputs": [],
   "source": [
    "df.loc[df['num'] == 1]"
   ]
  },
  {
   "cell_type": "code",
   "execution_count": null,
   "metadata": {},
   "outputs": [],
   "source": [
    "# 팬시 인덱싱 1번 건물의 7월달 전력사용량 평균\n",
    "df.loc[df['num'] == 1]"
   ]
  }
 ],
 "metadata": {
  "kernelspec": {
   "display_name": "Python 3 (ipykernel)",
   "language": "python",
   "name": "python3"
  },
  "language_info": {
   "codemirror_mode": {
    "name": "ipython",
    "version": 3
   },
   "file_extension": ".py",
   "mimetype": "text/x-python",
   "name": "python",
   "nbconvert_exporter": "python",
   "pygments_lexer": "ipython3",
   "version": "3.10.9"
  },
  "toc": {
   "base_numbering": 1,
   "nav_menu": {},
   "number_sections": true,
   "sideBar": true,
   "skip_h1_title": true,
   "title_cell": "Table of Contents",
   "title_sidebar": "Contents",
   "toc_cell": false,
   "toc_position": {},
   "toc_section_display": true,
   "toc_window_display": false
  },
  "varInspector": {
   "cols": {
    "lenName": 16,
    "lenType": 16,
    "lenVar": 40
   },
   "kernels_config": {
    "python": {
     "delete_cmd_postfix": "",
     "delete_cmd_prefix": "del ",
     "library": "var_list.py",
     "varRefreshCmd": "print(var_dic_list())"
    },
    "r": {
     "delete_cmd_postfix": ") ",
     "delete_cmd_prefix": "rm(",
     "library": "var_list.r",
     "varRefreshCmd": "cat(var_dic_list()) "
    }
   },
   "types_to_exclude": [
    "module",
    "function",
    "builtin_function_or_method",
    "instance",
    "_Feature"
   ],
   "window_display": false
  }
 },
 "nbformat": 4,
 "nbformat_minor": 2
}
