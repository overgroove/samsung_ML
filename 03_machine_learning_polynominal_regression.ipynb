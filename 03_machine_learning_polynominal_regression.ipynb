{
 "cells": [
  {
   "cell_type": "markdown",
   "id": "ae9e1d4d",
   "metadata": {},
   "source": [
    "# 다항회귀\n",
    "> 선형회귀의 경우 설명변수와 종속변수의 관계를 선형관계로 해석하지만 현실 문제는 선형으로 해결이 불가능한 경우가 많습니다.  \n",
    "선형모델의 구조적 한계를 보완하고자 **변수 간 영향력에 해당하는 새로운 변수를 생성**하여 방정식을 비선형으로 만들고 선형모델을 적용시킬 수 있습니다.  \n",
    "2차원 예시 $x_1, x_2, x_3$를 $x_1^2, x_2^2, x_3^2, x_1x_2, x_1x_3, x_2x_3$으로 변환하여 변수를 확장.  \n",
    "보통 2차원 또는 3차원까지 적용하며, 변수가 많아지므로 Ridge, Lasso 모델을 적용한다.\n",
    "<img src=\"./image/47.png\">"
   ]
  },
  {
   "cell_type": "markdown",
   "id": "f7948bbb",
   "metadata": {},
   "source": [
    "### 다항회귀 실습"
   ]
  },
  {
   "cell_type": "code",
   "execution_count": null,
   "id": "aa3c0641",
   "metadata": {},
   "outputs": [],
   "source": [
    "import pandas as pd"
   ]
  },
  {
   "cell_type": "code",
   "execution_count": null,
   "id": "18c9cf64",
   "metadata": {},
   "outputs": [],
   "source": [
    "# boston 데이터 확인\n",
    "df = pd.read_csv('./data/boston.csv')"
   ]
  },
  {
   "cell_type": "code",
   "execution_count": null,
   "id": "109354f4",
   "metadata": {},
   "outputs": [],
   "source": [
    "# 타겟데이터 분할\n",
    "y = df['y']\n",
    "X = df.drop('y', axis=1)"
   ]
  },
  {
   "cell_type": "code",
   "execution_count": null,
   "id": "1d357e7e",
   "metadata": {},
   "outputs": [],
   "source": [
    "# 훈련셋과 테스트셋 분리\n",
    "from sklearn.model_selection import train_test_split\n",
    "X_train, X_test, y_train, y_test = train_test_split(X, y, test_size=0.3, random_state=42)"
   ]
  },
  {
   "cell_type": "code",
   "execution_count": null,
   "id": "a35d94f2",
   "metadata": {},
   "outputs": [],
   "source": [
    "# 전처리 모델 import\n",
    "from sklearn.preprocessing import PolynomialFeatures"
   ]
  },
  {
   "cell_type": "code",
   "execution_count": null,
   "id": "c00ea540",
   "metadata": {},
   "outputs": [],
   "source": [
    "# 다항변수 제작함수 인스턴스화\n",
    "poly = PolynomialFeatures(degree=2, include_bias=False)\n",
    "'''\n",
    "파라메터\n",
    "degree=2 : 차수설정\n",
    "include_bias=False : 상수항 제거(필수) b0는 설명변수의 곱의 조합에서 제외시킴\n",
    "'''"
   ]
  },
  {
   "cell_type": "code",
   "execution_count": null,
   "id": "c027e59b",
   "metadata": {},
   "outputs": [],
   "source": [
    "# 최대 표시 가능한 컬럼갯수 설정\n",
    "pd.options.display.max_columns=200 "
   ]
  },
  {
   "cell_type": "code",
   "execution_count": null,
   "id": "a14393ad",
   "metadata": {},
   "outputs": [],
   "source": [
    "# 변수 변환\n",
    "poly_X_train = pd.DataFrame(poly.fit_transform(X_train), columns=poly.get_feature_names_out())"
   ]
  },
  {
   "cell_type": "code",
   "execution_count": null,
   "id": "b6106f91",
   "metadata": {},
   "outputs": [],
   "source": [
    "# shape 확인\n",
    "poly_X_train.shape"
   ]
  },
  {
   "cell_type": "code",
   "execution_count": null,
   "id": "cbd9c8f8",
   "metadata": {},
   "outputs": [],
   "source": [
    "# 변환식 반환\n",
    "poly.get_feature_names_out()"
   ]
  },
  {
   "cell_type": "code",
   "execution_count": null,
   "id": "c2757b57",
   "metadata": {},
   "outputs": [],
   "source": [
    "# 데이터프레임으로 제작 후 데이터 확인\n"
   ]
  },
  {
   "cell_type": "code",
   "execution_count": null,
   "id": "89356f8a",
   "metadata": {},
   "outputs": [],
   "source": [
    "# test 데이터 동일한 모델로 적용\n",
    "poly_X_test = poly.transform(X_test)"
   ]
  },
  {
   "cell_type": "code",
   "execution_count": null,
   "id": "b9c50ca8",
   "metadata": {},
   "outputs": [],
   "source": [
    "# 모델 정의\n",
    "from sklearn.linear_model import Lasso"
   ]
  },
  {
   "cell_type": "code",
   "execution_count": null,
   "id": "864d01f7",
   "metadata": {},
   "outputs": [],
   "source": [
    "# 모델 생성\n",
    "poly_lasso = Lasso()"
   ]
  },
  {
   "cell_type": "code",
   "execution_count": null,
   "id": "36e1f404",
   "metadata": {},
   "outputs": [],
   "source": [
    "# 모델 학습\n",
    "poly_lasso.fit(poly_X_train, y_train)"
   ]
  },
  {
   "cell_type": "code",
   "execution_count": null,
   "id": "827c2d00",
   "metadata": {},
   "outputs": [],
   "source": [
    "# 모델 예측\n",
    "poly_lasso_pred = poly_lasso.predict(poly_X_test)"
   ]
  },
  {
   "cell_type": "code",
   "execution_count": null,
   "id": "0cf7a72b",
   "metadata": {},
   "outputs": [],
   "source": [
    "# 모델 평가\n",
    "from sklearn.metrics import r2_score, mean_squared_error, mean_absolute_error\n",
    "print(f'R2 score : {r2_score(y_test, poly_lasso_pred)}')\n",
    "print(f'MAE : {mean_absolute_error(y_test, poly_lasso_pred)}')\n",
    "print(f'RMSE : {mean_squared_error(y_test, poly_lasso_pred, squared=False)}')"
   ]
  },
  {
   "cell_type": "code",
   "execution_count": null,
   "id": "f676364e",
   "metadata": {},
   "outputs": [],
   "source": [
    "# 기존에 사용했던 모델이 보스턴 주택가격을 예측하는 데 있어 단순한 모델이였음.\n",
    "# 비선형모델, y 분포가 비선형이구나 추측"
   ]
  },
  {
   "cell_type": "code",
   "execution_count": null,
   "id": "01a0b547",
   "metadata": {},
   "outputs": [],
   "source": [
    "# 모델 계수 확인\n",
    "poly_lasso.coef_"
   ]
  },
  {
   "cell_type": "code",
   "execution_count": null,
   "id": "360ccd1d",
   "metadata": {},
   "outputs": [],
   "source": [
    "# 계수 플로팅\n",
    "import matplotlib.pyplot as plt\n",
    "plt.figure(figsize=(10, 20))\n",
    "plt.barh(poly_X_train.columns, poly_lasso.coef_)\n",
    "plt.show()"
   ]
  },
  {
   "cell_type": "code",
   "execution_count": null,
   "id": "089ad1b1",
   "metadata": {},
   "outputs": [],
   "source": [
    "# 프로젝트 수행에 모델 예측력이 최우선되는 프로젝트에는 사용할 만 함\n",
    "# 설득대상자가 통계베이스이신 어르신이면 안쓰시는게 좋음\n",
    "# 설명변수의 영향도 분석은 되도록이면 안하시는 것이 좋습니다."
   ]
  }
 ],
 "metadata": {
  "kernelspec": {
   "display_name": "Python 3 (ipykernel)",
   "language": "python",
   "name": "python3"
  },
  "language_info": {
   "codemirror_mode": {
    "name": "ipython",
    "version": 3
   },
   "file_extension": ".py",
   "mimetype": "text/x-python",
   "name": "python",
   "nbconvert_exporter": "python",
   "pygments_lexer": "ipython3",
   "version": "3.10.9"
  },
  "toc": {
   "base_numbering": 1,
   "nav_menu": {},
   "number_sections": true,
   "sideBar": false,
   "skip_h1_title": true,
   "title_cell": "Table of Contents",
   "title_sidebar": "Contents",
   "toc_cell": false,
   "toc_position": {},
   "toc_section_display": true,
   "toc_window_display": false
  },
  "varInspector": {
   "cols": {
    "lenName": 16,
    "lenType": 16,
    "lenVar": 40
   },
   "kernels_config": {
    "python": {
     "delete_cmd_postfix": "",
     "delete_cmd_prefix": "del ",
     "library": "var_list.py",
     "varRefreshCmd": "print(var_dic_list())"
    },
    "r": {
     "delete_cmd_postfix": ") ",
     "delete_cmd_prefix": "rm(",
     "library": "var_list.r",
     "varRefreshCmd": "cat(var_dic_list()) "
    }
   },
   "types_to_exclude": [
    "module",
    "function",
    "builtin_function_or_method",
    "instance",
    "_Feature"
   ],
   "window_display": false
  }
 },
 "nbformat": 4,
 "nbformat_minor": 5
}
