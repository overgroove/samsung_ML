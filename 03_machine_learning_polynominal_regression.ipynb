{
 "cells": [
  {
   "cell_type": "markdown",
   "id": "ae9e1d4d",
   "metadata": {},
   "source": [
    "## 다항회귀\n",
    "> 선형회귀의 경우 설명변수와 종속변수의 관계를 선형관계로 해석하지만 현실 문제는 선형으로 해결이 불가능한 경우가 많습니다.  \n",
    "선형모델의 구조적 한계를 보완하고자 **변수 간 영향력에 해당하는 새로운 변수를 생성**하여 방정식을 비선형으로 만들고 선형모델을 적용시킬 수 있습니다.  \n",
    "2차원 예시 $x_1, x_2, x_3$를 $x_1^2, x_2^2, x_3^2, x_1x_2, x_1x_3, x_2x_3$으로 변환하여 변수를 확장.  \n",
    "보통 2차원 또는 3차원까지 적용하며, 변수가 많아지므로 Ridge, Lasso 모델을 적용한다."
   ]
  },
  {
   "cell_type": "markdown",
   "id": "f7948bbb",
   "metadata": {},
   "source": [
    "### 다항회귀 실습"
   ]
  },
  {
   "cell_type": "code",
   "execution_count": null,
   "id": "a35d94f2",
   "metadata": {},
   "outputs": [],
   "source": [
    "# 필요모델 import\n",
    "from sklearn.preprocessing import PolynomialFeatures"
   ]
  },
  {
   "cell_type": "code",
   "execution_count": null,
   "id": "c00ea540",
   "metadata": {},
   "outputs": [],
   "source": [
    "# 다항변수 제작함수 인스턴스화\n",
    "poly = PolynomialFeatures(degree=2, include_bias=False)\n",
    "'''\n",
    "파라메터\n",
    "degree=2 : 차수설정\n",
    "include_bias=False : 상수항 제거(필수)\n",
    "'''"
   ]
  },
  {
   "cell_type": "code",
   "execution_count": null,
   "id": "a14393ad",
   "metadata": {},
   "outputs": [],
   "source": [
    "# 변수 변환\n",
    "# X_train에 해당하는 변수를 학습과 동시에 적용\n",
    "# 설명변수의 갯수, 설명변수 이름 학습\n",
    "poly_X_train = poly.fit_transform(X_train)"
   ]
  },
  {
   "cell_type": "code",
   "execution_count": null,
   "id": "b6106f91",
   "metadata": {},
   "outputs": [],
   "source": [
    "# shape 확인\n",
    "poly_X_train.shape"
   ]
  },
  {
   "cell_type": "code",
   "execution_count": null,
   "id": "cbd9c8f8",
   "metadata": {},
   "outputs": [],
   "source": [
    "# 변환식 반환\n",
    "poly.get_feature_names_out()"
   ]
  },
  {
   "cell_type": "code",
   "execution_count": null,
   "id": "d6f44394",
   "metadata": {},
   "outputs": [],
   "source": [
    "# 데이터프레임으로 값을 확인 시 최대 표시 설정 옵션 설정\n",
    "pd.options.display.max_columns= 150"
   ]
  },
  {
   "cell_type": "code",
   "execution_count": null,
   "id": "c2757b57",
   "metadata": {},
   "outputs": [],
   "source": [
    "# 데이터프레임으로 제작 후 데이터 확인\n",
    "pd.DataFrame(poly_X_train, columns=poly.get_feature_names_out())"
   ]
  },
  {
   "cell_type": "code",
   "execution_count": null,
   "id": "89356f8a",
   "metadata": {},
   "outputs": [],
   "source": [
    "# test 데이터 동일한 모델로 적용\n",
    "poly_X_test = poly.transform(X_test)"
   ]
  },
  {
   "cell_type": "code",
   "execution_count": null,
   "id": "b9c50ca8",
   "metadata": {},
   "outputs": [],
   "source": [
    "# 모델 정의\n",
    "from sklearn.linear_model import Lasso"
   ]
  },
  {
   "cell_type": "code",
   "execution_count": null,
   "id": "36e1f404",
   "metadata": {},
   "outputs": [],
   "source": [
    "# 모델 학습\n",
    "lasso = Lasso()\n",
    "lasso.fit(poly_X_train, y_train)"
   ]
  },
  {
   "cell_type": "code",
   "execution_count": null,
   "id": "827c2d00",
   "metadata": {},
   "outputs": [],
   "source": [
    "# 모델 예측\n",
    "lasso_pred = lasso.predict(poly_X_test)"
   ]
  },
  {
   "cell_type": "code",
   "execution_count": null,
   "id": "0cf7a72b",
   "metadata": {},
   "outputs": [],
   "source": [
    "# 모델 평가\n",
    "print(f'R2 score : {r2_score(y_test, lasso_pred)}')\n",
    "print(f'RMSE : {mean_squared_error(y_test, lasso_pred, squared=False)}')\n",
    "print(f'MAE : {mean_absolute_error(y_test, lasso_pred)}')"
   ]
  },
  {
   "cell_type": "code",
   "execution_count": null,
   "id": "01a0b547",
   "metadata": {},
   "outputs": [],
   "source": [
    "# 모델 계수 확인\n",
    "lasso.coef_"
   ]
  },
  {
   "cell_type": "code",
   "execution_count": null,
   "id": "360ccd1d",
   "metadata": {},
   "outputs": [],
   "source": [
    "# 계수 플로팅\n",
    "plt.figure(figsize=(10, 20))\n",
    "plt.barh(poly.get_feature_names_out(), lasso.coef_)\n",
    "plt.show()"
   ]
  },
  {
   "cell_type": "code",
   "execution_count": null,
   "id": "3192983d",
   "metadata": {},
   "outputs": [],
   "source": [
    "# 다항회귀는 예측력이 최우선인 프로젝트에 사용.\n",
    "# 베타 분석이 들어가면 해석이 어려워짐, 설득도 어려워짐"
   ]
  }
 ],
 "metadata": {
  "kernelspec": {
   "display_name": "Python 3 (ipykernel)",
   "language": "python",
   "name": "python3"
  },
  "language_info": {
   "codemirror_mode": {
    "name": "ipython",
    "version": 3
   },
   "file_extension": ".py",
   "mimetype": "text/x-python",
   "name": "python",
   "nbconvert_exporter": "python",
   "pygments_lexer": "ipython3",
   "version": "3.10.9"
  }
 },
 "nbformat": 4,
 "nbformat_minor": 5
}
