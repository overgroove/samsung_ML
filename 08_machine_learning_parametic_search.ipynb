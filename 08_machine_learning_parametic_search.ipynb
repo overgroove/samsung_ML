{
 "cells": [
  {
   "cell_type": "markdown",
   "id": "182b0b49",
   "metadata": {},
   "source": [
    "# 파라메터 서칭\n",
    "tree base 모델은 설정 가능한 파라메터의 조합에 따라 모델 예측력 차이가 큰 특징을 가지고 있습니다.  \n",
    "특히, Xgboost 모델의 경우 파라메터 설정에 따른 모델 예측력 차이가 굉장히 크기에 꼭 파라메터 서칭을 진행해주셔야 합니다.  \n",
    "간단한 문법을 통해 파라메터 서칭을 진행 해보겠습니다."
   ]
  },
  {
   "cell_type": "markdown",
   "id": "6bf4b30c",
   "metadata": {},
   "source": [
    "## 파이썬 기본 문법으로 파라메터 서칭"
   ]
  },
  {
   "cell_type": "code",
   "execution_count": 5,
   "id": "cbbb0140",
   "metadata": {},
   "outputs": [],
   "source": [
    "# 필요 모듈 import\n",
    "import pandas as pd\n",
    "from itertools import product\n",
    "from sklearn.model_selection import train_test_split"
   ]
  },
  {
   "cell_type": "code",
   "execution_count": 3,
   "id": "1e44a94a",
   "metadata": {},
   "outputs": [],
   "source": [
    "# 데이터셋 로딩\n",
    "df = pd.read_csv('./data/boston.csv')"
   ]
  },
  {
   "cell_type": "code",
   "execution_count": 4,
   "id": "ec392f47",
   "metadata": {},
   "outputs": [],
   "source": [
    "# 타겟 데이터 분할\n",
    "y = df['y']\n",
    "X = df.drop('y', axis=1)"
   ]
  },
  {
   "cell_type": "code",
   "execution_count": 6,
   "id": "6a649665",
   "metadata": {},
   "outputs": [],
   "source": [
    "# 학습 데이터 분할\n",
    "X_train, X_test, y_train, y_test = train_test_split(X, y, test_size=0.3, random_state=42)"
   ]
  },
  {
   "cell_type": "code",
   "execution_count": 19,
   "id": "a86e6d65",
   "metadata": {},
   "outputs": [],
   "source": [
    "# 검증 데이터 분할\n",
    "X_train2, X_val, y_train2, y_val = train_test_split(X_train, y_train, test_size=0.2, random_state=42)"
   ]
  },
  {
   "cell_type": "code",
   "execution_count": 20,
   "id": "6605e5ce",
   "metadata": {},
   "outputs": [],
   "source": [
    "from sklearn.ensemble import RandomForestRegressor\n",
    "from sklearn.metrics import r2_score"
   ]
  },
  {
   "cell_type": "code",
   "execution_count": 21,
   "id": "bad37c5c",
   "metadata": {},
   "outputs": [
    {
     "name": "stdout",
     "output_type": "stream",
     "text": [
      "(3, 100) 서칭중\n",
      "최적 모델 갱신!\n",
      "(3, 300) 서칭중\n",
      "(3, 500) 서칭중\n",
      "(3, 700) 서칭중\n",
      "(3, 900) 서칭중\n",
      "(3, 1000) 서칭중\n",
      "(5, 100) 서칭중\n",
      "최적 모델 갱신!\n",
      "(5, 300) 서칭중\n",
      "(5, 500) 서칭중\n",
      "(5, 700) 서칭중\n",
      "(5, 900) 서칭중\n",
      "(5, 1000) 서칭중\n",
      "(7, 100) 서칭중\n",
      "최적 모델 갱신!\n",
      "(7, 300) 서칭중\n",
      "(7, 500) 서칭중\n",
      "(7, 700) 서칭중\n",
      "(7, 900) 서칭중\n",
      "(7, 1000) 서칭중\n",
      "(9, 100) 서칭중\n",
      "(9, 300) 서칭중\n",
      "(9, 500) 서칭중\n",
      "(9, 700) 서칭중\n",
      "(9, 900) 서칭중\n",
      "(9, 1000) 서칭중\n",
      "모델 학습 완료\n"
     ]
    }
   ],
   "source": [
    "# 파라메터 서칭\n",
    "# randomforest 서칭 해야할 파라메터 max_depth, n_estimators\n",
    "depth = [3, 5, 7, 9]\n",
    "est = [100, 300, 500, 700, 900, 1000]\n",
    "\n",
    "best_score = 0 # 아주 작은 값으로 초기화\n",
    "best_param = 0\n",
    "\n",
    "for param in list(product(depth, est)):\n",
    "    print(f'{param} 서칭중')\n",
    "    model = RandomForestRegressor(max_depth=param[0], n_estimators=param[1], random_state=42)\n",
    "    model.fit(X_train2, y_train2)\n",
    "    pred = model.predict(X_val)\n",
    "    r2 = r2_score(y_val, pred)\n",
    "    if r2 > best_score:\n",
    "        print('최적 모델 갱신!')# 최댁값 찾는 알고리즘\n",
    "        best_score = r2\n",
    "        best_param = param\n",
    "\n",
    "print('모델 학습 완료')   "
   ]
  },
  {
   "cell_type": "code",
   "execution_count": 23,
   "id": "c3e3e01e",
   "metadata": {},
   "outputs": [
    {
     "data": {
      "text/plain": [
       "(0.7132323588740164, (7, 100))"
      ]
     },
     "execution_count": 23,
     "metadata": {},
     "output_type": "execute_result"
    }
   ],
   "source": [
    "# 위 파라메터 서칭 코드로 찾은 최적 모델의 평가지표와 파라메터 확인\n",
    "best_score, best_param"
   ]
  },
  {
   "cell_type": "code",
   "execution_count": 24,
   "id": "d44c85a1",
   "metadata": {},
   "outputs": [
    {
     "name": "stdout",
     "output_type": "stream",
     "text": [
      "0.865436646031359\n"
     ]
    }
   ],
   "source": [
    "# 최적 모델로 모델 다시 학습 및 평가\n",
    "best_model = RandomForestRegressor(random_state=42, max_depth=7, n_estimators=100)\n",
    "best_model.fit(X_train, y_train)\n",
    "best_pred = best_model.predict(X_test)\n",
    "print(r2_score(y_test, best_pred))"
   ]
  },
  {
   "cell_type": "markdown",
   "id": "6b4fea4b",
   "metadata": {},
   "source": [
    "## sklearn GridSearchCV\n",
    "sklearn 패키지에는 위의 파라메터 서칭 과정을 간편하게 진행 할 수 있도록 GridSearchCV 방법론을 제공합니다.  \n",
    "기존 파라메터 서칭과 함께 cross validation 과정을 추가하여 데이터 분할에 강건한 모델을 선택할 수 있도록 제작 되었습니다."
   ]
  },
  {
   "cell_type": "code",
   "execution_count": null,
   "id": "b3e408dd",
   "metadata": {},
   "outputs": [],
   "source": [
    "''' xgboost 파라메터 서칭 목록\n",
    "max_depth : classification [3, 5, 7, 9], regression [7, 9, 11, 13, 15]\n",
    "n_estimators : 부스팅 트리 갯수, [100, 300, 500, 700, 1000, 2000, 3000]\n",
    "learning_rate : round별 학습률 [0.001, 0.003, 0.01, 0.03]\n",
    "subsample : 부트스트랩 샘플 비율 [0.6, 0.7, 0.8]\n",
    "colsample_bytree : 부트스트랩 컬럼 비율 [0.6, 0.7, 0.8]\n",
    "설명변수 갯수가 많은 경우 아래 파라메터도 서칭\n",
    "reg_alpha : L1, lasso [1, 3, 5, 7, 9]\n",
    "reg_lambda : L2, ridge, [1, 3, 5, 7, 9]\n",
    "'''"
   ]
  },
  {
   "cell_type": "code",
   "execution_count": 25,
   "id": "8540069c",
   "metadata": {},
   "outputs": [],
   "source": [
    "# 그리드 서치 import\n",
    "from sklearn.model_selection import GridSearchCV"
   ]
  },
  {
   "cell_type": "code",
   "execution_count": 26,
   "id": "344f6411",
   "metadata": {},
   "outputs": [],
   "source": [
    "# 그리드 서치를 위한 모델 및 파라메터 준비\n",
    "est = RandomForestRegressor(random_state=42)\n",
    "param = {\n",
    "    'max_depth':[3, 5, 7, 9],\n",
    "    'n_estimators':[100, 300, 500, 700]\n",
    "}"
   ]
  },
  {
   "cell_type": "code",
   "execution_count": 27,
   "id": "ed0d1c0d",
   "metadata": {},
   "outputs": [
    {
     "data": {
      "text/plain": [
       "'\\nestimator : 모델 딕셔너리\\nparam_grid : 파라메터 딕셔너리\\nscoring=None : 평가방법\\nn_jobs=None : 학습에 사용할 컴퓨터 코어 갯수 \\nverbose=0 : 리포트 형식 0, 1, 2\\n\\nscoring 참고\\nhttps://scikit-learn.org/stable/modules/model_evaluation.html\\n'"
      ]
     },
     "execution_count": 27,
     "metadata": {},
     "output_type": "execute_result"
    }
   ],
   "source": [
    "# 그리드 서치 모델 생성\n",
    "grid = GridSearchCV(estimator=est, \n",
    "                    param_grid=param, \n",
    "                    scoring='neg_root_mean_squared_error',\n",
    "                    verbose=2,\n",
    "                    cv=5)\n",
    "'''\n",
    "estimator : 모델 딕셔너리\n",
    "param_grid : 파라메터 딕셔너리\n",
    "scoring=None : 평가방법\n",
    "n_jobs=None : 학습에 사용할 컴퓨터 코어 갯수 \n",
    "verbose=0 : 리포트 형식 0, 1, 2\n",
    "\n",
    "scoring 참고\n",
    "https://scikit-learn.org/stable/modules/model_evaluation.html\n",
    "'''"
   ]
  },
  {
   "cell_type": "code",
   "execution_count": 28,
   "id": "9a80fa34",
   "metadata": {},
   "outputs": [
    {
     "name": "stdout",
     "output_type": "stream",
     "text": [
      "Fitting 5 folds for each of 16 candidates, totalling 80 fits\n",
      "[CV] END ......................max_depth=3, n_estimators=100; total time=   0.1s\n",
      "[CV] END ......................max_depth=3, n_estimators=100; total time=   0.1s\n",
      "[CV] END ......................max_depth=3, n_estimators=100; total time=   0.1s\n",
      "[CV] END ......................max_depth=3, n_estimators=100; total time=   0.1s\n",
      "[CV] END ......................max_depth=3, n_estimators=100; total time=   0.1s\n",
      "[CV] END ......................max_depth=3, n_estimators=300; total time=   0.6s\n",
      "[CV] END ......................max_depth=3, n_estimators=300; total time=   0.6s\n",
      "[CV] END ......................max_depth=3, n_estimators=300; total time=   0.6s\n",
      "[CV] END ......................max_depth=3, n_estimators=300; total time=   0.6s\n",
      "[CV] END ......................max_depth=3, n_estimators=300; total time=   0.6s\n",
      "[CV] END ......................max_depth=3, n_estimators=500; total time=   1.1s\n",
      "[CV] END ......................max_depth=3, n_estimators=500; total time=   1.1s\n",
      "[CV] END ......................max_depth=3, n_estimators=500; total time=   1.1s\n",
      "[CV] END ......................max_depth=3, n_estimators=500; total time=   1.1s\n",
      "[CV] END ......................max_depth=3, n_estimators=500; total time=   1.1s\n",
      "[CV] END ......................max_depth=3, n_estimators=700; total time=   1.5s\n",
      "[CV] END ......................max_depth=3, n_estimators=700; total time=   1.5s\n",
      "[CV] END ......................max_depth=3, n_estimators=700; total time=   1.6s\n",
      "[CV] END ......................max_depth=3, n_estimators=700; total time=   1.5s\n",
      "[CV] END ......................max_depth=3, n_estimators=700; total time=   1.5s\n",
      "[CV] END ......................max_depth=5, n_estimators=100; total time=   0.2s\n",
      "[CV] END ......................max_depth=5, n_estimators=100; total time=   0.2s\n",
      "[CV] END ......................max_depth=5, n_estimators=100; total time=   0.2s\n",
      "[CV] END ......................max_depth=5, n_estimators=100; total time=   0.2s\n",
      "[CV] END ......................max_depth=5, n_estimators=100; total time=   0.2s\n",
      "[CV] END ......................max_depth=5, n_estimators=300; total time=   0.8s\n",
      "[CV] END ......................max_depth=5, n_estimators=300; total time=   0.8s\n",
      "[CV] END ......................max_depth=5, n_estimators=300; total time=   0.8s\n",
      "[CV] END ......................max_depth=5, n_estimators=300; total time=   0.8s\n",
      "[CV] END ......................max_depth=5, n_estimators=300; total time=   0.8s\n",
      "[CV] END ......................max_depth=5, n_estimators=500; total time=   1.4s\n",
      "[CV] END ......................max_depth=5, n_estimators=500; total time=   1.4s\n",
      "[CV] END ......................max_depth=5, n_estimators=500; total time=   1.4s\n",
      "[CV] END ......................max_depth=5, n_estimators=500; total time=   1.3s\n",
      "[CV] END ......................max_depth=5, n_estimators=500; total time=   1.3s\n",
      "[CV] END ......................max_depth=5, n_estimators=700; total time=   2.1s\n",
      "[CV] END ......................max_depth=5, n_estimators=700; total time=   2.0s\n",
      "[CV] END ......................max_depth=5, n_estimators=700; total time=   2.0s\n",
      "[CV] END ......................max_depth=5, n_estimators=700; total time=   1.9s\n",
      "[CV] END ......................max_depth=5, n_estimators=700; total time=   1.9s\n",
      "[CV] END ......................max_depth=7, n_estimators=100; total time=   0.2s\n",
      "[CV] END ......................max_depth=7, n_estimators=100; total time=   0.2s\n",
      "[CV] END ......................max_depth=7, n_estimators=100; total time=   0.2s\n",
      "[CV] END ......................max_depth=7, n_estimators=100; total time=   0.2s\n",
      "[CV] END ......................max_depth=7, n_estimators=100; total time=   0.2s\n",
      "[CV] END ......................max_depth=7, n_estimators=300; total time=   0.9s\n",
      "[CV] END ......................max_depth=7, n_estimators=300; total time=   0.9s\n",
      "[CV] END ......................max_depth=7, n_estimators=300; total time=   1.0s\n",
      "[CV] END ......................max_depth=7, n_estimators=300; total time=   0.9s\n",
      "[CV] END ......................max_depth=7, n_estimators=300; total time=   0.9s\n",
      "[CV] END ......................max_depth=7, n_estimators=500; total time=   1.6s\n",
      "[CV] END ......................max_depth=7, n_estimators=500; total time=   1.6s\n",
      "[CV] END ......................max_depth=7, n_estimators=500; total time=   1.6s\n",
      "[CV] END ......................max_depth=7, n_estimators=500; total time=   1.6s\n",
      "[CV] END ......................max_depth=7, n_estimators=500; total time=   1.6s\n",
      "[CV] END ......................max_depth=7, n_estimators=700; total time=   2.3s\n",
      "[CV] END ......................max_depth=7, n_estimators=700; total time=   2.3s\n",
      "[CV] END ......................max_depth=7, n_estimators=700; total time=   2.3s\n",
      "[CV] END ......................max_depth=7, n_estimators=700; total time=   2.4s\n",
      "[CV] END ......................max_depth=7, n_estimators=700; total time=   2.3s\n",
      "[CV] END ......................max_depth=9, n_estimators=100; total time=   0.3s\n",
      "[CV] END ......................max_depth=9, n_estimators=100; total time=   0.3s\n",
      "[CV] END ......................max_depth=9, n_estimators=100; total time=   0.3s\n",
      "[CV] END ......................max_depth=9, n_estimators=100; total time=   0.3s\n",
      "[CV] END ......................max_depth=9, n_estimators=100; total time=   0.3s\n",
      "[CV] END ......................max_depth=9, n_estimators=300; total time=   1.0s\n",
      "[CV] END ......................max_depth=9, n_estimators=300; total time=   1.0s\n",
      "[CV] END ......................max_depth=9, n_estimators=300; total time=   1.0s\n",
      "[CV] END ......................max_depth=9, n_estimators=300; total time=   1.0s\n",
      "[CV] END ......................max_depth=9, n_estimators=300; total time=   1.0s\n",
      "[CV] END ......................max_depth=9, n_estimators=500; total time=   1.8s\n",
      "[CV] END ......................max_depth=9, n_estimators=500; total time=   1.8s\n",
      "[CV] END ......................max_depth=9, n_estimators=500; total time=   1.8s\n",
      "[CV] END ......................max_depth=9, n_estimators=500; total time=   1.9s\n",
      "[CV] END ......................max_depth=9, n_estimators=500; total time=   1.9s\n",
      "[CV] END ......................max_depth=9, n_estimators=700; total time=   2.6s\n",
      "[CV] END ......................max_depth=9, n_estimators=700; total time=   2.5s\n",
      "[CV] END ......................max_depth=9, n_estimators=700; total time=   2.5s\n",
      "[CV] END ......................max_depth=9, n_estimators=700; total time=   2.6s\n",
      "[CV] END ......................max_depth=9, n_estimators=700; total time=   2.6s\n"
     ]
    },
    {
     "data": {
      "text/html": [
       "<style>#sk-container-id-1 {color: black;background-color: white;}#sk-container-id-1 pre{padding: 0;}#sk-container-id-1 div.sk-toggleable {background-color: white;}#sk-container-id-1 label.sk-toggleable__label {cursor: pointer;display: block;width: 100%;margin-bottom: 0;padding: 0.3em;box-sizing: border-box;text-align: center;}#sk-container-id-1 label.sk-toggleable__label-arrow:before {content: \"▸\";float: left;margin-right: 0.25em;color: #696969;}#sk-container-id-1 label.sk-toggleable__label-arrow:hover:before {color: black;}#sk-container-id-1 div.sk-estimator:hover label.sk-toggleable__label-arrow:before {color: black;}#sk-container-id-1 div.sk-toggleable__content {max-height: 0;max-width: 0;overflow: hidden;text-align: left;background-color: #f0f8ff;}#sk-container-id-1 div.sk-toggleable__content pre {margin: 0.2em;color: black;border-radius: 0.25em;background-color: #f0f8ff;}#sk-container-id-1 input.sk-toggleable__control:checked~div.sk-toggleable__content {max-height: 200px;max-width: 100%;overflow: auto;}#sk-container-id-1 input.sk-toggleable__control:checked~label.sk-toggleable__label-arrow:before {content: \"▾\";}#sk-container-id-1 div.sk-estimator input.sk-toggleable__control:checked~label.sk-toggleable__label {background-color: #d4ebff;}#sk-container-id-1 div.sk-label input.sk-toggleable__control:checked~label.sk-toggleable__label {background-color: #d4ebff;}#sk-container-id-1 input.sk-hidden--visually {border: 0;clip: rect(1px 1px 1px 1px);clip: rect(1px, 1px, 1px, 1px);height: 1px;margin: -1px;overflow: hidden;padding: 0;position: absolute;width: 1px;}#sk-container-id-1 div.sk-estimator {font-family: monospace;background-color: #f0f8ff;border: 1px dotted black;border-radius: 0.25em;box-sizing: border-box;margin-bottom: 0.5em;}#sk-container-id-1 div.sk-estimator:hover {background-color: #d4ebff;}#sk-container-id-1 div.sk-parallel-item::after {content: \"\";width: 100%;border-bottom: 1px solid gray;flex-grow: 1;}#sk-container-id-1 div.sk-label:hover label.sk-toggleable__label {background-color: #d4ebff;}#sk-container-id-1 div.sk-serial::before {content: \"\";position: absolute;border-left: 1px solid gray;box-sizing: border-box;top: 0;bottom: 0;left: 50%;z-index: 0;}#sk-container-id-1 div.sk-serial {display: flex;flex-direction: column;align-items: center;background-color: white;padding-right: 0.2em;padding-left: 0.2em;position: relative;}#sk-container-id-1 div.sk-item {position: relative;z-index: 1;}#sk-container-id-1 div.sk-parallel {display: flex;align-items: stretch;justify-content: center;background-color: white;position: relative;}#sk-container-id-1 div.sk-item::before, #sk-container-id-1 div.sk-parallel-item::before {content: \"\";position: absolute;border-left: 1px solid gray;box-sizing: border-box;top: 0;bottom: 0;left: 50%;z-index: -1;}#sk-container-id-1 div.sk-parallel-item {display: flex;flex-direction: column;z-index: 1;position: relative;background-color: white;}#sk-container-id-1 div.sk-parallel-item:first-child::after {align-self: flex-end;width: 50%;}#sk-container-id-1 div.sk-parallel-item:last-child::after {align-self: flex-start;width: 50%;}#sk-container-id-1 div.sk-parallel-item:only-child::after {width: 0;}#sk-container-id-1 div.sk-dashed-wrapped {border: 1px dashed gray;margin: 0 0.4em 0.5em 0.4em;box-sizing: border-box;padding-bottom: 0.4em;background-color: white;}#sk-container-id-1 div.sk-label label {font-family: monospace;font-weight: bold;display: inline-block;line-height: 1.2em;}#sk-container-id-1 div.sk-label-container {text-align: center;}#sk-container-id-1 div.sk-container {/* jupyter's `normalize.less` sets `[hidden] { display: none; }` but bootstrap.min.css set `[hidden] { display: none !important; }` so we also need the `!important` here to be able to override the default hidden behavior on the sphinx rendered scikit-learn.org. See: https://github.com/scikit-learn/scikit-learn/issues/21755 */display: inline-block !important;position: relative;}#sk-container-id-1 div.sk-text-repr-fallback {display: none;}</style><div id=\"sk-container-id-1\" class=\"sk-top-container\"><div class=\"sk-text-repr-fallback\"><pre>GridSearchCV(cv=5, estimator=RandomForestRegressor(random_state=42),\n",
       "             param_grid={&#x27;max_depth&#x27;: [3, 5, 7, 9],\n",
       "                         &#x27;n_estimators&#x27;: [100, 300, 500, 700]},\n",
       "             scoring=&#x27;neg_root_mean_squared_error&#x27;, verbose=2)</pre><b>In a Jupyter environment, please rerun this cell to show the HTML representation or trust the notebook. <br />On GitHub, the HTML representation is unable to render, please try loading this page with nbviewer.org.</b></div><div class=\"sk-container\" hidden><div class=\"sk-item sk-dashed-wrapped\"><div class=\"sk-label-container\"><div class=\"sk-label sk-toggleable\"><input class=\"sk-toggleable__control sk-hidden--visually\" id=\"sk-estimator-id-1\" type=\"checkbox\" ><label for=\"sk-estimator-id-1\" class=\"sk-toggleable__label sk-toggleable__label-arrow\">GridSearchCV</label><div class=\"sk-toggleable__content\"><pre>GridSearchCV(cv=5, estimator=RandomForestRegressor(random_state=42),\n",
       "             param_grid={&#x27;max_depth&#x27;: [3, 5, 7, 9],\n",
       "                         &#x27;n_estimators&#x27;: [100, 300, 500, 700]},\n",
       "             scoring=&#x27;neg_root_mean_squared_error&#x27;, verbose=2)</pre></div></div></div><div class=\"sk-parallel\"><div class=\"sk-parallel-item\"><div class=\"sk-item\"><div class=\"sk-label-container\"><div class=\"sk-label sk-toggleable\"><input class=\"sk-toggleable__control sk-hidden--visually\" id=\"sk-estimator-id-2\" type=\"checkbox\" ><label for=\"sk-estimator-id-2\" class=\"sk-toggleable__label sk-toggleable__label-arrow\">estimator: RandomForestRegressor</label><div class=\"sk-toggleable__content\"><pre>RandomForestRegressor(random_state=42)</pre></div></div></div><div class=\"sk-serial\"><div class=\"sk-item\"><div class=\"sk-estimator sk-toggleable\"><input class=\"sk-toggleable__control sk-hidden--visually\" id=\"sk-estimator-id-3\" type=\"checkbox\" ><label for=\"sk-estimator-id-3\" class=\"sk-toggleable__label sk-toggleable__label-arrow\">RandomForestRegressor</label><div class=\"sk-toggleable__content\"><pre>RandomForestRegressor(random_state=42)</pre></div></div></div></div></div></div></div></div></div></div>"
      ],
      "text/plain": [
       "GridSearchCV(cv=5, estimator=RandomForestRegressor(random_state=42),\n",
       "             param_grid={'max_depth': [3, 5, 7, 9],\n",
       "                         'n_estimators': [100, 300, 500, 700]},\n",
       "             scoring='neg_root_mean_squared_error', verbose=2)"
      ]
     },
     "execution_count": 28,
     "metadata": {},
     "output_type": "execute_result"
    }
   ],
   "source": [
    "# grid 학습\n",
    "grid.fit(X_train, y_train)"
   ]
  },
  {
   "cell_type": "code",
   "execution_count": null,
   "id": "1b297b8b",
   "metadata": {},
   "outputs": [],
   "source": [
    "# 최적 모델 및 파라메터 확인\n"
   ]
  },
  {
   "cell_type": "code",
   "execution_count": null,
   "id": "8484a9ea",
   "metadata": {},
   "outputs": [],
   "source": [
    "# 최적 모델로 모델 다시 학습 및 평가\n"
   ]
  }
 ],
 "metadata": {
  "kernelspec": {
   "display_name": "Python 3 (ipykernel)",
   "language": "python",
   "name": "python3"
  },
  "language_info": {
   "codemirror_mode": {
    "name": "ipython",
    "version": 3
   },
   "file_extension": ".py",
   "mimetype": "text/x-python",
   "name": "python",
   "nbconvert_exporter": "python",
   "pygments_lexer": "ipython3",
   "version": "3.10.9"
  },
  "toc": {
   "base_numbering": 1,
   "nav_menu": {},
   "number_sections": true,
   "sideBar": false,
   "skip_h1_title": true,
   "title_cell": "Table of Contents",
   "title_sidebar": "Contents",
   "toc_cell": false,
   "toc_position": {},
   "toc_section_display": true,
   "toc_window_display": false
  },
  "varInspector": {
   "cols": {
    "lenName": 16,
    "lenType": 16,
    "lenVar": 40
   },
   "kernels_config": {
    "python": {
     "delete_cmd_postfix": "",
     "delete_cmd_prefix": "del ",
     "library": "var_list.py",
     "varRefreshCmd": "print(var_dic_list())"
    },
    "r": {
     "delete_cmd_postfix": ") ",
     "delete_cmd_prefix": "rm(",
     "library": "var_list.r",
     "varRefreshCmd": "cat(var_dic_list()) "
    }
   },
   "types_to_exclude": [
    "module",
    "function",
    "builtin_function_or_method",
    "instance",
    "_Feature"
   ],
   "window_display": false
  }
 },
 "nbformat": 4,
 "nbformat_minor": 5
}
