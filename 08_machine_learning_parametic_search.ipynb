{
 "cells": [
  {
   "cell_type": "markdown",
   "id": "182b0b49",
   "metadata": {},
   "source": [
    "# 파라메터 서칭\n",
    "tree base 모델은 설정 가능한 파라메터의 조합에 따라 모델 예측력 차이가 큰 특징을 가지고 있습니다.  \n",
    "특히, Xgboost 모델의 경우 파라메터 설정에 따른 모델 예측력 차이가 굉장히 크기에 꼭 파라메터 서칭을 진행해주셔야 합니다.  \n",
    "간단한 문법을 통해 파라메터 서칭을 진행 해보겠습니다."
   ]
  },
  {
   "cell_type": "markdown",
   "id": "6bf4b30c",
   "metadata": {},
   "source": [
    "## 파이썬 기본 문법으로 파라메터 서칭"
   ]
  },
  {
   "cell_type": "code",
   "execution_count": null,
   "id": "aa7dcbd8",
   "metadata": {},
   "outputs": [],
   "source": [
    "from itertools import product\n",
    "from sklearn.datasets import load_iris\n",
    "from sklearn.model_selection import train_test_split\n",
    "from sklearn.ensemble import RandomForestClassifier\n",
    "from sklearn.metrics import accuracy_score"
   ]
  },
  {
   "cell_type": "code",
   "execution_count": null,
   "id": "8ef22847",
   "metadata": {},
   "outputs": [],
   "source": [
    "# iris\n",
    "iris = load_iris()\n",
    "y = iris['target']\n",
    "X = iris['data']\n",
    "X_train, X_test, y_train, y_test = train_test_split(X, y, test_size=0.3, random_state=42, stratify=y)"
   ]
  },
  {
   "cell_type": "code",
   "execution_count": null,
   "id": "4a015776",
   "metadata": {},
   "outputs": [],
   "source": [
    "# 학습데이터에서 10% 비율을 검증셋으로 사용하는 작업\n",
    "X_train2, X_val, y_train2, y_val = train_test_split(X_train, y_train, test_size=0.1, random_state=42, stratify=y_train)"
   ]
  },
  {
   "cell_type": "code",
   "execution_count": null,
   "id": "cbbb0140",
   "metadata": {},
   "outputs": [],
   "source": [
    "# 필요 모듈 import\n",
    "depth = [3, 4, 5, 6, 7, 8, 9, 10, 11, 12]\n",
    "est = [100, 300, 500, 700, 900]\n",
    "\n",
    "best_acc = 0\n",
    "best_param = 0\n",
    "\n",
    "for param in list(product(depth, est)):\n",
    "    print(f'현재 {param} 서칭중')\n",
    "    model = RandomForestClassifier(random_state=42, max_depth=param[0], n_estimators=param[1])\n",
    "    model.fit(X_train2, y_train2)\n",
    "    pred = model.predict(X_val) # 파라메터 서칭을 위한 데이터셋은 검증셋을 사용함\n",
    "    acc = accuracy_score(y_val, pred)\n",
    "    if acc > best_acc:\n",
    "        print('스코어 갱신!! 베스트 파라메터를 업데이트 합니다.')\n",
    "        best_acc = acc\n",
    "        best_param = param\n",
    "\n",
    "print('파라메터 서칭 완료!')\n",
    "print(f'최적 파라메터는 {best_param}입니다.')"
   ]
  },
  {
   "cell_type": "code",
   "execution_count": null,
   "id": "d8b8eb00",
   "metadata": {},
   "outputs": [],
   "source": [
    "best_model = RandomForestClassifier(random_state=42, max_depth=best_param[0], n_estimators=best_param[1])\n",
    "best_model.fit(X_train, y_train)\n",
    "best_pred = best_model.predict(X_test)\n",
    "from sklearn.metrics import confusion_matrix\n",
    "print(confusion_matrix(y_test, best_pred))"
   ]
  },
  {
   "cell_type": "code",
   "execution_count": null,
   "id": "a590e3bf",
   "metadata": {},
   "outputs": [],
   "source": [
    "!pip install xgboost"
   ]
  },
  {
   "cell_type": "code",
   "execution_count": null,
   "id": "1e44a94a",
   "metadata": {},
   "outputs": [],
   "source": [
    "# 데이터셋 로딩\n"
   ]
  },
  {
   "cell_type": "code",
   "execution_count": null,
   "id": "ec392f47",
   "metadata": {},
   "outputs": [],
   "source": [
    "# 타겟 데이터 분할\n"
   ]
  },
  {
   "cell_type": "code",
   "execution_count": null,
   "id": "6a649665",
   "metadata": {},
   "outputs": [],
   "source": [
    "# 학습 데이터 분할\n"
   ]
  },
  {
   "cell_type": "code",
   "execution_count": null,
   "id": "a86e6d65",
   "metadata": {},
   "outputs": [],
   "source": [
    "# 검증 데이터 분할\n"
   ]
  },
  {
   "cell_type": "code",
   "execution_count": null,
   "id": "bad37c5c",
   "metadata": {},
   "outputs": [],
   "source": [
    "# 파라메터 서칭\n"
   ]
  },
  {
   "cell_type": "code",
   "execution_count": null,
   "id": "c3e3e01e",
   "metadata": {},
   "outputs": [],
   "source": [
    "# 위 파라메터 서칭 코드로 찾은 최적 모델의 평가지표와 파라메터 확인\n"
   ]
  },
  {
   "cell_type": "code",
   "execution_count": null,
   "id": "d44c85a1",
   "metadata": {},
   "outputs": [],
   "source": [
    "# 최적 모델로 모델 다시 학습 및 평가\n"
   ]
  },
  {
   "cell_type": "markdown",
   "id": "6b4fea4b",
   "metadata": {},
   "source": [
    "## sklearn GridSearchCV\n",
    "sklearn 패키지에는 위의 파라메터 서칭 과정을 간편하게 진행 할 수 있도록 GridSearchCV 방법론을 제공합니다.  \n",
    "기존 파라메터 서칭과 함께 cross validation 과정을 추가하여 데이터 분할에 강건한 모델을 선택할 수 있도록 제작 되었습니다."
   ]
  },
  {
   "cell_type": "code",
   "execution_count": null,
   "id": "b3e408dd",
   "metadata": {},
   "outputs": [],
   "source": [
    "''' xgboost 파라메터 서칭 목록\n",
    "max_depth : classification [3, 5, 7, 9], regression [7, 9, 11, 13, 15]\n",
    "n_estimators : 부스팅 트리 갯수, [100, 300, 500, 700, 1000, 2000, 3000]\n",
    "learning_rate : round별 학습률 [0.001, 0.003, 0.01, 0.03]\n",
    "subsample : 부트스트랩 샘플 비율 [0.6, 0.7, 0.8]\n",
    "colsample_bytree : 부트스트랩 컬럼 비율 [0.6, 0.7, 0.8]\n",
    "설명변수 갯수가 많은 경우 아래 파라메터도 서칭\n",
    "reg_alpha : L1, lasso [1, 3, 5, 7, 9]\n",
    "reg_lambda : L2, ridge, [1, 3, 5, 7, 9]\n",
    "'''"
   ]
  },
  {
   "cell_type": "code",
   "execution_count": null,
   "id": "a40bac13",
   "metadata": {},
   "outputs": [],
   "source": [
    "import pandas as pd\n",
    "df = pd.read_csv('./data/boston.csv')\n",
    "df.head()\n",
    "\n",
    "# 타겟 데이터 분할\n",
    "y = df['y']\n",
    "X = df.drop('y', axis=1)\n",
    "\n",
    "# 테스트셋 분할\n",
    "from sklearn.model_selection import train_test_split\n",
    "X_train, X_test, y_train, y_test = train_test_split(X, y, test_size=0.3, random_state=42)"
   ]
  },
  {
   "cell_type": "code",
   "execution_count": null,
   "id": "8540069c",
   "metadata": {},
   "outputs": [],
   "source": [
    "# 그리드 서치 import\n",
    "from sklearn.model_selection import GridSearchCV\n",
    "from xgboost import XGBRegressor"
   ]
  },
  {
   "cell_type": "code",
   "execution_count": null,
   "id": "344f6411",
   "metadata": {},
   "outputs": [],
   "source": [
    "# 그리드 서치를 위한 모델 및 파라메터 준비\n",
    "est = XGBRegressor(random_state=42)\n",
    "param = {\n",
    "    'max_depth' : [9, 11, 13, 15],\n",
    "    'n_estimators' : [100, 300, 500, 700],\n",
    "    'learning_rate' : [0.003, 0.01, 0.03],\n",
    "    'subsample' : [0.6, 0.7, 0.8],\n",
    "    'colsample_bytree' : [0.6, 0.7, 0.8],\n",
    "}"
   ]
  },
  {
   "cell_type": "code",
   "execution_count": null,
   "id": "ed0d1c0d",
   "metadata": {},
   "outputs": [],
   "source": [
    "# 그리드 서치 모델 생성\n",
    "grid = GridSearchCV(estimator=est,\n",
    "                    param_grid=param,\n",
    "                    scoring='r2',\n",
    "                    verbose=2,\n",
    "                    cv=5)\n",
    "'''\n",
    "estimator : 모델 딕셔너리\n",
    "param_grid : 파라메터 딕셔너리\n",
    "scoring=None : 평가방법\n",
    "n_jobs=None : 학습에 사용할 컴퓨터 코어 갯수\n",
    "verbose=0 : 리포트 형식 0, 1, 2\n",
    "\n",
    "scoring 참고\n",
    "https://scikit-learn.org/stable/modules/model_evaluation.html\n",
    "'''"
   ]
  },
  {
   "cell_type": "code",
   "execution_count": null,
   "id": "9a80fa34",
   "metadata": {},
   "outputs": [],
   "source": [
    "# grid 학습\n",
    "grid.fit(X_train, y_train)"
   ]
  },
  {
   "cell_type": "code",
   "execution_count": null,
   "id": "1b297b8b",
   "metadata": {},
   "outputs": [],
   "source": [
    "# 최적 모델 및 파라메터 확인\n",
    "grid.best_score_, grid.best_params_"
   ]
  },
  {
   "cell_type": "code",
   "execution_count": null,
   "id": "8484a9ea",
   "metadata": {},
   "outputs": [],
   "source": [
    "# 최적 모델로 모델 다시 학습 및 평가\n",
    "best_pred = grid.predict(X_test)"
   ]
  },
  {
   "cell_type": "code",
   "execution_count": null,
   "id": "25c6fca2",
   "metadata": {},
   "outputs": [],
   "source": [
    "# 평가지표 출력\n",
    "from sklearn.metrics import r2_score, mean_squared_error\n",
    "print(r2_score(y_test, best_pred))\n",
    "print(mean_squared_error(y_test, best_pred, squared=False))"
   ]
  },
  {
   "cell_type": "markdown",
   "id": "564bd703",
   "metadata": {},
   "source": [
    "# 디스이즈 컴퍼티션!!"
   ]
  },
  {
   "cell_type": "code",
   "execution_count": null,
   "id": "69b1ac23",
   "metadata": {},
   "outputs": [],
   "source": [
    "kospi = pd.read_csv('./data/kospi.csv', encoding='cp949')\n",
    "kospi.head()"
   ]
  },
  {
   "cell_type": "markdown",
   "id": "796ddd82",
   "metadata": {},
   "source": [
    "# train_test_split test_size=0.3, random_state=42\n",
    "# rmse 기준 소수점 4자리까지 작으면 우승"
   ]
  }
 ],
 "metadata": {
  "kernelspec": {
   "display_name": "Python 3 (ipykernel)",
   "language": "python",
   "name": "python3"
  },
  "language_info": {
   "codemirror_mode": {
    "name": "ipython",
    "version": 3
   },
   "file_extension": ".py",
   "mimetype": "text/x-python",
   "name": "python",
   "nbconvert_exporter": "python",
   "pygments_lexer": "ipython3",
   "version": "3.10.9"
  },
  "toc": {
   "base_numbering": 1,
   "nav_menu": {},
   "number_sections": true,
   "sideBar": false,
   "skip_h1_title": true,
   "title_cell": "Table of Contents",
   "title_sidebar": "Contents",
   "toc_cell": false,
   "toc_position": {},
   "toc_section_display": true,
   "toc_window_display": false
  },
  "varInspector": {
   "cols": {
    "lenName": 16,
    "lenType": 16,
    "lenVar": 40
   },
   "kernels_config": {
    "python": {
     "delete_cmd_postfix": "",
     "delete_cmd_prefix": "del ",
     "library": "var_list.py",
     "varRefreshCmd": "print(var_dic_list())"
    },
    "r": {
     "delete_cmd_postfix": ") ",
     "delete_cmd_prefix": "rm(",
     "library": "var_list.r",
     "varRefreshCmd": "cat(var_dic_list()) "
    }
   },
   "types_to_exclude": [
    "module",
    "function",
    "builtin_function_or_method",
    "instance",
    "_Feature"
   ],
   "window_display": false
  }
 },
 "nbformat": 4,
 "nbformat_minor": 5
}
