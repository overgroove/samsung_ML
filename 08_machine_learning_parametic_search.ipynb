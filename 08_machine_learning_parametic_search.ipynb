{
 "cells": [
  {
   "cell_type": "markdown",
   "id": "182b0b49",
   "metadata": {},
   "source": [
    "# 파라메터 서칭\n",
    "tree base 모델은 설정 가능한 파라메터의 조합에 따라 모델 예측력 차이가 큰 특징을 가지고 있습니다.  \n",
    "특히, Xgboost 모델의 경우 파라메터 설정에 따른 모델 예측력 차이가 굉장히 크기에 꼭 파라메터 서칭을 진행해주셔야 합니다.  \n",
    "간단한 문법을 통해 파라메터 서칭을 진행 해보겠습니다."
   ]
  },
  {
   "cell_type": "markdown",
   "id": "6bf4b30c",
   "metadata": {},
   "source": [
    "## 파이썬 기본 문법으로 파라메터 서칭"
   ]
  },
  {
   "cell_type": "code",
   "execution_count": 6,
   "id": "cbbb0140",
   "metadata": {},
   "outputs": [
    {
     "name": "stdout",
     "output_type": "stream",
     "text": [
      "10 50\n",
      "10 70\n",
      "10 100\n",
      "10 200\n",
      "10 300\n",
      "10 500\n",
      "15 50\n",
      "15 70\n",
      "15 100\n",
      "15 200\n",
      "15 300\n",
      "15 500\n",
      "16 50\n",
      "16 70\n",
      "16 100\n",
      "16 200\n",
      "16 300\n",
      "16 500\n",
      "17 50\n",
      "17 70\n",
      "17 100\n",
      "17 200\n",
      "17 300\n",
      "17 500\n",
      "18 50\n",
      "18 70\n",
      "18 100\n",
      "18 200\n",
      "18 300\n",
      "18 500\n",
      "19 50\n",
      "19 70\n",
      "19 100\n",
      "19 200\n",
      "19 300\n",
      "19 500\n",
      "20 50\n",
      "20 70\n",
      "20 100\n",
      "20 200\n",
      "20 300\n",
      "20 500\n"
     ]
    }
   ],
   "source": [
    "# 필요 모듈 import\n",
    "from itertools import product\n",
    "# random forest 파라메터 서칭\n",
    "# max_depth, n_estimators\n",
    "depth = [10, 15, 16, 17, 18, 19, 20]\n",
    "est = [50, 70, 100, 200, 300, 500]\n",
    "for param in list(product(depth, est)):\n",
    "    print(param[0], param[1])"
   ]
  },
  {
   "cell_type": "code",
   "execution_count": 8,
   "id": "1e44a94a",
   "metadata": {},
   "outputs": [],
   "source": [
    "# 데이터셋 로딩\n",
    "import pandas as pd\n",
    "df = pd.read_csv('./data/boston.csv')"
   ]
  },
  {
   "cell_type": "code",
   "execution_count": 9,
   "id": "ec392f47",
   "metadata": {},
   "outputs": [],
   "source": [
    "# 타겟 데이터 분할\n",
    "y = df['y']\n",
    "X = df.drop('y', axis=1)"
   ]
  },
  {
   "cell_type": "code",
   "execution_count": 11,
   "id": "6a649665",
   "metadata": {},
   "outputs": [],
   "source": [
    "# 학습 데이터 분할\n",
    "from sklearn.model_selection import train_test_split\n",
    "X_train, X_test, y_train, y_test = train_test_split(X, y, test_size=0.3, random_state=42)"
   ]
  },
  {
   "cell_type": "code",
   "execution_count": 12,
   "id": "a86e6d65",
   "metadata": {},
   "outputs": [],
   "source": [
    "# 검증 데이터 분할\n",
    "X_train2, X_val, y_train2, y_val = train_test_split(X_train, y_train, test_size=0.1, random_state=42)"
   ]
  },
  {
   "cell_type": "code",
   "execution_count": 14,
   "id": "f00bbb7b",
   "metadata": {},
   "outputs": [],
   "source": [
    "from sklearn.ensemble import RandomForestRegressor\n",
    "from sklearn.metrics import r2_score"
   ]
  },
  {
   "cell_type": "code",
   "execution_count": 16,
   "id": "bad37c5c",
   "metadata": {},
   "outputs": [
    {
     "name": "stdout",
     "output_type": "stream",
     "text": [
      "(10, 50) 서칭중\n",
      "스코어 갱신! (10, 50)!!\n",
      "(10, 70) 서칭중\n",
      "(10, 100) 서칭중\n",
      "(10, 200) 서칭중\n",
      "(10, 300) 서칭중\n",
      "(10, 500) 서칭중\n",
      "(15, 50) 서칭중\n",
      "스코어 갱신! (15, 50)!!\n",
      "(15, 70) 서칭중\n",
      "(15, 100) 서칭중\n",
      "(15, 200) 서칭중\n",
      "(15, 300) 서칭중\n",
      "(15, 500) 서칭중\n",
      "(16, 50) 서칭중\n",
      "스코어 갱신! (16, 50)!!\n",
      "(16, 70) 서칭중\n",
      "(16, 100) 서칭중\n",
      "(16, 200) 서칭중\n",
      "(16, 300) 서칭중\n",
      "(16, 500) 서칭중\n",
      "(17, 50) 서칭중\n",
      "(17, 70) 서칭중\n",
      "(17, 100) 서칭중\n",
      "(17, 200) 서칭중\n",
      "(17, 300) 서칭중\n",
      "(17, 500) 서칭중\n",
      "(18, 50) 서칭중\n",
      "스코어 갱신! (18, 50)!!\n",
      "(18, 70) 서칭중\n",
      "(18, 100) 서칭중\n",
      "(18, 200) 서칭중\n",
      "(18, 300) 서칭중\n",
      "(18, 500) 서칭중\n",
      "(19, 50) 서칭중\n",
      "(19, 70) 서칭중\n",
      "(19, 100) 서칭중\n",
      "(19, 200) 서칭중\n",
      "(19, 300) 서칭중\n",
      "(19, 500) 서칭중\n",
      "(20, 50) 서칭중\n",
      "(20, 70) 서칭중\n",
      "(20, 100) 서칭중\n",
      "(20, 200) 서칭중\n",
      "(20, 300) 서칭중\n",
      "(20, 500) 서칭중\n",
      "서칭 완료!!\n"
     ]
    }
   ],
   "source": [
    "# 파라메터 서칭\n",
    "best_score = -999999999 # 최적 모델 평가지표 저장\n",
    "best_params = 0\n",
    "\n",
    "depth = [10, 15, 16, 17, 18, 19, 20]\n",
    "est = [50, 70, 100, 200, 300, 500]\n",
    "for param in list(product(depth, est)):\n",
    "    print(f'{param} 서칭중')\n",
    "    model = RandomForestRegressor(random_state=42, max_depth=param[0], n_estimators=param[1])\n",
    "    model.fit(X_train2, y_train2)\n",
    "    pred = model.predict(X_val)\n",
    "    r2 = r2_score(y_val, pred)\n",
    "    if best_score < r2:\n",
    "        print(f'스코어 갱신! {param}!!')\n",
    "        best_score = r2\n",
    "        best_params = param\n",
    "print('서칭 완료!!')"
   ]
  },
  {
   "cell_type": "code",
   "execution_count": 17,
   "id": "c3e3e01e",
   "metadata": {},
   "outputs": [
    {
     "data": {
      "text/plain": [
       "(0.6442402265029894, (18, 50))"
      ]
     },
     "execution_count": 17,
     "metadata": {},
     "output_type": "execute_result"
    }
   ],
   "source": [
    "# 위 파라메터 서칭 코드로 찾은 최적 모델의 평가지표와 파라메터 확인\n",
    "best_score, best_params"
   ]
  },
  {
   "cell_type": "code",
   "execution_count": 18,
   "id": "d44c85a1",
   "metadata": {},
   "outputs": [
    {
     "name": "stdout",
     "output_type": "stream",
     "text": [
      "0.8775241130134938\n"
     ]
    }
   ],
   "source": [
    "# 최적 모델로 모델 다시 학습 및 평가\n",
    "best_model = RandomForestRegressor(random_state=42, \n",
    "                                   max_depth=best_params[0],\n",
    "                                   n_estimators=best_params[1])\n",
    "best_model.fit(X_train, y_train)\n",
    "best_pred = best_model.predict(X_test)\n",
    "print(r2_score(y_test, best_pred))"
   ]
  },
  {
   "cell_type": "markdown",
   "id": "6b4fea4b",
   "metadata": {},
   "source": [
    "## sklearn GridSearchCV\n",
    "sklearn 패키지에는 위의 파라메터 서칭 과정을 간편하게 진행 할 수 있도록 GridSearchCV 방법론을 제공합니다.  \n",
    "기존 파라메터 서칭과 함께 cross validation 과정을 추가하여 데이터 분할에 강건한 모델을 선택할 수 있도록 제작 되었습니다."
   ]
  },
  {
   "cell_type": "code",
   "execution_count": null,
   "id": "b3e408dd",
   "metadata": {},
   "outputs": [],
   "source": [
    "''' xgboost 파라메터 서칭 목록\n",
    "max_depth : classification [3, 5, 7, 9], regression [7, 9, 11, 13, 15]\n",
    "n_estimators : 부스팅 트리 갯수, [100, 300, 500, 700, 1000, 2000, 3000]\n",
    "learning_rate : round별 학습률 [0.001, 0.003, 0.01, 0.03]\n",
    "subsample : 부트스트랩 샘플 비율 [0.6, 0.7, 0.8]\n",
    "colsample_bytree : 부트스트랩 컬럼 비율 [0.6, 0.7, 0.8]\n",
    "설명변수 갯수가 많은 경우 아래 파라메터도 서칭\n",
    "reg_alpha : L1, lasso [1, 3, 5, 7, 9]\n",
    "reg_lambda : L2, ridge, [1, 3, 5, 7, 9]\n",
    "'''"
   ]
  },
  {
   "cell_type": "code",
   "execution_count": null,
   "id": "8540069c",
   "metadata": {},
   "outputs": [],
   "source": [
    "# 그리드 서치 import\n"
   ]
  },
  {
   "cell_type": "code",
   "execution_count": null,
   "id": "344f6411",
   "metadata": {},
   "outputs": [],
   "source": [
    "# 그리드 서치를 위한 모델 및 파라메터 준비\n"
   ]
  },
  {
   "cell_type": "code",
   "execution_count": null,
   "id": "ed0d1c0d",
   "metadata": {},
   "outputs": [],
   "source": [
    "# 그리드 서치 모델 생성\n",
    "\n",
    "'''\n",
    "estimator : 모델 딕셔너리\n",
    "param_grid : 파라메터 딕셔너리\n",
    "scoring=None : 평가방법\n",
    "n_jobs=None : 학습에 사용할 컴퓨터 코어 갯수\n",
    "verbose=0 : 리포트 형식 0, 1, 2\n",
    "\n",
    "scoring 참고\n",
    "https://scikit-learn.org/stable/modules/model_evaluation.html\n",
    "'''"
   ]
  },
  {
   "cell_type": "code",
   "execution_count": null,
   "id": "9a80fa34",
   "metadata": {},
   "outputs": [],
   "source": [
    "# grid 학습\n"
   ]
  },
  {
   "cell_type": "code",
   "execution_count": null,
   "id": "1b297b8b",
   "metadata": {},
   "outputs": [],
   "source": [
    "# 최적 모델 및 파라메터 확인\n"
   ]
  },
  {
   "cell_type": "code",
   "execution_count": null,
   "id": "8484a9ea",
   "metadata": {},
   "outputs": [],
   "source": [
    "# 최적 모델로 모델 다시 학습 및 평가\n"
   ]
  }
 ],
 "metadata": {
  "kernelspec": {
   "display_name": "Python 3 (ipykernel)",
   "language": "python",
   "name": "python3"
  },
  "language_info": {
   "codemirror_mode": {
    "name": "ipython",
    "version": 3
   },
   "file_extension": ".py",
   "mimetype": "text/x-python",
   "name": "python",
   "nbconvert_exporter": "python",
   "pygments_lexer": "ipython3",
   "version": "3.10.9"
  },
  "toc": {
   "base_numbering": 1,
   "nav_menu": {},
   "number_sections": true,
   "sideBar": false,
   "skip_h1_title": true,
   "title_cell": "Table of Contents",
   "title_sidebar": "Contents",
   "toc_cell": false,
   "toc_position": {},
   "toc_section_display": true,
   "toc_window_display": false
  },
  "varInspector": {
   "cols": {
    "lenName": 16,
    "lenType": 16,
    "lenVar": 40
   },
   "kernels_config": {
    "python": {
     "delete_cmd_postfix": "",
     "delete_cmd_prefix": "del ",
     "library": "var_list.py",
     "varRefreshCmd": "print(var_dic_list())"
    },
    "r": {
     "delete_cmd_postfix": ") ",
     "delete_cmd_prefix": "rm(",
     "library": "var_list.r",
     "varRefreshCmd": "cat(var_dic_list()) "
    }
   },
   "types_to_exclude": [
    "module",
    "function",
    "builtin_function_or_method",
    "instance",
    "_Feature"
   ],
   "window_display": false
  }
 },
 "nbformat": 4,
 "nbformat_minor": 5
}
