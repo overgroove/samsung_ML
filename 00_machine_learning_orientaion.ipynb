{
 "cells": [
  {
   "cell_type": "markdown",
   "metadata": {
    "slideshow": {
     "slide_type": "slide"
    }
   },
   "source": [
    "# 머신러닝 오리엔테이션"
   ]
  },
  {
   "cell_type": "markdown",
   "metadata": {},
   "source": [
    "## 머신러닝의 정의 및 범위\n",
    "<img src=\"./image/01.png\">\n",
    "\n",
    "출처 : https://www.deeplearningbook.org/contents/intro.html"
   ]
  },
  {
   "cell_type": "markdown",
   "metadata": {},
   "source": [
    "### 머신러닝 이전의 데이터 분석 혹은 모델링과의 차이\n",
    "> 기존 모델링  \n",
    ">> **사람이 알고리즘 설계 및 코딩**  \n",
    "**전문가 혹은 도메인 지식을 바탕**으로 한 조건에 따른 작업 지시 혹은 결과 도출(모델링)  \n",
    "**사람의 주관**이 많이 개입 된 모델링, 경험적 모델링  \n",
    "\n",
    "> 머신러닝 모델링  \n",
    ">> 사람이 코딩을 하는 것은 같음  \n",
    "**머신러닝 알고리즘에 따라 데이터를 학습하고 그에 따라 컴퓨터가 모델링**  \n",
    "**데이터 기반의 모델학습**에 따른 모델링, 데이터 모델링\n",
    "\n",
    "즉 기존 방법은 경험적으로 학습한 전문가에 의한 모델링이 이루어졌다면 머신러닝 모델링은 데이터를 학습한 알고리즘으로서 모델링을 합니다."
   ]
  },
  {
   "cell_type": "markdown",
   "metadata": {},
   "source": [
    "### 용어정리\n",
    "머신러닝은 태생적으로 여러 분야가 결합된 분야이기 때문에 실무자들은 종종 동일한 의미에 대해 다양한 용어들을 사용합니다.  \n",
    "혼용하는 용어를 정리해보겠습니다.\n",
    "> **알고리즘(algorithm)** : 모델, 혹은 머신러닝 기법을 실행하기 위한 특정 절차  \n",
    "**특징(feature)** : 입력값으로 사용되는 변수들 속성, 입력변수, 독립변수, X라고도 부름  \n",
    "**샘플(sample)** : 데이터의 기본 단위. 하나의 사건 혹은 시점. 레코드, 인스턴스로 부름  \n",
    "**레이블(label)** : 한 샘플에 대한 정답 값. 클래스, 정답, 종속변수, y라고 부름"
   ]
  },
  {
   "cell_type": "markdown",
   "metadata": {},
   "source": [
    "### 머신러닝의 기본컨셉\n",
    "\n",
    "# $$y = f(x)$$\n",
    "\n",
    "* $y$ = 해결해야 하는 문제 (종속변수, target data)\n",
    "* $f()$ = 머신러닝 알고리즘 (모델)\n",
    "* $x$ = 훈련데이터 (설명변수, train data)\n",
    "\n",
    "###### 머신러닝 프로젝트는 결국 $y$를 어떻게 풀어낼 것인가에 대한 기획"
   ]
  },
  {
   "cell_type": "markdown",
   "metadata": {},
   "source": [
    "  "
   ]
  },
  {
   "cell_type": "markdown",
   "metadata": {
    "slideshow": {
     "slide_type": "slide"
    }
   },
   "source": [
    "## 머신러닝의 구분\n",
    "**$y$** 데이터의 존재 유무에 따라 **지도학습**과 **비지도 학습**으로 구분하며  \n",
    "각각의 학습방법 내 **$y$** 데이터의 종류에 따라 **예측**, **분류** 문제로 구분합니다.  \n",
    "\n",
    "### 지도학습(supervised learning 지도학습) -  $y$값이 존재\n",
    "- 모델이 예측/분류를 하기 위한 정답/target값 까지 함께 학습하는 머신러닝 모델  \n",
    "- 정답(label)값이 반드시 필요\n",
    "\n",
    "#### 해결 가능한 $y$ 값의 데이터에 따른 분류\n",
    "\n",
    "##### **예측(prediction, regression)** : 종속변수가 **연속형** 데이터  \n",
    "> * 연속형 데이터 - 매출, 온도, 시간, 코스피지수, 가격 등  \n",
    "> * 자연수 0과 1사이에는 무수히 많은 실수가 존재하고 그 무한한 값의 범위를 갖는 데이터를 연속형 데이터라 한다.  \n",
    ">   \n",
    "<img src=\"./image/02.png\">\n",
    "\n",
    "\n",
    "##### **분류(classification)** : 종속변수가 **범주형** 데이터\n",
    "> * 범주형 데이터 - 성별, 신용등급, 브랜드, 기차역등  \n",
    "> * 남성 혹은 여성 구분처럼 이진형 구분(0 혹은 1), 데이터가 특정 범위내에 모두 속한 데이터의 경우 범주형 데이터 혹은 카테고리 데이터라고 한다.\n",
    ">  \n",
    "<img src=\"./image/03.png\">\n",
    "\n",
    "###### 정답을 주고 컴퓨터가 이 정답을 맞출 수 있도록 학습, 객관적 평가 가능\n",
    "###### 지도학습은 무조건 과거 정답 데이터가 있어야 합니다."
   ]
  },
  {
   "cell_type": "markdown",
   "metadata": {},
   "source": [
    "  "
   ]
  },
  {
   "cell_type": "markdown",
   "metadata": {},
   "source": [
    "### 비지도학습(unsupervised learning)\n",
    "모델이 학습을 하기위한 정답값이 없는 경우 활용가능한 머신러닝 모델  \n",
    "군집화, 추천시스템에 활용 가능\n",
    "\n",
    "#### 해결 가능한 $y$ 값의 데이터에 따른 분류\n",
    "\n",
    "##### **군집화(clustering)** : 모델 결과값이  **범주형** 데이터\n",
    "> * 정답이 없는 데이터를 모델에 따라 비슷한 샘플끼리 묶어주는 머신러닝 알고리즘\n",
    "> * 데이터에 숨겨진 특징이나 구조를 발견하여 같은 특징에 따라 구분\n",
    ">  \n",
    "<img src=\"./image/04.png\">\n",
    "\n",
    "##### **연관규칙분석(association rule analysis)** : 모델 결과값이 스코어 혹은 샘플\n",
    "> * 보통 추천시스템이라 부르며 매출 및 유저의 구매기록에 기반한 규칙을 찾는 알고리즘\n",
    "> * 아이템 혹은 유저를 기준으로 비슷한 아이템 및 유저를 찾아 비슷한 데이터를 찾음.\n",
    ">  \n",
    "<img src=\"./image/05.png\">\n",
    "\n",
    "###### 평가에 필요한 과거 정답데이터가 없기에 객관적 평가 불가능"
   ]
  },
  {
   "cell_type": "markdown",
   "metadata": {},
   "source": [
    "<small>이미지출처 : https://snowdeer.github.io/machine-learning/2016/09/03/machine-learning-algorithms/</small>  \n",
    "<small>https://www.kdnuggets.com/2016/04/association-rules-apriori-algorithm-tutorial.html</small>"
   ]
  },
  {
   "cell_type": "markdown",
   "metadata": {},
   "source": [
    "### 문제정의\n",
    "데이터를 기반으로 한 모델링으로 어떠한 문제를 해결해야 할지 정의하는 단계  \n",
    "올바른 문제정의가 된다면 이후 프로세스를 진행하기 수월해집니다.\n",
    "통계적 배경지식이 중요(업무 base)\n",
    "\n",
    "문제정의 예시\n",
    "> 1. 불량데이터를 바탕으로 한 공정 중요도 파악  \n",
    "종속변수 : 제품불량 (OK or NG)  \n",
    "설명변수 : 공정데이터 각 공정별 설비 로그 및 측정 가능한 데이터  \n",
    "모델 : 제품불량에 영향을 미치는 공정을 찾아내기 위한 설명력이 우수한 tree base 모델  \n",
    "\n",
    "> 2. 3/4 메모리 반도체 수요 예측  \n",
    "종속변수 : 메모리 반도체 수요  \n",
    "설명변수 : 반도체 가격, 타사 생산량, 환율, 스마트폰 판매량, 서버 판매량, 원자재 지수 등  \n",
    "모델 : 예측문제를 해결하기 위한 regression 모델\n",
    "\n",
    "> 3. 이미지 처리 기반 제조 공정 불량 분류 자동화  \n",
    "종속변수 : 불량품 분류 데이터  \n",
    "설명변수 : 공정 별 제품 이미지 샘플  \n",
    "모델 : 이미지 처리를 위한 딥러닝 CNN 분류 모델  \n",
    "\n",
    "복잡한 문제를 해결해야 할 경우 위의 1개 문제 = 1개 데이터셋의 원칙을 지키면 혼동이 덜 함    "
   ]
  },
  {
   "cell_type": "markdown",
   "metadata": {},
   "source": [
    "## 파이썬 머신러닝 패키지 scikit-learn\n",
    "> 머신러닝 모델링을 위한 파이썬 오픈소스 패키지  \n",
    "> 다양한 머신러닝 모델뿐 아니라 머신러닝 모델링을 위한 전처리 알고리즘, 평가지표, 운영 방법론을 제공한다.  \n",
    "\n",
    ">> [https://scikit-learn.org/stable](https://scikit-learn.org/stable/)"
   ]
  },
  {
   "cell_type": "markdown",
   "metadata": {},
   "source": [
    "## 지도학습 머신러닝 데이터 플로우 프로세스\n",
    "### 데이터셋 제작 및 확보\n",
    "<img src=\"./image/06.png\" height=\"300px\" width=\"300px\">"
   ]
  },
  {
   "cell_type": "code",
   "execution_count": 1,
   "metadata": {
    "ExecuteTime": {
     "end_time": "2022-10-31T18:42:43.332075Z",
     "start_time": "2022-10-31T18:42:43.198575Z"
    }
   },
   "outputs": [],
   "source": [
    "# 필요모듈 import \n",
    "import pandas as pd"
   ]
  },
  {
   "cell_type": "code",
   "execution_count": 2,
   "metadata": {
    "ExecuteTime": {
     "end_time": "2022-10-31T18:44:58.264430Z",
     "start_time": "2022-10-31T18:44:58.240506Z"
    },
    "scrolled": true
   },
   "outputs": [
    {
     "data": {
      "text/plain": [
       "'\\n각 데이터별 설명\\n- CRIM : 마을당 범죄율\\n- ZN : 25,000 평방피트 이상의 부지에 대한 주거용지 비율\\n- INDUS : 마을당 상업지구 비율\\n- CHAS : Charles River 인접 여부\\n- NOX : 질소산화물 농도\\n- RM : 주택 당 방 개수\\n- AGE : 1940년 이전에 건설 된 자가 점유 유닛 비율\\n- DIS : 보스턴 고용센터까지의 가중치 거리\\n- RAD : 고속도로 접근도 지수\\n- TAX : 10,000달러 당 재산세\\n- PTRATIO : 마을별 학생 대 교사 비율\\n- B : 마을별 흑인 비율\\n- LSTAT : 마을별 인구 당 저소득층 비율\\n'"
      ]
     },
     "execution_count": 2,
     "metadata": {},
     "output_type": "execute_result"
    }
   ],
   "source": [
    "# 분석 프로세스 예시를 위해 보스턴 주택가격 예측 데이터셋을 사용하겠습니다.\n",
    "# 보스턴 주택가격 예측을 위한 데이터로서 13개의 설명변수(X) 와 보스턴 집값(y)로 구성되어 있는 데이터셋입니다.\n",
    "# 설명변수의 설명은 아래와 같습니다.\n",
    "# 보스턴 집값 데이터 로딩\n",
    "df = pd.read_csv('./data/boston.csv') # 데이터 로딩 후 df 변수로 데이터프레임 저장\n",
    "df.head()\n",
    "\n",
    "'''\n",
    "각 데이터별 설명\n",
    "- CRIM : 마을당 범죄율\n",
    "- ZN : 25,000 평방피트 이상의 부지에 대한 주거용지 비율\n",
    "- INDUS : 마을당 상업지구 비율\n",
    "- CHAS : Charles River 인접 여부\n",
    "- NOX : 질소산화물 농도\n",
    "- RM : 주택 당 방 개수\n",
    "- AGE : 1940년 이전에 건설 된 자가 점유 유닛 비율\n",
    "- DIS : 보스턴 고용센터까지의 가중치 거리\n",
    "- RAD : 고속도로 접근도 지수\n",
    "- TAX : 10,000달러 당 재산세\n",
    "- PTRATIO : 마을별 학생 대 교사 비율\n",
    "- B : 마을별 흑인 비율\n",
    "- LSTAT : 마을별 인구 당 저소득층 비율\n",
    "'''"
   ]
  },
  {
   "cell_type": "code",
   "execution_count": 3,
   "metadata": {},
   "outputs": [
    {
     "data": {
      "text/html": [
       "<div>\n",
       "<style scoped>\n",
       "    .dataframe tbody tr th:only-of-type {\n",
       "        vertical-align: middle;\n",
       "    }\n",
       "\n",
       "    .dataframe tbody tr th {\n",
       "        vertical-align: top;\n",
       "    }\n",
       "\n",
       "    .dataframe thead th {\n",
       "        text-align: right;\n",
       "    }\n",
       "</style>\n",
       "<table border=\"1\" class=\"dataframe\">\n",
       "  <thead>\n",
       "    <tr style=\"text-align: right;\">\n",
       "      <th></th>\n",
       "      <th>CRIM</th>\n",
       "      <th>ZN</th>\n",
       "      <th>INDUS</th>\n",
       "      <th>CHAS</th>\n",
       "      <th>NOX</th>\n",
       "      <th>RM</th>\n",
       "      <th>AGE</th>\n",
       "      <th>DIS</th>\n",
       "      <th>RAD</th>\n",
       "      <th>TAX</th>\n",
       "      <th>PTRATIO</th>\n",
       "      <th>B</th>\n",
       "      <th>LSTAT</th>\n",
       "      <th>y</th>\n",
       "    </tr>\n",
       "  </thead>\n",
       "  <tbody>\n",
       "    <tr>\n",
       "      <th>0</th>\n",
       "      <td>0.00632</td>\n",
       "      <td>18.0</td>\n",
       "      <td>2.31</td>\n",
       "      <td>0.0</td>\n",
       "      <td>0.538</td>\n",
       "      <td>6.575</td>\n",
       "      <td>65.2</td>\n",
       "      <td>4.0900</td>\n",
       "      <td>1.0</td>\n",
       "      <td>296.0</td>\n",
       "      <td>15.3</td>\n",
       "      <td>396.90</td>\n",
       "      <td>4.98</td>\n",
       "      <td>24.0</td>\n",
       "    </tr>\n",
       "    <tr>\n",
       "      <th>1</th>\n",
       "      <td>0.02731</td>\n",
       "      <td>0.0</td>\n",
       "      <td>7.07</td>\n",
       "      <td>0.0</td>\n",
       "      <td>0.469</td>\n",
       "      <td>6.421</td>\n",
       "      <td>78.9</td>\n",
       "      <td>4.9671</td>\n",
       "      <td>2.0</td>\n",
       "      <td>242.0</td>\n",
       "      <td>17.8</td>\n",
       "      <td>396.90</td>\n",
       "      <td>9.14</td>\n",
       "      <td>21.6</td>\n",
       "    </tr>\n",
       "    <tr>\n",
       "      <th>2</th>\n",
       "      <td>0.02729</td>\n",
       "      <td>0.0</td>\n",
       "      <td>7.07</td>\n",
       "      <td>0.0</td>\n",
       "      <td>0.469</td>\n",
       "      <td>7.185</td>\n",
       "      <td>61.1</td>\n",
       "      <td>4.9671</td>\n",
       "      <td>2.0</td>\n",
       "      <td>242.0</td>\n",
       "      <td>17.8</td>\n",
       "      <td>392.83</td>\n",
       "      <td>4.03</td>\n",
       "      <td>34.7</td>\n",
       "    </tr>\n",
       "    <tr>\n",
       "      <th>3</th>\n",
       "      <td>0.03237</td>\n",
       "      <td>0.0</td>\n",
       "      <td>2.18</td>\n",
       "      <td>0.0</td>\n",
       "      <td>0.458</td>\n",
       "      <td>6.998</td>\n",
       "      <td>45.8</td>\n",
       "      <td>6.0622</td>\n",
       "      <td>3.0</td>\n",
       "      <td>222.0</td>\n",
       "      <td>18.7</td>\n",
       "      <td>394.63</td>\n",
       "      <td>2.94</td>\n",
       "      <td>33.4</td>\n",
       "    </tr>\n",
       "    <tr>\n",
       "      <th>4</th>\n",
       "      <td>0.06905</td>\n",
       "      <td>0.0</td>\n",
       "      <td>2.18</td>\n",
       "      <td>0.0</td>\n",
       "      <td>0.458</td>\n",
       "      <td>7.147</td>\n",
       "      <td>54.2</td>\n",
       "      <td>6.0622</td>\n",
       "      <td>3.0</td>\n",
       "      <td>222.0</td>\n",
       "      <td>18.7</td>\n",
       "      <td>396.90</td>\n",
       "      <td>5.33</td>\n",
       "      <td>36.2</td>\n",
       "    </tr>\n",
       "  </tbody>\n",
       "</table>\n",
       "</div>"
      ],
      "text/plain": [
       "      CRIM    ZN  INDUS  CHAS    NOX     RM   AGE     DIS  RAD    TAX  \\\n",
       "0  0.00632  18.0   2.31   0.0  0.538  6.575  65.2  4.0900  1.0  296.0   \n",
       "1  0.02731   0.0   7.07   0.0  0.469  6.421  78.9  4.9671  2.0  242.0   \n",
       "2  0.02729   0.0   7.07   0.0  0.469  7.185  61.1  4.9671  2.0  242.0   \n",
       "3  0.03237   0.0   2.18   0.0  0.458  6.998  45.8  6.0622  3.0  222.0   \n",
       "4  0.06905   0.0   2.18   0.0  0.458  7.147  54.2  6.0622  3.0  222.0   \n",
       "\n",
       "   PTRATIO       B  LSTAT     y  \n",
       "0     15.3  396.90   4.98  24.0  \n",
       "1     17.8  396.90   9.14  21.6  \n",
       "2     17.8  392.83   4.03  34.7  \n",
       "3     18.7  394.63   2.94  33.4  \n",
       "4     18.7  396.90   5.33  36.2  "
      ]
     },
     "execution_count": 3,
     "metadata": {},
     "output_type": "execute_result"
    }
   ],
   "source": [
    "df.head()"
   ]
  },
  {
   "cell_type": "markdown",
   "metadata": {},
   "source": [
    "#### 타겟데이터(y) 분리\n",
    "<img src=\"./image/07.png\" height=\"300px\" width=\"300px\">"
   ]
  },
  {
   "cell_type": "code",
   "execution_count": 7,
   "metadata": {
    "ExecuteTime": {
     "end_time": "2022-10-31T18:45:11.634684Z",
     "start_time": "2022-10-31T18:45:11.626644Z"
    }
   },
   "outputs": [],
   "source": [
    "# X, y 분리\n",
    "y = df['y']\n",
    "X = df.drop('y', axis=1) # 열방향으로 작업하면서 이름값이 y이면 제외하고 나머지를 X로 저장"
   ]
  },
  {
   "cell_type": "markdown",
   "metadata": {},
   "source": [
    "#### train test split\n",
    "<img src=\"./image/08.png\" height=\"300px\" width=\"300px\">"
   ]
  },
  {
   "cell_type": "code",
   "execution_count": 11,
   "metadata": {
    "ExecuteTime": {
     "end_time": "2022-10-31T18:45:35.894156Z",
     "start_time": "2022-10-31T18:45:35.881663Z"
    }
   },
   "outputs": [],
   "source": [
    "# 데이터셋 분리\n",
    "from sklearn.model_selection import train_test_split\n",
    "X_train, X_test, y_train, y_test = train_test_split(X, y) # X. y 전달받아 평가를 위한 test 데이터 생성\n",
    "# X 값 먼저 train 먼저\n",
    "# 학습 75% 테스트 25%\n"
   ]
  },
  {
   "cell_type": "markdown",
   "metadata": {},
   "source": [
    "#### 모델생성\n",
    "<img src=\"./image/09.png\" height=\"400px\" width=\"900px\">"
   ]
  },
  {
   "cell_type": "code",
   "execution_count": 9,
   "metadata": {
    "ExecuteTime": {
     "end_time": "2022-10-31T18:45:45.609850Z",
     "start_time": "2022-10-31T18:45:45.565954Z"
    }
   },
   "outputs": [],
   "source": [
    "# 모델 정의\n",
    "from sklearn.linear_model import LinearRegression\n",
    "model = LinearRegression() # 모델을 객체 형태로 만든다"
   ]
  },
  {
   "cell_type": "markdown",
   "metadata": {},
   "source": [
    "#### 모델학습\n",
    "<img src=\"./image/10.png\" height=\"400px\" width=\"900px\">"
   ]
  },
  {
   "cell_type": "code",
   "execution_count": 12,
   "metadata": {
    "ExecuteTime": {
     "end_time": "2022-10-31T18:45:51.922775Z",
     "start_time": "2022-10-31T18:45:51.903974Z"
    }
   },
   "outputs": [
    {
     "data": {
      "text/html": [
       "<style>#sk-container-id-1 {color: black;background-color: white;}#sk-container-id-1 pre{padding: 0;}#sk-container-id-1 div.sk-toggleable {background-color: white;}#sk-container-id-1 label.sk-toggleable__label {cursor: pointer;display: block;width: 100%;margin-bottom: 0;padding: 0.3em;box-sizing: border-box;text-align: center;}#sk-container-id-1 label.sk-toggleable__label-arrow:before {content: \"▸\";float: left;margin-right: 0.25em;color: #696969;}#sk-container-id-1 label.sk-toggleable__label-arrow:hover:before {color: black;}#sk-container-id-1 div.sk-estimator:hover label.sk-toggleable__label-arrow:before {color: black;}#sk-container-id-1 div.sk-toggleable__content {max-height: 0;max-width: 0;overflow: hidden;text-align: left;background-color: #f0f8ff;}#sk-container-id-1 div.sk-toggleable__content pre {margin: 0.2em;color: black;border-radius: 0.25em;background-color: #f0f8ff;}#sk-container-id-1 input.sk-toggleable__control:checked~div.sk-toggleable__content {max-height: 200px;max-width: 100%;overflow: auto;}#sk-container-id-1 input.sk-toggleable__control:checked~label.sk-toggleable__label-arrow:before {content: \"▾\";}#sk-container-id-1 div.sk-estimator input.sk-toggleable__control:checked~label.sk-toggleable__label {background-color: #d4ebff;}#sk-container-id-1 div.sk-label input.sk-toggleable__control:checked~label.sk-toggleable__label {background-color: #d4ebff;}#sk-container-id-1 input.sk-hidden--visually {border: 0;clip: rect(1px 1px 1px 1px);clip: rect(1px, 1px, 1px, 1px);height: 1px;margin: -1px;overflow: hidden;padding: 0;position: absolute;width: 1px;}#sk-container-id-1 div.sk-estimator {font-family: monospace;background-color: #f0f8ff;border: 1px dotted black;border-radius: 0.25em;box-sizing: border-box;margin-bottom: 0.5em;}#sk-container-id-1 div.sk-estimator:hover {background-color: #d4ebff;}#sk-container-id-1 div.sk-parallel-item::after {content: \"\";width: 100%;border-bottom: 1px solid gray;flex-grow: 1;}#sk-container-id-1 div.sk-label:hover label.sk-toggleable__label {background-color: #d4ebff;}#sk-container-id-1 div.sk-serial::before {content: \"\";position: absolute;border-left: 1px solid gray;box-sizing: border-box;top: 0;bottom: 0;left: 50%;z-index: 0;}#sk-container-id-1 div.sk-serial {display: flex;flex-direction: column;align-items: center;background-color: white;padding-right: 0.2em;padding-left: 0.2em;position: relative;}#sk-container-id-1 div.sk-item {position: relative;z-index: 1;}#sk-container-id-1 div.sk-parallel {display: flex;align-items: stretch;justify-content: center;background-color: white;position: relative;}#sk-container-id-1 div.sk-item::before, #sk-container-id-1 div.sk-parallel-item::before {content: \"\";position: absolute;border-left: 1px solid gray;box-sizing: border-box;top: 0;bottom: 0;left: 50%;z-index: -1;}#sk-container-id-1 div.sk-parallel-item {display: flex;flex-direction: column;z-index: 1;position: relative;background-color: white;}#sk-container-id-1 div.sk-parallel-item:first-child::after {align-self: flex-end;width: 50%;}#sk-container-id-1 div.sk-parallel-item:last-child::after {align-self: flex-start;width: 50%;}#sk-container-id-1 div.sk-parallel-item:only-child::after {width: 0;}#sk-container-id-1 div.sk-dashed-wrapped {border: 1px dashed gray;margin: 0 0.4em 0.5em 0.4em;box-sizing: border-box;padding-bottom: 0.4em;background-color: white;}#sk-container-id-1 div.sk-label label {font-family: monospace;font-weight: bold;display: inline-block;line-height: 1.2em;}#sk-container-id-1 div.sk-label-container {text-align: center;}#sk-container-id-1 div.sk-container {/* jupyter's `normalize.less` sets `[hidden] { display: none; }` but bootstrap.min.css set `[hidden] { display: none !important; }` so we also need the `!important` here to be able to override the default hidden behavior on the sphinx rendered scikit-learn.org. See: https://github.com/scikit-learn/scikit-learn/issues/21755 */display: inline-block !important;position: relative;}#sk-container-id-1 div.sk-text-repr-fallback {display: none;}</style><div id=\"sk-container-id-1\" class=\"sk-top-container\"><div class=\"sk-text-repr-fallback\"><pre>LinearRegression()</pre><b>In a Jupyter environment, please rerun this cell to show the HTML representation or trust the notebook. <br />On GitHub, the HTML representation is unable to render, please try loading this page with nbviewer.org.</b></div><div class=\"sk-container\" hidden><div class=\"sk-item\"><div class=\"sk-estimator sk-toggleable\"><input class=\"sk-toggleable__control sk-hidden--visually\" id=\"sk-estimator-id-1\" type=\"checkbox\" checked><label for=\"sk-estimator-id-1\" class=\"sk-toggleable__label sk-toggleable__label-arrow\">LinearRegression</label><div class=\"sk-toggleable__content\"><pre>LinearRegression()</pre></div></div></div></div></div>"
      ],
      "text/plain": [
       "LinearRegression()"
      ]
     },
     "execution_count": 12,
     "metadata": {},
     "output_type": "execute_result"
    }
   ],
   "source": [
    "# 모델 학습\n",
    "model.fit(X_train, y_train) # 모델에서 사용가능한 기능 중 하나 학습에 해당하는 메소드가 fit"
   ]
  },
  {
   "cell_type": "markdown",
   "metadata": {},
   "source": [
    "#### 모델 평가\n",
    "<img src=\"./image/11.png\" height=\"400px\" width=\"900px\">"
   ]
  },
  {
   "cell_type": "code",
   "execution_count": 14,
   "metadata": {},
   "outputs": [],
   "source": [
    "# 모델 예측\n",
    "pred = model.predict(X_test)"
   ]
  },
  {
   "cell_type": "code",
   "execution_count": 23,
   "metadata": {
    "ExecuteTime": {
     "end_time": "2022-10-31T18:46:01.378390Z",
     "start_time": "2022-10-31T18:46:01.366072Z"
    }
   },
   "outputs": [
    {
     "name": "stdout",
     "output_type": "stream",
     "text": [
      "R2 score : 0.7296253154350505\n",
      "RMSE : 4.990442342337215\n"
     ]
    }
   ],
   "source": [
    "# 모델 평가\n",
    "from sklearn.metrics import r2_score, mean_squared_error\n",
    "print(f'R2 score : {r2_score(y_test, pred)}')\n",
    "print(f'RMSE : {mean_squared_error(y_test, pred, squared=False)}')"
   ]
  },
  {
   "cell_type": "code",
   "execution_count": null,
   "metadata": {},
   "outputs": [],
   "source": [
    "df = pd.read_csv('./data/boston.csv')\n",
    "y = df['y']\n",
    "X = df.drop('y', axis=1)\n",
    "X_train, X_test, y_train, y_test = train_test_split(X, y)\n",
    "model = LinearRegression()\n",
    "model.fit(X_train, y_train)\n",
    "pred = model.predict(X_test)\n",
    "print(f'R2 score : {r2_score(y_test, pred)}')\n",
    "print(f'RMSE : {mean_squared_error(y_test, pred, squared=False)}')"
   ]
  }
 ],
 "metadata": {
  "kernelspec": {
   "display_name": "Python 3 (ipykernel)",
   "language": "python",
   "name": "python3"
  },
  "language_info": {
   "codemirror_mode": {
    "name": "ipython",
    "version": 3
   },
   "file_extension": ".py",
   "mimetype": "text/x-python",
   "name": "python",
   "nbconvert_exporter": "python",
   "pygments_lexer": "ipython3",
   "version": "3.10.9"
  },
  "toc": {
   "base_numbering": 1,
   "nav_menu": {},
   "number_sections": true,
   "sideBar": true,
   "skip_h1_title": true,
   "title_cell": "Table of Contents",
   "title_sidebar": "Contents",
   "toc_cell": false,
   "toc_position": {},
   "toc_section_display": true,
   "toc_window_display": false
  },
  "varInspector": {
   "cols": {
    "lenName": 16,
    "lenType": 16,
    "lenVar": 40
   },
   "kernels_config": {
    "python": {
     "delete_cmd_postfix": "",
     "delete_cmd_prefix": "del ",
     "library": "var_list.py",
     "varRefreshCmd": "print(var_dic_list())"
    },
    "r": {
     "delete_cmd_postfix": ") ",
     "delete_cmd_prefix": "rm(",
     "library": "var_list.r",
     "varRefreshCmd": "cat(var_dic_list()) "
    }
   },
   "types_to_exclude": [
    "module",
    "function",
    "builtin_function_or_method",
    "instance",
    "_Feature"
   ],
   "window_display": false
  }
 },
 "nbformat": 4,
 "nbformat_minor": 2
}
