{
 "cells": [
  {
   "cell_type": "markdown",
   "id": "445fddd2",
   "metadata": {},
   "source": [
    "# 정규화 모델\n",
    "> 일반적으로 샘플 수가 변수 갯수보다 적거나 크게 많지 않다면 회귀모델은 **과적합(overfitting)** 되는 경향이 있습니다.  \n",
    "회귀모델은 종속변수와 큰 관계가 없는 변수를 없애 주지 못함(수작업 필요).   \n",
    "이를 해결하기 위하여 설명 변수가 너무 많으면 정규화(규제)를 통해 이를 해결합니다.  \n",
    "최소자승법은 $\\beta_i = 0$을 만들어주지 못함.  \n",
    "\n",
    "### 과적합(overfitting)  \n",
    "> 학습 데이터로 학습한 모델의 테스트 데이터 예측 성능이 떨어지는 경우  \n",
    "모델이 일반화를 잘 못 시키는 상태. 실제 데이터 예측을 잘 못한다고 해석이 가능합니다.\n",
    "\n",
    "<img src=\"./image/16.png\">"
   ]
  },
  {
   "cell_type": "markdown",
   "id": "3416f728",
   "metadata": {},
   "source": [
    "### Lasso 모델\n",
    "기존 회귀모델의 비용함수에 설명변수의 베타 절대값의 합 $\\lambda\\sum_{j=1}^p\\left\\vert\\beta_j\\right\\vert$를 패널티 식으로 추가.\n",
    "$$J = \\sum_{i=1}^n{(y_i - \\hat y_i)^2} + \\lambda\\sum_{j=1}^p\\left\\vert\\beta_j\\right\\vert$$  \n",
    "\n",
    "> $n$ : 샘플갯수  \n",
    "> $p$ : 설명변수갯수  \n",
    "\n",
    "모델이 최적화 과정을 거치면서 비용함수의 최소값이 패널티 영역과 만나는 지점에서 정규화 모델의 최적이 이루어집니다.  \n",
    "회귀모델의 오차와 베타 절대값합에 해당하는 값을 동시에 최소화 시키는 방법으로 학습을 진행합니다.  \n",
    "불필요하게 설명변수의 갯수가 많을 경우 **회귀계수의 크기를 0으로 만들면서** 최적을 찾아갑니다.  \n",
    "많은 변수에 큰 패널티를 주며 독립변수의 갯수가 ridge 모델보다 상대적으로 많은 경우 Lasso 모델을 사용합니다.\n",
    "<img src=\"./image/17.png\">"
   ]
  },
  {
   "cell_type": "markdown",
   "id": "b531197a",
   "metadata": {},
   "source": [
    "### Ridge 모델\n",
    "기존 회귀모델의 비용함수에 설명변수의 베타의 제곱 합을 패널티로 $\\lambda\\sum_{j=1}^p\\beta_j^2$를 패널티 식으로 추가\n",
    "$$ J = \\sum_{i=1}^n{(y_i - \\hat y_i)^2} + \\lambda\\sum_{j=1}^p\\beta_j^2$$  \n",
    "\n",
    "> $n$ : 샘플갯수  \n",
    "> $p$ : 설명변수갯수  \n",
    "\n",
    "회귀모델의 오차와 베타 제곱합에 해당하는 값을 동시에 최소화 시키면서 학습을 진행합니다.  \n",
    "불필요하게 과대계상 된 변수의 **회귀계수의 크기를 감소**시키는 방법으로 학습을 진행합니다.    \n",
    "많은 변수에 패널티를 주며 독립변수의 갯수가 Lasso 모델보다 상대적으로 작은 경우 Ridge 모델을 사용합니다.\n",
    "<img src=\"./image/18.png\">"
   ]
  },
  {
   "cell_type": "markdown",
   "id": "124826af",
   "metadata": {},
   "source": [
    "### 정규화 모델 실습"
   ]
  },
  {
   "cell_type": "code",
   "execution_count": 1,
   "id": "2ff2650f",
   "metadata": {},
   "outputs": [],
   "source": [
    "# 모델 import\n",
    "from sklearn.linear_model import Lasso, Ridge"
   ]
  },
  {
   "cell_type": "markdown",
   "id": "e2fdd2bc",
   "metadata": {},
   "source": [
    "#### Ridge model"
   ]
  },
  {
   "cell_type": "code",
   "execution_count": 5,
   "id": "8c9661e8",
   "metadata": {},
   "outputs": [],
   "source": [
    "import pandas as pd\n",
    "from sklearn.model_selection import train_test_split"
   ]
  },
  {
   "cell_type": "code",
   "execution_count": 3,
   "id": "319ad38c",
   "metadata": {},
   "outputs": [],
   "source": [
    "# boston 데이터 확인\n",
    "df = pd.read_csv('./data/boston.csv')"
   ]
  },
  {
   "cell_type": "code",
   "execution_count": 4,
   "id": "1a6c4e29",
   "metadata": {},
   "outputs": [],
   "source": [
    "# 타겟데이터 분할\n",
    "y = df['y']\n",
    "X = df.drop('y', axis=1)"
   ]
  },
  {
   "cell_type": "code",
   "execution_count": 6,
   "id": "c4668ac9",
   "metadata": {},
   "outputs": [],
   "source": [
    "# 훈련셋과 테스트셋 분리\n",
    "X_train, X_test, y_train, y_test = train_test_split(X, y, test_size=0.3, random_state=42)"
   ]
  },
  {
   "cell_type": "code",
   "execution_count": 19,
   "id": "fa54aa35",
   "metadata": {},
   "outputs": [],
   "source": [
    "# 모델 정의\n",
    "ridge = Ridge(alpha=10)"
   ]
  },
  {
   "cell_type": "code",
   "execution_count": 20,
   "id": "4252d812",
   "metadata": {},
   "outputs": [
    {
     "data": {
      "text/html": [
       "<style>#sk-container-id-2 {color: black;background-color: white;}#sk-container-id-2 pre{padding: 0;}#sk-container-id-2 div.sk-toggleable {background-color: white;}#sk-container-id-2 label.sk-toggleable__label {cursor: pointer;display: block;width: 100%;margin-bottom: 0;padding: 0.3em;box-sizing: border-box;text-align: center;}#sk-container-id-2 label.sk-toggleable__label-arrow:before {content: \"▸\";float: left;margin-right: 0.25em;color: #696969;}#sk-container-id-2 label.sk-toggleable__label-arrow:hover:before {color: black;}#sk-container-id-2 div.sk-estimator:hover label.sk-toggleable__label-arrow:before {color: black;}#sk-container-id-2 div.sk-toggleable__content {max-height: 0;max-width: 0;overflow: hidden;text-align: left;background-color: #f0f8ff;}#sk-container-id-2 div.sk-toggleable__content pre {margin: 0.2em;color: black;border-radius: 0.25em;background-color: #f0f8ff;}#sk-container-id-2 input.sk-toggleable__control:checked~div.sk-toggleable__content {max-height: 200px;max-width: 100%;overflow: auto;}#sk-container-id-2 input.sk-toggleable__control:checked~label.sk-toggleable__label-arrow:before {content: \"▾\";}#sk-container-id-2 div.sk-estimator input.sk-toggleable__control:checked~label.sk-toggleable__label {background-color: #d4ebff;}#sk-container-id-2 div.sk-label input.sk-toggleable__control:checked~label.sk-toggleable__label {background-color: #d4ebff;}#sk-container-id-2 input.sk-hidden--visually {border: 0;clip: rect(1px 1px 1px 1px);clip: rect(1px, 1px, 1px, 1px);height: 1px;margin: -1px;overflow: hidden;padding: 0;position: absolute;width: 1px;}#sk-container-id-2 div.sk-estimator {font-family: monospace;background-color: #f0f8ff;border: 1px dotted black;border-radius: 0.25em;box-sizing: border-box;margin-bottom: 0.5em;}#sk-container-id-2 div.sk-estimator:hover {background-color: #d4ebff;}#sk-container-id-2 div.sk-parallel-item::after {content: \"\";width: 100%;border-bottom: 1px solid gray;flex-grow: 1;}#sk-container-id-2 div.sk-label:hover label.sk-toggleable__label {background-color: #d4ebff;}#sk-container-id-2 div.sk-serial::before {content: \"\";position: absolute;border-left: 1px solid gray;box-sizing: border-box;top: 0;bottom: 0;left: 50%;z-index: 0;}#sk-container-id-2 div.sk-serial {display: flex;flex-direction: column;align-items: center;background-color: white;padding-right: 0.2em;padding-left: 0.2em;position: relative;}#sk-container-id-2 div.sk-item {position: relative;z-index: 1;}#sk-container-id-2 div.sk-parallel {display: flex;align-items: stretch;justify-content: center;background-color: white;position: relative;}#sk-container-id-2 div.sk-item::before, #sk-container-id-2 div.sk-parallel-item::before {content: \"\";position: absolute;border-left: 1px solid gray;box-sizing: border-box;top: 0;bottom: 0;left: 50%;z-index: -1;}#sk-container-id-2 div.sk-parallel-item {display: flex;flex-direction: column;z-index: 1;position: relative;background-color: white;}#sk-container-id-2 div.sk-parallel-item:first-child::after {align-self: flex-end;width: 50%;}#sk-container-id-2 div.sk-parallel-item:last-child::after {align-self: flex-start;width: 50%;}#sk-container-id-2 div.sk-parallel-item:only-child::after {width: 0;}#sk-container-id-2 div.sk-dashed-wrapped {border: 1px dashed gray;margin: 0 0.4em 0.5em 0.4em;box-sizing: border-box;padding-bottom: 0.4em;background-color: white;}#sk-container-id-2 div.sk-label label {font-family: monospace;font-weight: bold;display: inline-block;line-height: 1.2em;}#sk-container-id-2 div.sk-label-container {text-align: center;}#sk-container-id-2 div.sk-container {/* jupyter's `normalize.less` sets `[hidden] { display: none; }` but bootstrap.min.css set `[hidden] { display: none !important; }` so we also need the `!important` here to be able to override the default hidden behavior on the sphinx rendered scikit-learn.org. See: https://github.com/scikit-learn/scikit-learn/issues/21755 */display: inline-block !important;position: relative;}#sk-container-id-2 div.sk-text-repr-fallback {display: none;}</style><div id=\"sk-container-id-2\" class=\"sk-top-container\"><div class=\"sk-text-repr-fallback\"><pre>Ridge(alpha=10)</pre><b>In a Jupyter environment, please rerun this cell to show the HTML representation or trust the notebook. <br />On GitHub, the HTML representation is unable to render, please try loading this page with nbviewer.org.</b></div><div class=\"sk-container\" hidden><div class=\"sk-item\"><div class=\"sk-estimator sk-toggleable\"><input class=\"sk-toggleable__control sk-hidden--visually\" id=\"sk-estimator-id-2\" type=\"checkbox\" checked><label for=\"sk-estimator-id-2\" class=\"sk-toggleable__label sk-toggleable__label-arrow\">Ridge</label><div class=\"sk-toggleable__content\"><pre>Ridge(alpha=10)</pre></div></div></div></div></div>"
      ],
      "text/plain": [
       "Ridge(alpha=10)"
      ]
     },
     "execution_count": 20,
     "metadata": {},
     "output_type": "execute_result"
    }
   ],
   "source": [
    "# 모델 학습\n",
    "ridge.fit(X_train, y_train)"
   ]
  },
  {
   "cell_type": "code",
   "execution_count": 21,
   "id": "1049e884",
   "metadata": {},
   "outputs": [],
   "source": [
    "# 모델 예측\n",
    "ridge_pred = ridge.predict(X_test)"
   ]
  },
  {
   "cell_type": "code",
   "execution_count": 22,
   "id": "2a51f884",
   "metadata": {},
   "outputs": [
    {
     "name": "stdout",
     "output_type": "stream",
     "text": [
      "0.6954181695183629\n",
      "4.763962116024234\n"
     ]
    }
   ],
   "source": [
    "# 모델 평가\n",
    "from sklearn.metrics import r2_score, mean_squared_error\n",
    "print(r2_score(y_test, ridge_pred))\n",
    "print(mean_squared_error(y_test, ridge_pred, squared=False))"
   ]
  },
  {
   "cell_type": "code",
   "execution_count": null,
   "id": "bfa81861",
   "metadata": {},
   "outputs": [],
   "source": [
    "'''linear\n",
    "0.7112260057484923\n",
    "4.638689926172829\n",
    "디폴트 릿지 모델\n",
    "0.7041586727559439\n",
    "4.695109486461522\n",
    "패널티를 크게 준 모델\n",
    "0.6954181695183629\n",
    "4.763962116024234\n",
    "'''\n",
    "# 릿지모델을 사용한건 현재 오버피팅 규제화모델의 예측 성능이 오히려 떨어짐\n",
    "# 오버피팅이 아닌 언더핏팅임을 평가지표를 통해 확인을 할 수 있음."
   ]
  },
  {
   "cell_type": "code",
   "execution_count": 14,
   "id": "0e85ea3e",
   "metadata": {},
   "outputs": [
    {
     "data": {
      "text/plain": [
       "(26.76454408934428,\n",
       " array([-0.1284272 ,  0.03695233,  0.01791436,  2.93269454, -7.84806046,\n",
       "         4.06357438, -0.01724174, -1.27176091,  0.22549398, -0.00938149,\n",
       "        -0.82710453,  0.01198771, -0.56347377]))"
      ]
     },
     "execution_count": 14,
     "metadata": {},
     "output_type": "execute_result"
    }
   ],
   "source": [
    "# 모델 계수 확인\n",
    "ridge.intercept_, ridge.coef_"
   ]
  },
  {
   "cell_type": "code",
   "execution_count": 15,
   "id": "a603e68b",
   "metadata": {},
   "outputs": [],
   "source": [
    "# 기존모델에서의 회귀계수 와 ridge모델 계수 플로팅\n",
    "import matplotlib.pyplot as plt"
   ]
  },
  {
   "cell_type": "code",
   "execution_count": 17,
   "id": "381d1782",
   "metadata": {},
   "outputs": [],
   "source": [
    "from sklearn.linear_model import LinearRegression\n",
    "lr = LinearRegression()\n",
    "lr.fit(X_train, y_train)\n",
    "lr_pred = lr.predict(X_test)"
   ]
  },
  {
   "cell_type": "code",
   "execution_count": 18,
   "id": "9fd740e8",
   "metadata": {},
   "outputs": [
    {
     "data": {
      "text/plain": [
       "<BarContainer object of 13 artists>"
      ]
     },
     "execution_count": 18,
     "metadata": {},
     "output_type": "execute_result"
    },
    {
     "data": {
      "image/png": "[encoded data removed]",
      "text/plain": [
       "<Figure size 640x480 with 1 Axes>"
      ]
     },
     "metadata": {},
     "output_type": "display_data"
    }
   ],
   "source": [
    "plt.bar(X_train.columns, lr.coef_)\n",
    "plt.bar(X_train.columns, ridge.coef_)"
   ]
  }
 ],
 "metadata": {
  "kernelspec": {
   "display_name": "Python 3 (ipykernel)",
   "language": "python",
   "name": "python3"
  },
  "language_info": {
   "codemirror_mode": {
    "name": "ipython",
    "version": 3
   },
   "file_extension": ".py",
   "mimetype": "text/x-python",
   "name": "python",
   "nbconvert_exporter": "python",
   "pygments_lexer": "ipython3",
   "version": "3.10.9"
  },
  "toc": {
   "base_numbering": 1,
   "nav_menu": {},
   "number_sections": true,
   "sideBar": false,
   "skip_h1_title": true,
   "title_cell": "Table of Contents",
   "title_sidebar": "Contents",
   "toc_cell": false,
   "toc_position": {},
   "toc_section_display": true,
   "toc_window_display": false
  },
  "varInspector": {
   "cols": {
    "lenName": 16,
    "lenType": 16,
    "lenVar": 40
   },
   "kernels_config": {
    "python": {
     "delete_cmd_postfix": "",
     "delete_cmd_prefix": "del ",
     "library": "var_list.py",
     "varRefreshCmd": "print(var_dic_list())"
    },
    "r": {
     "delete_cmd_postfix": ") ",
     "delete_cmd_prefix": "rm(",
     "library": "var_list.r",
     "varRefreshCmd": "cat(var_dic_list()) "
    }
   },
   "types_to_exclude": [
    "module",
    "function",
    "builtin_function_or_method",
    "instance",
    "_Feature"
   ],
   "window_display": false
  }
 },
 "nbformat": 4,
 "nbformat_minor": 5
}
