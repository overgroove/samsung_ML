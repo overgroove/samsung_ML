{
 "cells": [
  {
   "cell_type": "markdown",
   "id": "445fddd2",
   "metadata": {},
   "source": [
    "# 정규화 모델\n",
    "> 일반적으로 샘플 수가 변수 갯수보다 적거나 크게 많지 않다면 회귀모델은 **과적합(overfitting)** 되는 경향이 있습니다.  \n",
    "회귀모델은 종속변수와 큰 관계가 없는 변수를 없애 주지 못함(수작업 필요).   \n",
    "이를 해결하기 위하여 설명 변수가 너무 많으면 정규화(규제)를 통해 이를 해결합니다.  \n",
    "최소자승법은 $\\beta_i = 0$을 만들어주지 못함.  \n",
    "\n",
    "### 과적합(overfitting)  \n",
    "> 학습 데이터로 학습한 모델의 테스트 데이터 예측 성능이 떨어지는 경우  \n",
    "모델이 일반화를 잘 못 시키는 상태. 실제 데이터 예측을 잘 못한다고 해석이 가능합니다.\n",
    "\n",
    "<img src=\"./image/16.png\">"
   ]
  },
  {
   "cell_type": "markdown",
   "id": "3416f728",
   "metadata": {},
   "source": [
    "### Lasso 모델\n",
    "기존 회귀모델의 비용함수에 설명변수의 베타 절대값의 합 $\\lambda\\sum_{j=1}^p\\left\\vert\\beta_j\\right\\vert$를 패널티 식으로 추가.\n",
    "$$J = \\sum_{i=1}^n{(y_i - \\hat y_i)^2} + \\lambda\\sum_{j=1}^p\\left\\vert\\beta_j\\right\\vert$$  \n",
    "\n",
    "> $n$ : 샘플갯수  \n",
    "> $p$ : 설명변수갯수  \n",
    "\n",
    "모델이 최적화 과정을 거치면서 비용함수의 최소값이 패널티 영역과 만나는 지점에서 정규화 모델의 최적이 이루어집니다.  \n",
    "회귀모델의 오차와 베타 절대값합에 해당하는 값을 동시에 최소화 시키는 방법으로 학습을 진행합니다.  \n",
    "불필요하게 설명변수의 갯수가 많을 경우 **회귀계수의 크기를 0으로 만들면서** 최적을 찾아갑니다.  \n",
    "많은 변수에 큰 패널티를 주며 독립변수의 갯수가 ridge 모델보다 상대적으로 많은 경우 Lasso 모델을 사용합니다.\n",
    "<img src=\"./image/17.png\">"
   ]
  },
  {
   "cell_type": "markdown",
   "id": "b531197a",
   "metadata": {},
   "source": [
    "### Ridge 모델\n",
    "기존 회귀모델의 비용함수에 설명변수의 베타의 제곱 합을 패널티로 $\\lambda\\sum_{j=1}^p\\beta_j^2$를 패널티 식으로 추가\n",
    "$$ J = \\sum_{i=1}^n{(y_i - \\hat y_i)^2} + \\lambda\\sum_{j=1}^p\\beta_j^2$$  \n",
    "\n",
    "> $n$ : 샘플갯수  \n",
    "> $p$ : 설명변수갯수  \n",
    "\n",
    "회귀모델의 오차와 베타 제곱합에 해당하는 값을 동시에 최소화 시키면서 학습을 진행합니다.  \n",
    "불필요하게 과대계상 된 변수의 **회귀계수의 크기를 감소**시키는 방법으로 학습을 진행합니다.    \n",
    "많은 변수에 패널티를 주며 독립변수의 갯수가 Lasso 모델보다 상대적으로 작은 경우 Ridge 모델을 사용합니다.\n",
    "<img src=\"./image/18.png\">"
   ]
  },
  {
   "cell_type": "markdown",
   "id": "124826af",
   "metadata": {},
   "source": [
    "### 정규화 모델 실습"
   ]
  },
  {
   "cell_type": "code",
   "execution_count": null,
   "id": "2ff2650f",
   "metadata": {},
   "outputs": [],
   "source": [
    "# 모델 import\n",
    "import pandas as pd\n",
    "from sklearn.linear_model import Ridge"
   ]
  },
  {
   "cell_type": "markdown",
   "id": "e2fdd2bc",
   "metadata": {},
   "source": [
    "#### Ridge model"
   ]
  },
  {
   "cell_type": "code",
   "execution_count": null,
   "id": "319ad38c",
   "metadata": {},
   "outputs": [],
   "source": [
    "# boston 데이터 확인\n",
    "df = pd.read_csv('./data/boston.csv')"
   ]
  },
  {
   "cell_type": "code",
   "execution_count": null,
   "id": "1a6c4e29",
   "metadata": {},
   "outputs": [],
   "source": [
    "# 타겟데이터 분할\n",
    "y = df['y']\n",
    "X = df.drop('y', axis=1)"
   ]
  },
  {
   "cell_type": "code",
   "execution_count": null,
   "id": "c4668ac9",
   "metadata": {},
   "outputs": [],
   "source": [
    "# 훈련셋과 테스트셋 분리\n",
    "from sklearn.model_selection import train_test_split\n",
    "X_train, X_test, y_train, y_test = train_test_split(X, y, test_size=0.3, random_state=42)"
   ]
  },
  {
   "cell_type": "code",
   "execution_count": null,
   "id": "fa54aa35",
   "metadata": {},
   "outputs": [],
   "source": [
    "# 모델 정의\n",
    "rg = Ridge(alpha=10)"
   ]
  },
  {
   "cell_type": "code",
   "execution_count": null,
   "id": "4252d812",
   "metadata": {},
   "outputs": [],
   "source": [
    "# 모델 학습\n",
    "rg.fit(X_train, y_train)"
   ]
  },
  {
   "cell_type": "code",
   "execution_count": null,
   "id": "1049e884",
   "metadata": {},
   "outputs": [],
   "source": [
    "# 모델 예측\n",
    "rg_pred = rg.predict(X_test)"
   ]
  },
  {
   "cell_type": "code",
   "execution_count": null,
   "id": "2a51f884",
   "metadata": {},
   "outputs": [],
   "source": [
    "# 모델 평가\n",
    "from sklearn.metrics import r2_score, mean_squared_error\n",
    "print(r2_score(y_test, rg_pred))\n",
    "print(mean_squared_error(y_test, rg_pred, squared=False))"
   ]
  },
  {
   "cell_type": "code",
   "execution_count": null,
   "id": "e09aa748",
   "metadata": {},
   "outputs": [],
   "source": [
    "'''lr\n",
    "R2 score : 0.7112260057484925\n",
    "MAE : 3.1627098714574147\n",
    "RMSE : 4.638689926172827\n",
    "'''"
   ]
  },
  {
   "cell_type": "code",
   "execution_count": null,
   "id": "0e85ea3e",
   "metadata": {},
   "outputs": [],
   "source": [
    "# 모델 계수 확인\n",
    "rg.intercept_, rg.coef_"
   ]
  },
  {
   "cell_type": "code",
   "execution_count": null,
   "id": "a603e68b",
   "metadata": {},
   "outputs": [],
   "source": [
    "# 기존모델에서의 회귀계수 와 ridge모델 계수 플로팅\n",
    "from sklearn.linear_model import LinearRegression\n",
    "lr = LinearRegression()"
   ]
  },
  {
   "cell_type": "code",
   "execution_count": null,
   "id": "0e94840f",
   "metadata": {},
   "outputs": [],
   "source": [
    "lr.fit(X_train, y_train)"
   ]
  },
  {
   "cell_type": "code",
   "execution_count": null,
   "id": "69ab2c9e",
   "metadata": {},
   "outputs": [],
   "source": [
    "lr_pred = lr.predict(X_test)"
   ]
  },
  {
   "cell_type": "code",
   "execution_count": null,
   "id": "13412b1e",
   "metadata": {},
   "outputs": [],
   "source": [
    "lr.intercept_, lr.coef_"
   ]
  },
  {
   "cell_type": "code",
   "execution_count": null,
   "id": "b74e427f",
   "metadata": {},
   "outputs": [],
   "source": [
    "import matplotlib.pyplot as plt"
   ]
  },
  {
   "cell_type": "code",
   "execution_count": null,
   "id": "2d349ee8",
   "metadata": {},
   "outputs": [],
   "source": [
    "plt.figure(figsize=(10, 5))\n",
    "plt.bar(X_train.columns, lr.coef_)\n",
    "plt.bar(X_train.columns, rg.coef_)\n",
    "plt.show()"
   ]
  }
 ],
 "metadata": {
  "kernelspec": {
   "display_name": "Python 3 (ipykernel)",
   "language": "python",
   "name": "python3"
  },
  "language_info": {
   "codemirror_mode": {
    "name": "ipython",
    "version": 3
   },
   "file_extension": ".py",
   "mimetype": "text/x-python",
   "name": "python",
   "nbconvert_exporter": "python",
   "pygments_lexer": "ipython3",
   "version": "3.10.9"
  },
  "toc": {
   "base_numbering": 1,
   "nav_menu": {},
   "number_sections": true,
   "sideBar": false,
   "skip_h1_title": true,
   "title_cell": "Table of Contents",
   "title_sidebar": "Contents",
   "toc_cell": false,
   "toc_position": {},
   "toc_section_display": true,
   "toc_window_display": false
  },
  "varInspector": {
   "cols": {
    "lenName": 16,
    "lenType": 16,
    "lenVar": 40
   },
   "kernels_config": {
    "python": {
     "delete_cmd_postfix": "",
     "delete_cmd_prefix": "del ",
     "library": "var_list.py",
     "varRefreshCmd": "print(var_dic_list())"
    },
    "r": {
     "delete_cmd_postfix": ") ",
     "delete_cmd_prefix": "rm(",
     "library": "var_list.r",
     "varRefreshCmd": "cat(var_dic_list()) "
    }
   },
   "types_to_exclude": [
    "module",
    "function",
    "builtin_function_or_method",
    "instance",
    "_Feature"
   ],
   "window_display": false
  }
 },
 "nbformat": 4,
 "nbformat_minor": 5
}
